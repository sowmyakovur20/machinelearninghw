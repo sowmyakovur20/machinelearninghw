{
  "nbformat": 4,
  "nbformat_minor": 0,
  "metadata": {
    "colab": {
      "name": "MLHW2.ipynb",
      "provenance": [],
      "mount_file_id": "1rDel_b_JR67Vk4v4S579UHd2sdtpMg73",
      "authorship_tag": "ABX9TyNgnuJ+y5pZfVqChiZZlFf7",
      "include_colab_link": true
    },
    "kernelspec": {
      "name": "python3",
      "display_name": "Python 3"
    }
  },
  "cells": [
    {
      "cell_type": "markdown",
      "metadata": {
        "id": "view-in-github",
        "colab_type": "text"
      },
      "source": [
        "<a href=\"https://colab.research.google.com/github/sowmyakovur20/machinelearninghw/blob/main/MLHW2.ipynb\" target=\"_parent\"><img src=\"https://colab.research.google.com/assets/colab-badge.svg\" alt=\"Open In Colab\"/></a>"
      ]
    },
    {
      "cell_type": "code",
      "metadata": {
        "id": "7wvbncmqGWrp"
      },
      "source": [
        "import numpy as np;\n",
        "import pandas as pd;\n",
        "import matplotlib.pyplot as plt;\n",
        "from sklearn.preprocessing import LabelEncoder;\n",
        "from sklearn import preprocessing,tree\n",
        "import seaborn as sns;\n",
        "from sklearn.linear_model import LogisticRegression\n",
        "from sklearn.tree import DecisionTreeClassifier\n",
        "from sklearn.feature_selection import RFE\n",
        "from sklearn.ensemble import ExtraTreesClassifier\n",
        "from sklearn.feature_selection import SelectKBest,  f_classif\n",
        "from sklearn.ensemble import RandomForestClassifier\n",
        "from sklearn.model_selection import cross_val_score\n",
        "import graphviz"
      ],
      "execution_count": 519,
      "outputs": []
    },
    {
      "cell_type": "code",
      "metadata": {
        "id": "iW7Lq6fZGfkM"
      },
      "source": [
        "%matplotlib inline"
      ],
      "execution_count": 520,
      "outputs": []
    },
    {
      "cell_type": "code",
      "metadata": {
        "id": "CyU8t_FQGhv5"
      },
      "source": [
        "train_df = pd.read_csv('/content/drive/MyDrive/Titanic/train.csv')\n",
        "test_df = pd.read_csv('/content/drive/MyDrive/Titanic/test.csv')"
      ],
      "execution_count": 521,
      "outputs": []
    },
    {
      "cell_type": "markdown",
      "metadata": {
        "id": "8NeeSeEmAjF2"
      },
      "source": [
        "**Task - 1**\n"
      ]
    },
    {
      "cell_type": "markdown",
      "metadata": {
        "id": "MRFpeyzMA3oQ"
      },
      "source": [
        "**Q1. Preprocessing**"
      ]
    },
    {
      "cell_type": "code",
      "metadata": {
        "colab": {
          "base_uri": "https://localhost:8080/"
        },
        "id": "rOno71v1GvCT",
        "outputId": "50848c24-e4f5-470e-b016-137273fbecc7"
      },
      "source": [
        "list(train_df)"
      ],
      "execution_count": 522,
      "outputs": [
        {
          "output_type": "execute_result",
          "data": {
            "text/plain": [
              "['PassengerId',\n",
              " 'Survived',\n",
              " 'Pclass',\n",
              " 'Name',\n",
              " 'Sex',\n",
              " 'Age',\n",
              " 'SibSp',\n",
              " 'Parch',\n",
              " 'Ticket',\n",
              " 'Fare',\n",
              " 'Cabin',\n",
              " 'Embarked']"
            ]
          },
          "metadata": {
            "tags": []
          },
          "execution_count": 522
        }
      ]
    },
    {
      "cell_type": "code",
      "metadata": {
        "colab": {
          "base_uri": "https://localhost:8080/",
          "height": 255
        },
        "id": "YHPPX7dRGyAu",
        "outputId": "94f5f5a3-b7a4-440c-c78c-27abf39d71e1"
      },
      "source": [
        "train_df.head()"
      ],
      "execution_count": 523,
      "outputs": [
        {
          "output_type": "execute_result",
          "data": {
            "text/html": [
              "<div>\n",
              "<style scoped>\n",
              "    .dataframe tbody tr th:only-of-type {\n",
              "        vertical-align: middle;\n",
              "    }\n",
              "\n",
              "    .dataframe tbody tr th {\n",
              "        vertical-align: top;\n",
              "    }\n",
              "\n",
              "    .dataframe thead th {\n",
              "        text-align: right;\n",
              "    }\n",
              "</style>\n",
              "<table border=\"1\" class=\"dataframe\">\n",
              "  <thead>\n",
              "    <tr style=\"text-align: right;\">\n",
              "      <th></th>\n",
              "      <th>PassengerId</th>\n",
              "      <th>Survived</th>\n",
              "      <th>Pclass</th>\n",
              "      <th>Name</th>\n",
              "      <th>Sex</th>\n",
              "      <th>Age</th>\n",
              "      <th>SibSp</th>\n",
              "      <th>Parch</th>\n",
              "      <th>Ticket</th>\n",
              "      <th>Fare</th>\n",
              "      <th>Cabin</th>\n",
              "      <th>Embarked</th>\n",
              "    </tr>\n",
              "  </thead>\n",
              "  <tbody>\n",
              "    <tr>\n",
              "      <th>0</th>\n",
              "      <td>1</td>\n",
              "      <td>0</td>\n",
              "      <td>3</td>\n",
              "      <td>Braund, Mr. Owen Harris</td>\n",
              "      <td>male</td>\n",
              "      <td>22.0</td>\n",
              "      <td>1</td>\n",
              "      <td>0</td>\n",
              "      <td>A/5 21171</td>\n",
              "      <td>7.2500</td>\n",
              "      <td>NaN</td>\n",
              "      <td>S</td>\n",
              "    </tr>\n",
              "    <tr>\n",
              "      <th>1</th>\n",
              "      <td>2</td>\n",
              "      <td>1</td>\n",
              "      <td>1</td>\n",
              "      <td>Cumings, Mrs. John Bradley (Florence Briggs Th...</td>\n",
              "      <td>female</td>\n",
              "      <td>38.0</td>\n",
              "      <td>1</td>\n",
              "      <td>0</td>\n",
              "      <td>PC 17599</td>\n",
              "      <td>71.2833</td>\n",
              "      <td>C85</td>\n",
              "      <td>C</td>\n",
              "    </tr>\n",
              "    <tr>\n",
              "      <th>2</th>\n",
              "      <td>3</td>\n",
              "      <td>1</td>\n",
              "      <td>3</td>\n",
              "      <td>Heikkinen, Miss. Laina</td>\n",
              "      <td>female</td>\n",
              "      <td>26.0</td>\n",
              "      <td>0</td>\n",
              "      <td>0</td>\n",
              "      <td>STON/O2. 3101282</td>\n",
              "      <td>7.9250</td>\n",
              "      <td>NaN</td>\n",
              "      <td>S</td>\n",
              "    </tr>\n",
              "    <tr>\n",
              "      <th>3</th>\n",
              "      <td>4</td>\n",
              "      <td>1</td>\n",
              "      <td>1</td>\n",
              "      <td>Futrelle, Mrs. Jacques Heath (Lily May Peel)</td>\n",
              "      <td>female</td>\n",
              "      <td>35.0</td>\n",
              "      <td>1</td>\n",
              "      <td>0</td>\n",
              "      <td>113803</td>\n",
              "      <td>53.1000</td>\n",
              "      <td>C123</td>\n",
              "      <td>S</td>\n",
              "    </tr>\n",
              "    <tr>\n",
              "      <th>4</th>\n",
              "      <td>5</td>\n",
              "      <td>0</td>\n",
              "      <td>3</td>\n",
              "      <td>Allen, Mr. William Henry</td>\n",
              "      <td>male</td>\n",
              "      <td>35.0</td>\n",
              "      <td>0</td>\n",
              "      <td>0</td>\n",
              "      <td>373450</td>\n",
              "      <td>8.0500</td>\n",
              "      <td>NaN</td>\n",
              "      <td>S</td>\n",
              "    </tr>\n",
              "  </tbody>\n",
              "</table>\n",
              "</div>"
            ],
            "text/plain": [
              "   PassengerId  Survived  Pclass  ...     Fare Cabin  Embarked\n",
              "0            1         0       3  ...   7.2500   NaN         S\n",
              "1            2         1       1  ...  71.2833   C85         C\n",
              "2            3         1       3  ...   7.9250   NaN         S\n",
              "3            4         1       1  ...  53.1000  C123         S\n",
              "4            5         0       3  ...   8.0500   NaN         S\n",
              "\n",
              "[5 rows x 12 columns]"
            ]
          },
          "metadata": {
            "tags": []
          },
          "execution_count": 523
        }
      ]
    },
    {
      "cell_type": "code",
      "metadata": {
        "colab": {
          "base_uri": "https://localhost:8080/"
        },
        "id": "3Fi86e4sG1Rg",
        "outputId": "0473df31-fdea-4506-8ecf-b331983f7740"
      },
      "source": [
        "train_df.isnull().sum()"
      ],
      "execution_count": 524,
      "outputs": [
        {
          "output_type": "execute_result",
          "data": {
            "text/plain": [
              "PassengerId      0\n",
              "Survived         0\n",
              "Pclass           0\n",
              "Name             0\n",
              "Sex              0\n",
              "Age            177\n",
              "SibSp            0\n",
              "Parch            0\n",
              "Ticket           0\n",
              "Fare             0\n",
              "Cabin          687\n",
              "Embarked         2\n",
              "dtype: int64"
            ]
          },
          "metadata": {
            "tags": []
          },
          "execution_count": 524
        }
      ]
    },
    {
      "cell_type": "code",
      "metadata": {
        "colab": {
          "base_uri": "https://localhost:8080/"
        },
        "id": "4tHjLQY8G51-",
        "outputId": "8501da23-6234-4847-aa06-624b6b811a5e"
      },
      "source": [
        "test_df.isnull().sum()"
      ],
      "execution_count": 525,
      "outputs": [
        {
          "output_type": "execute_result",
          "data": {
            "text/plain": [
              "PassengerId      0\n",
              "Pclass           0\n",
              "Name             0\n",
              "Sex              0\n",
              "Age             86\n",
              "SibSp            0\n",
              "Parch            0\n",
              "Ticket           0\n",
              "Fare             1\n",
              "Cabin          327\n",
              "Embarked         0\n",
              "dtype: int64"
            ]
          },
          "metadata": {
            "tags": []
          },
          "execution_count": 525
        }
      ]
    },
    {
      "cell_type": "code",
      "metadata": {
        "colab": {
          "base_uri": "https://localhost:8080/"
        },
        "id": "NAAj6XnVG-Lf",
        "outputId": "8f826259-dea4-43f4-e9d2-810f96f6c113"
      },
      "source": [
        "train_df.info()"
      ],
      "execution_count": 526,
      "outputs": [
        {
          "output_type": "stream",
          "text": [
            "<class 'pandas.core.frame.DataFrame'>\n",
            "RangeIndex: 891 entries, 0 to 890\n",
            "Data columns (total 12 columns):\n",
            " #   Column       Non-Null Count  Dtype  \n",
            "---  ------       --------------  -----  \n",
            " 0   PassengerId  891 non-null    int64  \n",
            " 1   Survived     891 non-null    int64  \n",
            " 2   Pclass       891 non-null    int64  \n",
            " 3   Name         891 non-null    object \n",
            " 4   Sex          891 non-null    object \n",
            " 5   Age          714 non-null    float64\n",
            " 6   SibSp        891 non-null    int64  \n",
            " 7   Parch        891 non-null    int64  \n",
            " 8   Ticket       891 non-null    object \n",
            " 9   Fare         891 non-null    float64\n",
            " 10  Cabin        204 non-null    object \n",
            " 11  Embarked     889 non-null    object \n",
            "dtypes: float64(2), int64(5), object(5)\n",
            "memory usage: 83.7+ KB\n"
          ],
          "name": "stdout"
        }
      ]
    },
    {
      "cell_type": "code",
      "metadata": {
        "colab": {
          "base_uri": "https://localhost:8080/",
          "height": 297
        },
        "id": "ZR7bhcR2HAie",
        "outputId": "67d7edc3-498e-44e8-c6a7-61b811b492e5"
      },
      "source": [
        "train_df.describe()"
      ],
      "execution_count": 527,
      "outputs": [
        {
          "output_type": "execute_result",
          "data": {
            "text/html": [
              "<div>\n",
              "<style scoped>\n",
              "    .dataframe tbody tr th:only-of-type {\n",
              "        vertical-align: middle;\n",
              "    }\n",
              "\n",
              "    .dataframe tbody tr th {\n",
              "        vertical-align: top;\n",
              "    }\n",
              "\n",
              "    .dataframe thead th {\n",
              "        text-align: right;\n",
              "    }\n",
              "</style>\n",
              "<table border=\"1\" class=\"dataframe\">\n",
              "  <thead>\n",
              "    <tr style=\"text-align: right;\">\n",
              "      <th></th>\n",
              "      <th>PassengerId</th>\n",
              "      <th>Survived</th>\n",
              "      <th>Pclass</th>\n",
              "      <th>Age</th>\n",
              "      <th>SibSp</th>\n",
              "      <th>Parch</th>\n",
              "      <th>Fare</th>\n",
              "    </tr>\n",
              "  </thead>\n",
              "  <tbody>\n",
              "    <tr>\n",
              "      <th>count</th>\n",
              "      <td>891.000000</td>\n",
              "      <td>891.000000</td>\n",
              "      <td>891.000000</td>\n",
              "      <td>714.000000</td>\n",
              "      <td>891.000000</td>\n",
              "      <td>891.000000</td>\n",
              "      <td>891.000000</td>\n",
              "    </tr>\n",
              "    <tr>\n",
              "      <th>mean</th>\n",
              "      <td>446.000000</td>\n",
              "      <td>0.383838</td>\n",
              "      <td>2.308642</td>\n",
              "      <td>29.699118</td>\n",
              "      <td>0.523008</td>\n",
              "      <td>0.381594</td>\n",
              "      <td>32.204208</td>\n",
              "    </tr>\n",
              "    <tr>\n",
              "      <th>std</th>\n",
              "      <td>257.353842</td>\n",
              "      <td>0.486592</td>\n",
              "      <td>0.836071</td>\n",
              "      <td>14.526497</td>\n",
              "      <td>1.102743</td>\n",
              "      <td>0.806057</td>\n",
              "      <td>49.693429</td>\n",
              "    </tr>\n",
              "    <tr>\n",
              "      <th>min</th>\n",
              "      <td>1.000000</td>\n",
              "      <td>0.000000</td>\n",
              "      <td>1.000000</td>\n",
              "      <td>0.420000</td>\n",
              "      <td>0.000000</td>\n",
              "      <td>0.000000</td>\n",
              "      <td>0.000000</td>\n",
              "    </tr>\n",
              "    <tr>\n",
              "      <th>25%</th>\n",
              "      <td>223.500000</td>\n",
              "      <td>0.000000</td>\n",
              "      <td>2.000000</td>\n",
              "      <td>20.125000</td>\n",
              "      <td>0.000000</td>\n",
              "      <td>0.000000</td>\n",
              "      <td>7.910400</td>\n",
              "    </tr>\n",
              "    <tr>\n",
              "      <th>50%</th>\n",
              "      <td>446.000000</td>\n",
              "      <td>0.000000</td>\n",
              "      <td>3.000000</td>\n",
              "      <td>28.000000</td>\n",
              "      <td>0.000000</td>\n",
              "      <td>0.000000</td>\n",
              "      <td>14.454200</td>\n",
              "    </tr>\n",
              "    <tr>\n",
              "      <th>75%</th>\n",
              "      <td>668.500000</td>\n",
              "      <td>1.000000</td>\n",
              "      <td>3.000000</td>\n",
              "      <td>38.000000</td>\n",
              "      <td>1.000000</td>\n",
              "      <td>0.000000</td>\n",
              "      <td>31.000000</td>\n",
              "    </tr>\n",
              "    <tr>\n",
              "      <th>max</th>\n",
              "      <td>891.000000</td>\n",
              "      <td>1.000000</td>\n",
              "      <td>3.000000</td>\n",
              "      <td>80.000000</td>\n",
              "      <td>8.000000</td>\n",
              "      <td>6.000000</td>\n",
              "      <td>512.329200</td>\n",
              "    </tr>\n",
              "  </tbody>\n",
              "</table>\n",
              "</div>"
            ],
            "text/plain": [
              "       PassengerId    Survived      Pclass  ...       SibSp       Parch        Fare\n",
              "count   891.000000  891.000000  891.000000  ...  891.000000  891.000000  891.000000\n",
              "mean    446.000000    0.383838    2.308642  ...    0.523008    0.381594   32.204208\n",
              "std     257.353842    0.486592    0.836071  ...    1.102743    0.806057   49.693429\n",
              "min       1.000000    0.000000    1.000000  ...    0.000000    0.000000    0.000000\n",
              "25%     223.500000    0.000000    2.000000  ...    0.000000    0.000000    7.910400\n",
              "50%     446.000000    0.000000    3.000000  ...    0.000000    0.000000   14.454200\n",
              "75%     668.500000    1.000000    3.000000  ...    1.000000    0.000000   31.000000\n",
              "max     891.000000    1.000000    3.000000  ...    8.000000    6.000000  512.329200\n",
              "\n",
              "[8 rows x 7 columns]"
            ]
          },
          "metadata": {
            "tags": []
          },
          "execution_count": 527
        }
      ]
    },
    {
      "cell_type": "code",
      "metadata": {
        "colab": {
          "base_uri": "https://localhost:8080/",
          "height": 142
        },
        "id": "ENW-fHJJHGSz",
        "outputId": "3f7e1fd8-1250-4195-bea1-826f2c49fb97"
      },
      "source": [
        "train_df[['Pclass','Survived']].groupby(by =['Pclass'], as_index=False).mean().sort_values(by=['Survived'], ascending=False)"
      ],
      "execution_count": 528,
      "outputs": [
        {
          "output_type": "execute_result",
          "data": {
            "text/html": [
              "<div>\n",
              "<style scoped>\n",
              "    .dataframe tbody tr th:only-of-type {\n",
              "        vertical-align: middle;\n",
              "    }\n",
              "\n",
              "    .dataframe tbody tr th {\n",
              "        vertical-align: top;\n",
              "    }\n",
              "\n",
              "    .dataframe thead th {\n",
              "        text-align: right;\n",
              "    }\n",
              "</style>\n",
              "<table border=\"1\" class=\"dataframe\">\n",
              "  <thead>\n",
              "    <tr style=\"text-align: right;\">\n",
              "      <th></th>\n",
              "      <th>Pclass</th>\n",
              "      <th>Survived</th>\n",
              "    </tr>\n",
              "  </thead>\n",
              "  <tbody>\n",
              "    <tr>\n",
              "      <th>0</th>\n",
              "      <td>1</td>\n",
              "      <td>0.629630</td>\n",
              "    </tr>\n",
              "    <tr>\n",
              "      <th>1</th>\n",
              "      <td>2</td>\n",
              "      <td>0.472826</td>\n",
              "    </tr>\n",
              "    <tr>\n",
              "      <th>2</th>\n",
              "      <td>3</td>\n",
              "      <td>0.242363</td>\n",
              "    </tr>\n",
              "  </tbody>\n",
              "</table>\n",
              "</div>"
            ],
            "text/plain": [
              "   Pclass  Survived\n",
              "0       1  0.629630\n",
              "1       2  0.472826\n",
              "2       3  0.242363"
            ]
          },
          "metadata": {
            "tags": []
          },
          "execution_count": 528
        }
      ]
    },
    {
      "cell_type": "code",
      "metadata": {
        "colab": {
          "base_uri": "https://localhost:8080/",
          "height": 111
        },
        "id": "38vi_NCjHLL-",
        "outputId": "6f89c78f-5974-4f21-dafd-95b603b15b64"
      },
      "source": [
        "train_df[['Sex','Survived']].groupby(by =['Sex'], as_index=False).mean().sort_values(by=['Survived'], ascending=False)"
      ],
      "execution_count": 529,
      "outputs": [
        {
          "output_type": "execute_result",
          "data": {
            "text/html": [
              "<div>\n",
              "<style scoped>\n",
              "    .dataframe tbody tr th:only-of-type {\n",
              "        vertical-align: middle;\n",
              "    }\n",
              "\n",
              "    .dataframe tbody tr th {\n",
              "        vertical-align: top;\n",
              "    }\n",
              "\n",
              "    .dataframe thead th {\n",
              "        text-align: right;\n",
              "    }\n",
              "</style>\n",
              "<table border=\"1\" class=\"dataframe\">\n",
              "  <thead>\n",
              "    <tr style=\"text-align: right;\">\n",
              "      <th></th>\n",
              "      <th>Sex</th>\n",
              "      <th>Survived</th>\n",
              "    </tr>\n",
              "  </thead>\n",
              "  <tbody>\n",
              "    <tr>\n",
              "      <th>0</th>\n",
              "      <td>female</td>\n",
              "      <td>0.742038</td>\n",
              "    </tr>\n",
              "    <tr>\n",
              "      <th>1</th>\n",
              "      <td>male</td>\n",
              "      <td>0.188908</td>\n",
              "    </tr>\n",
              "  </tbody>\n",
              "</table>\n",
              "</div>"
            ],
            "text/plain": [
              "      Sex  Survived\n",
              "0  female  0.742038\n",
              "1    male  0.188908"
            ]
          },
          "metadata": {
            "tags": []
          },
          "execution_count": 529
        }
      ]
    },
    {
      "cell_type": "code",
      "metadata": {
        "colab": {
          "base_uri": "https://localhost:8080/"
        },
        "id": "h9g6eGMhHQ4L",
        "outputId": "6f51bdfc-27fa-43e7-a4f3-67f48b61479f"
      },
      "source": [
        "j = train_df.groupby(pd.cut(train_df['Age'], bins=20))['Survived'].value_counts()\n",
        "print(j)"
      ],
      "execution_count": 530,
      "outputs": [
        {
          "output_type": "stream",
          "text": [
            "Age               Survived\n",
            "(0.34, 4.399]     1           27\n",
            "                  0           13\n",
            "(4.399, 8.378]    1            9\n",
            "                  0            5\n",
            "(8.378, 12.357]   0           11\n",
            "                  1            4\n",
            "(12.357, 16.336]  0           16\n",
            "                  1           15\n",
            "(16.336, 20.315]  0           52\n",
            "                  1           27\n",
            "(20.315, 24.294]  0           62\n",
            "                  1           36\n",
            "(24.294, 28.273]  0           55\n",
            "                  1           30\n",
            "(28.273, 32.252]  0           49\n",
            "                  1           35\n",
            "(32.252, 36.231]  0           38\n",
            "                  1           35\n",
            "(36.231, 40.21]   0           28\n",
            "                  1           17\n",
            "(40.21, 44.189]   0           23\n",
            "                  1           12\n",
            "(44.189, 48.168]  0           23\n",
            "                  1           12\n",
            "(48.168, 52.147]  0           15\n",
            "                  1           14\n",
            "(52.147, 56.126]  0            9\n",
            "                  1            7\n",
            "(56.126, 60.105]  0            8\n",
            "                  1            5\n",
            "(60.105, 64.084]  0            7\n",
            "                  1            4\n",
            "(64.084, 68.063]  0            4\n",
            "(68.063, 72.042]  0            5\n",
            "(72.042, 76.021]  0            1\n",
            "(76.021, 80.0]    1            1\n",
            "Name: Survived, dtype: int64\n"
          ],
          "name": "stdout"
        }
      ]
    },
    {
      "cell_type": "code",
      "metadata": {
        "colab": {
          "base_uri": "https://localhost:8080/",
          "height": 311
        },
        "id": "T3bhoTzEHZLj",
        "outputId": "a1b1adc5-3463-46b0-a90f-ff85e194e65a"
      },
      "source": [
        "f,ax=plt.subplots(1,2,figsize=(20,5))\n",
        "train_df[train_df['Survived']==0].Age.plot.hist(ax=ax[0],bins=20,color='grey')\n",
        "ax[0].set_title('Survived = 0')\n",
        "ax[0].set_xlabel('Age')\n",
        "x1=list(range(0,85,5))\n",
        "ax[0].set_xticks(x1)\n",
        "train_df[train_df['Survived']==1].Age.plot.hist(ax=ax[1],bins=20,color='grey')\n",
        "ax[1].set_title('Survived = 1')\n",
        "ax[1].set_xlabel('Age')\n",
        "x2=list(range(0,85,5))\n",
        "ax[1].set_xticks(x2)\n",
        "plt.show()"
      ],
      "execution_count": 531,
      "outputs": [
        {
          "output_type": "display_data",
          "data": {
            "image/png": "[encoded data removed]",
            "text/plain": [
              "<Figure size 1440x360 with 2 Axes>"
            ]
          },
          "metadata": {
            "tags": [],
            "needs_background": "light"
          }
        }
      ]
    },
    {
      "cell_type": "code",
      "metadata": {
        "colab": {
          "base_uri": "https://localhost:8080/",
          "height": 550
        },
        "id": "sQ5HTyc-Iauc",
        "outputId": "a244c1f4-7a86-481d-9fc0-b65dd4a8b1a9"
      },
      "source": [
        "f,ax=plt.subplots(3, 2, sharex='col', sharey='row',figsize=(20,10))\n",
        "train_df_filtered = train_df.loc[lambda train_df: train_df.Survived == 0].loc[lambda train_df: train_df.Pclass == 1]\n",
        "train_df_filtered.Age.plot.hist(ax=ax[0,0],bins=20,color='grey')\n",
        "ax[0,0].set_title('Pclass = 1 | Survived = 0')\n",
        "ax[0,0].set_xlabel('Age')\n",
        "x1=list(range(0,85,5))\n",
        "ax[0,0].set_xticks(x1)\n",
        "train_df_filtered = train_df.loc[lambda train_df: train_df.Survived == 1].loc[lambda train_df: train_df.Pclass == 1]\n",
        "train_df_filtered.Age.plot.hist(ax=ax[0,1],bins=20,color='grey')\n",
        "ax[0,1].set_title('Pclass = 1 | Survived= 1')\n",
        "ax[0,1].set_xlabel('Age')\n",
        "x2=list(range(0,85,5))\n",
        "ax[0,1].set_xticks(x2)\n",
        "train_df_filtered = train_df.loc[lambda train_df: train_df.Survived == 0].loc[lambda train_df: train_df.Pclass == 2]\n",
        "train_df_filtered.Age.plot.hist(ax=ax[1,0],bins=20,color='grey')\n",
        "ax[1,0].set_title('Pclass = 2 | Survived= 0')\n",
        "ax[1,0].set_xlabel('Age')\n",
        "x3=list(range(0,85,5))\n",
        "ax[1,0].set_xticks(x3)\n",
        "train_df_filtered = train_df.loc[lambda train_df: train_df.Survived == 1].loc[lambda train_df: train_df.Pclass == 2]\n",
        "train_df_filtered.Age.plot.hist(ax=ax[1,1],bins=20,color='grey')\n",
        "ax[1,1].set_title('Pclass = 2 | Survived= 1')\n",
        "ax[1,1].set_xlabel('Age')\n",
        "x4=list(range(0,85,5))\n",
        "ax[1,1].set_xticks(x4)\n",
        "train_df_filtered = train_df.loc[lambda train_df: train_df.Survived == 0].loc[lambda train_df: train_df.Pclass == 3]\n",
        "train_df_filtered.Age.plot.hist(ax=ax[2,0],bins=20,color='grey')\n",
        "ax[2,0].set_title('Pclass = 3 | Survived= 0')\n",
        "ax[2,0].set_xlabel('Age')\n",
        "x5=list(range(0,85,5))\n",
        "ax[2,0].set_xticks(x5)\n",
        "train_df_filtered = train_df.loc[lambda train_df: train_df.Survived == 1].loc[lambda train_df: train_df.Pclass == 3]\n",
        "train_df_filtered.Age.plot.hist(ax=ax[2,1],bins=20,color='grey')\n",
        "ax[2,1].set_title('Pclass = 3 | Survived= 1')\n",
        "ax[2,1].set_xlabel('Age')\n",
        "x6=list(range(0,85,5))\n",
        "ax[2,1].set_xticks(x6) \n",
        "plt.show()"
      ],
      "execution_count": 532,
      "outputs": [
        {
          "output_type": "display_data",
          "data": {
            "image/png": "[encoded data removed]",
            "text/plain": [
              "<Figure size 1440x720 with 6 Axes>"
            ]
          },
          "metadata": {
            "tags": [],
            "needs_background": "light"
          }
        }
      ]
    },
    {
      "cell_type": "code",
      "metadata": {
        "colab": {
          "base_uri": "https://localhost:8080/",
          "height": 674
        },
        "id": "QwQ_4evcJpyf",
        "outputId": "c2a3d081-f62e-47f8-b4e1-0d341cee1e93"
      },
      "source": [
        "g = sns.FacetGrid(train_df, row='Embarked', col='Survived', height=3, aspect=1)\n",
        "g.map(sns.barplot, 'Sex', 'Fare',  ci=None, order=['female','male'], color='grey')\n",
        "g.add_legend()"
      ],
      "execution_count": 533,
      "outputs": [
        {
          "output_type": "execute_result",
          "data": {
            "text/plain": [
              "<seaborn.axisgrid.FacetGrid at 0x7f941190b048>"
            ]
          },
          "metadata": {
            "tags": []
          },
          "execution_count": 533
        },
        {
          "output_type": "display_data",
          "data": {
            "image/png": "[encoded data removed]",
            "text/plain": [
              "<Figure size 440x648 with 6 Axes>"
            ]
          },
          "metadata": {
            "tags": [],
            "needs_background": "light"
          }
        }
      ]
    },
    {
      "cell_type": "code",
      "metadata": {
        "colab": {
          "base_uri": "https://localhost:8080/"
        },
        "id": "cYxe3cYpJ2CA",
        "outputId": "f16f8c6b-78fa-4e7a-e032-f177727912d8"
      },
      "source": [
        "f = train_df['Ticket'].value_counts()\n",
        "print(f)"
      ],
      "execution_count": 534,
      "outputs": [
        {
          "output_type": "stream",
          "text": [
            "1601        7\n",
            "347082      7\n",
            "CA. 2343    7\n",
            "347088      6\n",
            "CA 2144     6\n",
            "           ..\n",
            "315088      1\n",
            "PC 17483    1\n",
            "237565      1\n",
            "65304       1\n",
            "248731      1\n",
            "Name: Ticket, Length: 681, dtype: int64\n"
          ],
          "name": "stdout"
        }
      ]
    },
    {
      "cell_type": "code",
      "metadata": {
        "colab": {
          "base_uri": "https://localhost:8080/"
        },
        "id": "jacdsOPMJ76M",
        "outputId": "47048e9e-33d3-484d-b349-c896b3a8a6f4"
      },
      "source": [
        "f = test_df['Ticket'].value_counts()\n",
        "print(f)"
      ],
      "execution_count": 535,
      "outputs": [
        {
          "output_type": "stream",
          "text": [
            "PC 17608              5\n",
            "113503                4\n",
            "CA. 2343              4\n",
            "SOTON/O.Q. 3101315    3\n",
            "PC 17483              3\n",
            "                     ..\n",
            "335432                1\n",
            "13905                 1\n",
            "237789                1\n",
            "C.A. 2673             1\n",
            "345498                1\n",
            "Name: Ticket, Length: 363, dtype: int64\n"
          ],
          "name": "stdout"
        }
      ]
    },
    {
      "cell_type": "code",
      "metadata": {
        "id": "mE_gOwb2J_eL"
      },
      "source": [
        "train_df = train_df.drop(['Ticket'], axis=1)\n",
        "test_df = test_df.drop(['Ticket'], axis=1)"
      ],
      "execution_count": 536,
      "outputs": []
    },
    {
      "cell_type": "code",
      "metadata": {
        "colab": {
          "base_uri": "https://localhost:8080/"
        },
        "id": "JPpzWhSVKJ11",
        "outputId": "746bcad3-1227-40fe-c2e5-f27bd05a4702"
      },
      "source": [
        "x=train_df['Cabin'].isnull().sum()\n",
        "print('Training data- Null values of Cabin feature :',x)\n",
        "y=test_df['Cabin'].isnull().sum()\n",
        "print('Test data- Null values of Cabin feature :',y)\n",
        "print('Train and Test data- Null values of Cabin feature :',x+y)"
      ],
      "execution_count": 537,
      "outputs": [
        {
          "output_type": "stream",
          "text": [
            "Training data- Null values of Cabin feature : 687\n",
            "Test data- Null values of Cabin feature : 327\n",
            "Train and Test data- Null values of Cabin feature : 1014\n"
          ],
          "name": "stdout"
        }
      ]
    },
    {
      "cell_type": "code",
      "metadata": {
        "id": "r-QWhzU5KWOU"
      },
      "source": [
        "train_df = train_df.drop(['Cabin'], axis=1)\n",
        "test_df = test_df.drop(['Cabin'], axis=1)"
      ],
      "execution_count": 538,
      "outputs": []
    },
    {
      "cell_type": "code",
      "metadata": {
        "id": "jhlpIGvkKdbX"
      },
      "source": [
        "both = [train_df, test_df]"
      ],
      "execution_count": 539,
      "outputs": []
    },
    {
      "cell_type": "code",
      "metadata": {
        "colab": {
          "base_uri": "https://localhost:8080/",
          "height": 204
        },
        "id": "RcTbwLTyKleQ",
        "outputId": "82992354-8a9f-4126-f256-4e6e613794bd"
      },
      "source": [
        "train_df.head()"
      ],
      "execution_count": 540,
      "outputs": [
        {
          "output_type": "execute_result",
          "data": {
            "text/html": [
              "<div>\n",
              "<style scoped>\n",
              "    .dataframe tbody tr th:only-of-type {\n",
              "        vertical-align: middle;\n",
              "    }\n",
              "\n",
              "    .dataframe tbody tr th {\n",
              "        vertical-align: top;\n",
              "    }\n",
              "\n",
              "    .dataframe thead th {\n",
              "        text-align: right;\n",
              "    }\n",
              "</style>\n",
              "<table border=\"1\" class=\"dataframe\">\n",
              "  <thead>\n",
              "    <tr style=\"text-align: right;\">\n",
              "      <th></th>\n",
              "      <th>PassengerId</th>\n",
              "      <th>Survived</th>\n",
              "      <th>Pclass</th>\n",
              "      <th>Name</th>\n",
              "      <th>Sex</th>\n",
              "      <th>Age</th>\n",
              "      <th>SibSp</th>\n",
              "      <th>Parch</th>\n",
              "      <th>Fare</th>\n",
              "      <th>Embarked</th>\n",
              "    </tr>\n",
              "  </thead>\n",
              "  <tbody>\n",
              "    <tr>\n",
              "      <th>0</th>\n",
              "      <td>1</td>\n",
              "      <td>0</td>\n",
              "      <td>3</td>\n",
              "      <td>Braund, Mr. Owen Harris</td>\n",
              "      <td>male</td>\n",
              "      <td>22.0</td>\n",
              "      <td>1</td>\n",
              "      <td>0</td>\n",
              "      <td>7.2500</td>\n",
              "      <td>S</td>\n",
              "    </tr>\n",
              "    <tr>\n",
              "      <th>1</th>\n",
              "      <td>2</td>\n",
              "      <td>1</td>\n",
              "      <td>1</td>\n",
              "      <td>Cumings, Mrs. John Bradley (Florence Briggs Th...</td>\n",
              "      <td>female</td>\n",
              "      <td>38.0</td>\n",
              "      <td>1</td>\n",
              "      <td>0</td>\n",
              "      <td>71.2833</td>\n",
              "      <td>C</td>\n",
              "    </tr>\n",
              "    <tr>\n",
              "      <th>2</th>\n",
              "      <td>3</td>\n",
              "      <td>1</td>\n",
              "      <td>3</td>\n",
              "      <td>Heikkinen, Miss. Laina</td>\n",
              "      <td>female</td>\n",
              "      <td>26.0</td>\n",
              "      <td>0</td>\n",
              "      <td>0</td>\n",
              "      <td>7.9250</td>\n",
              "      <td>S</td>\n",
              "    </tr>\n",
              "    <tr>\n",
              "      <th>3</th>\n",
              "      <td>4</td>\n",
              "      <td>1</td>\n",
              "      <td>1</td>\n",
              "      <td>Futrelle, Mrs. Jacques Heath (Lily May Peel)</td>\n",
              "      <td>female</td>\n",
              "      <td>35.0</td>\n",
              "      <td>1</td>\n",
              "      <td>0</td>\n",
              "      <td>53.1000</td>\n",
              "      <td>S</td>\n",
              "    </tr>\n",
              "    <tr>\n",
              "      <th>4</th>\n",
              "      <td>5</td>\n",
              "      <td>0</td>\n",
              "      <td>3</td>\n",
              "      <td>Allen, Mr. William Henry</td>\n",
              "      <td>male</td>\n",
              "      <td>35.0</td>\n",
              "      <td>0</td>\n",
              "      <td>0</td>\n",
              "      <td>8.0500</td>\n",
              "      <td>S</td>\n",
              "    </tr>\n",
              "  </tbody>\n",
              "</table>\n",
              "</div>"
            ],
            "text/plain": [
              "   PassengerId  Survived  Pclass  ... Parch     Fare  Embarked\n",
              "0            1         0       3  ...     0   7.2500         S\n",
              "1            2         1       1  ...     0  71.2833         C\n",
              "2            3         1       3  ...     0   7.9250         S\n",
              "3            4         1       1  ...     0  53.1000         S\n",
              "4            5         0       3  ...     0   8.0500         S\n",
              "\n",
              "[5 rows x 10 columns]"
            ]
          },
          "metadata": {
            "tags": []
          },
          "execution_count": 540
        }
      ]
    },
    {
      "cell_type": "code",
      "metadata": {
        "id": "chwDJpIbNKkg"
      },
      "source": [
        "lblen = LabelEncoder();"
      ],
      "execution_count": 541,
      "outputs": []
    },
    {
      "cell_type": "code",
      "metadata": {
        "id": "gMWVVUnfNE8B"
      },
      "source": [
        "for d in both:\n",
        "    d['Sex'] = lblen.fit_transform(d['Sex'])"
      ],
      "execution_count": 542,
      "outputs": []
    },
    {
      "cell_type": "code",
      "metadata": {
        "colab": {
          "base_uri": "https://localhost:8080/",
          "height": 204
        },
        "id": "drkirck8NWFo",
        "outputId": "089be42c-0b0e-4a78-f002-864624faf893"
      },
      "source": [
        "test_df.head()"
      ],
      "execution_count": 543,
      "outputs": [
        {
          "output_type": "execute_result",
          "data": {
            "text/html": [
              "<div>\n",
              "<style scoped>\n",
              "    .dataframe tbody tr th:only-of-type {\n",
              "        vertical-align: middle;\n",
              "    }\n",
              "\n",
              "    .dataframe tbody tr th {\n",
              "        vertical-align: top;\n",
              "    }\n",
              "\n",
              "    .dataframe thead th {\n",
              "        text-align: right;\n",
              "    }\n",
              "</style>\n",
              "<table border=\"1\" class=\"dataframe\">\n",
              "  <thead>\n",
              "    <tr style=\"text-align: right;\">\n",
              "      <th></th>\n",
              "      <th>PassengerId</th>\n",
              "      <th>Pclass</th>\n",
              "      <th>Name</th>\n",
              "      <th>Sex</th>\n",
              "      <th>Age</th>\n",
              "      <th>SibSp</th>\n",
              "      <th>Parch</th>\n",
              "      <th>Fare</th>\n",
              "      <th>Embarked</th>\n",
              "    </tr>\n",
              "  </thead>\n",
              "  <tbody>\n",
              "    <tr>\n",
              "      <th>0</th>\n",
              "      <td>892</td>\n",
              "      <td>3</td>\n",
              "      <td>Kelly, Mr. James</td>\n",
              "      <td>1</td>\n",
              "      <td>34.5</td>\n",
              "      <td>0</td>\n",
              "      <td>0</td>\n",
              "      <td>7.8292</td>\n",
              "      <td>Q</td>\n",
              "    </tr>\n",
              "    <tr>\n",
              "      <th>1</th>\n",
              "      <td>893</td>\n",
              "      <td>3</td>\n",
              "      <td>Wilkes, Mrs. James (Ellen Needs)</td>\n",
              "      <td>0</td>\n",
              "      <td>47.0</td>\n",
              "      <td>1</td>\n",
              "      <td>0</td>\n",
              "      <td>7.0000</td>\n",
              "      <td>S</td>\n",
              "    </tr>\n",
              "    <tr>\n",
              "      <th>2</th>\n",
              "      <td>894</td>\n",
              "      <td>2</td>\n",
              "      <td>Myles, Mr. Thomas Francis</td>\n",
              "      <td>1</td>\n",
              "      <td>62.0</td>\n",
              "      <td>0</td>\n",
              "      <td>0</td>\n",
              "      <td>9.6875</td>\n",
              "      <td>Q</td>\n",
              "    </tr>\n",
              "    <tr>\n",
              "      <th>3</th>\n",
              "      <td>895</td>\n",
              "      <td>3</td>\n",
              "      <td>Wirz, Mr. Albert</td>\n",
              "      <td>1</td>\n",
              "      <td>27.0</td>\n",
              "      <td>0</td>\n",
              "      <td>0</td>\n",
              "      <td>8.6625</td>\n",
              "      <td>S</td>\n",
              "    </tr>\n",
              "    <tr>\n",
              "      <th>4</th>\n",
              "      <td>896</td>\n",
              "      <td>3</td>\n",
              "      <td>Hirvonen, Mrs. Alexander (Helga E Lindqvist)</td>\n",
              "      <td>0</td>\n",
              "      <td>22.0</td>\n",
              "      <td>1</td>\n",
              "      <td>1</td>\n",
              "      <td>12.2875</td>\n",
              "      <td>S</td>\n",
              "    </tr>\n",
              "  </tbody>\n",
              "</table>\n",
              "</div>"
            ],
            "text/plain": [
              "   PassengerId  Pclass  ...     Fare  Embarked\n",
              "0          892       3  ...   7.8292         Q\n",
              "1          893       3  ...   7.0000         S\n",
              "2          894       2  ...   9.6875         Q\n",
              "3          895       3  ...   8.6625         S\n",
              "4          896       3  ...  12.2875         S\n",
              "\n",
              "[5 rows x 9 columns]"
            ]
          },
          "metadata": {
            "tags": []
          },
          "execution_count": 543
        }
      ]
    },
    {
      "cell_type": "code",
      "metadata": {
        "colab": {
          "base_uri": "https://localhost:8080/"
        },
        "id": "4AuNO0IMNbKN",
        "outputId": "511e41db-ae94-4158-c941-db6e588307b6"
      },
      "source": [
        "mean = train_df['Age'].mean()\n",
        "std = train_df['Age'].std()\n",
        "\n",
        "print('Mean : ', mean);\n",
        "print('STD : ', std);\n",
        "\n",
        "def missing(column_val):\n",
        "    if np.isnan(column_val) == True: \n",
        "        column_val = np.random.randint(std, mean, 1)[0]\n",
        "    else:\n",
        "         column_val = column_val\n",
        "    return column_val\n",
        "\n",
        "both[0]['Age'] = train_df['Age'].apply(missing) \n",
        "both[1]['Age'] = test_df['Age'].apply(missing) \n"
      ],
      "execution_count": 544,
      "outputs": [
        {
          "output_type": "stream",
          "text": [
            "Mean :  29.69911764705882\n",
            "STD :  14.526497332334044\n"
          ],
          "name": "stdout"
        }
      ]
    },
    {
      "cell_type": "code",
      "metadata": {
        "colab": {
          "base_uri": "https://localhost:8080/"
        },
        "id": "Te9QRpY7N4IQ",
        "outputId": "d30fddb6-d864-4feb-d20d-e92c361eb21d"
      },
      "source": [
        "train_df.isnull().sum()"
      ],
      "execution_count": 545,
      "outputs": [
        {
          "output_type": "execute_result",
          "data": {
            "text/plain": [
              "PassengerId    0\n",
              "Survived       0\n",
              "Pclass         0\n",
              "Name           0\n",
              "Sex            0\n",
              "Age            0\n",
              "SibSp          0\n",
              "Parch          0\n",
              "Fare           0\n",
              "Embarked       2\n",
              "dtype: int64"
            ]
          },
          "metadata": {
            "tags": []
          },
          "execution_count": 545
        }
      ]
    },
    {
      "cell_type": "code",
      "metadata": {
        "colab": {
          "base_uri": "https://localhost:8080/",
          "height": 35
        },
        "id": "CkUszhELN9-q",
        "outputId": "cab69ae8-3b90-4d1b-ceff-de27d00c6c95"
      },
      "source": [
        "train_df['Embarked'].mode()[0]"
      ],
      "execution_count": 546,
      "outputs": [
        {
          "output_type": "execute_result",
          "data": {
            "application/vnd.google.colaboratory.intrinsic+json": {
              "type": "string"
            },
            "text/plain": [
              "'S'"
            ]
          },
          "metadata": {
            "tags": []
          },
          "execution_count": 546
        }
      ]
    },
    {
      "cell_type": "code",
      "metadata": {
        "id": "rN9QPCgzOApH"
      },
      "source": [
        "for c in train_df.columns:\n",
        "    train_df['Embarked'].fillna(train_df['Embarked'].mode()[0], inplace=True)"
      ],
      "execution_count": 547,
      "outputs": []
    },
    {
      "cell_type": "code",
      "metadata": {
        "colab": {
          "base_uri": "https://localhost:8080/"
        },
        "id": "G70ZzmoAOJwh",
        "outputId": "0c65068b-ddbd-4587-e692-32075645da86"
      },
      "source": [
        "train_df.isnull().sum()"
      ],
      "execution_count": 548,
      "outputs": [
        {
          "output_type": "execute_result",
          "data": {
            "text/plain": [
              "PassengerId    0\n",
              "Survived       0\n",
              "Pclass         0\n",
              "Name           0\n",
              "Sex            0\n",
              "Age            0\n",
              "SibSp          0\n",
              "Parch          0\n",
              "Fare           0\n",
              "Embarked       0\n",
              "dtype: int64"
            ]
          },
          "metadata": {
            "tags": []
          },
          "execution_count": 548
        }
      ]
    },
    {
      "cell_type": "code",
      "metadata": {
        "colab": {
          "base_uri": "https://localhost:8080/"
        },
        "id": "9zciXYUTONvC",
        "outputId": "a9f28044-1329-4f35-a12e-30cdd3b998f0"
      },
      "source": [
        "test_df.isnull().sum()"
      ],
      "execution_count": 549,
      "outputs": [
        {
          "output_type": "execute_result",
          "data": {
            "text/plain": [
              "PassengerId    0\n",
              "Pclass         0\n",
              "Name           0\n",
              "Sex            0\n",
              "Age            0\n",
              "SibSp          0\n",
              "Parch          0\n",
              "Fare           1\n",
              "Embarked       0\n",
              "dtype: int64"
            ]
          },
          "metadata": {
            "tags": []
          },
          "execution_count": 549
        }
      ]
    },
    {
      "cell_type": "code",
      "metadata": {
        "id": "DWygci1rOWQV"
      },
      "source": [
        "for c in test_df.columns:\n",
        "    test_df['Fare'].fillna(test_df['Fare'].mode()[0], inplace=True)"
      ],
      "execution_count": 550,
      "outputs": []
    },
    {
      "cell_type": "code",
      "metadata": {
        "colab": {
          "base_uri": "https://localhost:8080/"
        },
        "id": "DqLd9PhyObRQ",
        "outputId": "0e88529f-7e7d-46b3-8d35-e204f6ffc12b"
      },
      "source": [
        "test_df.isnull().sum()"
      ],
      "execution_count": 551,
      "outputs": [
        {
          "output_type": "execute_result",
          "data": {
            "text/plain": [
              "PassengerId    0\n",
              "Pclass         0\n",
              "Name           0\n",
              "Sex            0\n",
              "Age            0\n",
              "SibSp          0\n",
              "Parch          0\n",
              "Fare           0\n",
              "Embarked       0\n",
              "dtype: int64"
            ]
          },
          "metadata": {
            "tags": []
          },
          "execution_count": 551
        }
      ]
    },
    {
      "cell_type": "code",
      "metadata": {
        "id": "u0QD_t-vOfZM"
      },
      "source": [
        "def fare_ordinal(x):\n",
        "    if x > -(0.001) and x <= 7.91:\n",
        "        return 0\n",
        "    elif x > 7.91 and x <= 14.4542:\n",
        "        return 1\n",
        "    elif x > 14.4542 and x <= 31.0:\n",
        "        return 2\n",
        "    elif x > 31.0 and x <= 512.3292:\n",
        "        return 3\n",
        "    \n",
        "both[0]['Fare'] = train_df.Fare.apply(fare_ordinal)\n",
        "both[1]['Fare'] = test_df.Fare.apply(fare_ordinal)"
      ],
      "execution_count": 552,
      "outputs": []
    },
    {
      "cell_type": "code",
      "metadata": {
        "colab": {
          "base_uri": "https://localhost:8080/",
          "height": 204
        },
        "id": "tQb9eHq8Otfg",
        "outputId": "765107c2-7d40-4bea-8ce1-82bbe10de3d1"
      },
      "source": [
        "train_df.head()"
      ],
      "execution_count": 553,
      "outputs": [
        {
          "output_type": "execute_result",
          "data": {
            "text/html": [
              "<div>\n",
              "<style scoped>\n",
              "    .dataframe tbody tr th:only-of-type {\n",
              "        vertical-align: middle;\n",
              "    }\n",
              "\n",
              "    .dataframe tbody tr th {\n",
              "        vertical-align: top;\n",
              "    }\n",
              "\n",
              "    .dataframe thead th {\n",
              "        text-align: right;\n",
              "    }\n",
              "</style>\n",
              "<table border=\"1\" class=\"dataframe\">\n",
              "  <thead>\n",
              "    <tr style=\"text-align: right;\">\n",
              "      <th></th>\n",
              "      <th>PassengerId</th>\n",
              "      <th>Survived</th>\n",
              "      <th>Pclass</th>\n",
              "      <th>Name</th>\n",
              "      <th>Sex</th>\n",
              "      <th>Age</th>\n",
              "      <th>SibSp</th>\n",
              "      <th>Parch</th>\n",
              "      <th>Fare</th>\n",
              "      <th>Embarked</th>\n",
              "    </tr>\n",
              "  </thead>\n",
              "  <tbody>\n",
              "    <tr>\n",
              "      <th>0</th>\n",
              "      <td>1</td>\n",
              "      <td>0</td>\n",
              "      <td>3</td>\n",
              "      <td>Braund, Mr. Owen Harris</td>\n",
              "      <td>1</td>\n",
              "      <td>22.0</td>\n",
              "      <td>1</td>\n",
              "      <td>0</td>\n",
              "      <td>0</td>\n",
              "      <td>S</td>\n",
              "    </tr>\n",
              "    <tr>\n",
              "      <th>1</th>\n",
              "      <td>2</td>\n",
              "      <td>1</td>\n",
              "      <td>1</td>\n",
              "      <td>Cumings, Mrs. John Bradley (Florence Briggs Th...</td>\n",
              "      <td>0</td>\n",
              "      <td>38.0</td>\n",
              "      <td>1</td>\n",
              "      <td>0</td>\n",
              "      <td>3</td>\n",
              "      <td>C</td>\n",
              "    </tr>\n",
              "    <tr>\n",
              "      <th>2</th>\n",
              "      <td>3</td>\n",
              "      <td>1</td>\n",
              "      <td>3</td>\n",
              "      <td>Heikkinen, Miss. Laina</td>\n",
              "      <td>0</td>\n",
              "      <td>26.0</td>\n",
              "      <td>0</td>\n",
              "      <td>0</td>\n",
              "      <td>1</td>\n",
              "      <td>S</td>\n",
              "    </tr>\n",
              "    <tr>\n",
              "      <th>3</th>\n",
              "      <td>4</td>\n",
              "      <td>1</td>\n",
              "      <td>1</td>\n",
              "      <td>Futrelle, Mrs. Jacques Heath (Lily May Peel)</td>\n",
              "      <td>0</td>\n",
              "      <td>35.0</td>\n",
              "      <td>1</td>\n",
              "      <td>0</td>\n",
              "      <td>3</td>\n",
              "      <td>S</td>\n",
              "    </tr>\n",
              "    <tr>\n",
              "      <th>4</th>\n",
              "      <td>5</td>\n",
              "      <td>0</td>\n",
              "      <td>3</td>\n",
              "      <td>Allen, Mr. William Henry</td>\n",
              "      <td>1</td>\n",
              "      <td>35.0</td>\n",
              "      <td>0</td>\n",
              "      <td>0</td>\n",
              "      <td>1</td>\n",
              "      <td>S</td>\n",
              "    </tr>\n",
              "  </tbody>\n",
              "</table>\n",
              "</div>"
            ],
            "text/plain": [
              "   PassengerId  Survived  Pclass  ... Parch  Fare  Embarked\n",
              "0            1         0       3  ...     0     0         S\n",
              "1            2         1       1  ...     0     3         C\n",
              "2            3         1       3  ...     0     1         S\n",
              "3            4         1       1  ...     0     3         S\n",
              "4            5         0       3  ...     0     1         S\n",
              "\n",
              "[5 rows x 10 columns]"
            ]
          },
          "metadata": {
            "tags": []
          },
          "execution_count": 553
        }
      ]
    },
    {
      "cell_type": "code",
      "metadata": {
        "colab": {
          "base_uri": "https://localhost:8080/",
          "height": 173
        },
        "id": "dfNYWiRCOyNO",
        "outputId": "fb198331-6b0d-4702-8825-592867515f73"
      },
      "source": [
        "train_df[['Fare', 'Survived']].groupby(['Fare'], as_index=False).mean().sort_values(by='Fare', ascending=True)"
      ],
      "execution_count": 554,
      "outputs": [
        {
          "output_type": "execute_result",
          "data": {
            "text/html": [
              "<div>\n",
              "<style scoped>\n",
              "    .dataframe tbody tr th:only-of-type {\n",
              "        vertical-align: middle;\n",
              "    }\n",
              "\n",
              "    .dataframe tbody tr th {\n",
              "        vertical-align: top;\n",
              "    }\n",
              "\n",
              "    .dataframe thead th {\n",
              "        text-align: right;\n",
              "    }\n",
              "</style>\n",
              "<table border=\"1\" class=\"dataframe\">\n",
              "  <thead>\n",
              "    <tr style=\"text-align: right;\">\n",
              "      <th></th>\n",
              "      <th>Fare</th>\n",
              "      <th>Survived</th>\n",
              "    </tr>\n",
              "  </thead>\n",
              "  <tbody>\n",
              "    <tr>\n",
              "      <th>0</th>\n",
              "      <td>0</td>\n",
              "      <td>0.197309</td>\n",
              "    </tr>\n",
              "    <tr>\n",
              "      <th>1</th>\n",
              "      <td>1</td>\n",
              "      <td>0.303571</td>\n",
              "    </tr>\n",
              "    <tr>\n",
              "      <th>2</th>\n",
              "      <td>2</td>\n",
              "      <td>0.454955</td>\n",
              "    </tr>\n",
              "    <tr>\n",
              "      <th>3</th>\n",
              "      <td>3</td>\n",
              "      <td>0.581081</td>\n",
              "    </tr>\n",
              "  </tbody>\n",
              "</table>\n",
              "</div>"
            ],
            "text/plain": [
              "   Fare  Survived\n",
              "0     0  0.197309\n",
              "1     1  0.303571\n",
              "2     2  0.454955\n",
              "3     3  0.581081"
            ]
          },
          "metadata": {
            "tags": []
          },
          "execution_count": 554
        }
      ]
    },
    {
      "cell_type": "code",
      "metadata": {
        "colab": {
          "base_uri": "https://localhost:8080/",
          "height": 359
        },
        "id": "8uYESZuHO4lx",
        "outputId": "60a3313c-67c4-413e-b30b-eb68d659d131"
      },
      "source": [
        "train_df.head(10)"
      ],
      "execution_count": 555,
      "outputs": [
        {
          "output_type": "execute_result",
          "data": {
            "text/html": [
              "<div>\n",
              "<style scoped>\n",
              "    .dataframe tbody tr th:only-of-type {\n",
              "        vertical-align: middle;\n",
              "    }\n",
              "\n",
              "    .dataframe tbody tr th {\n",
              "        vertical-align: top;\n",
              "    }\n",
              "\n",
              "    .dataframe thead th {\n",
              "        text-align: right;\n",
              "    }\n",
              "</style>\n",
              "<table border=\"1\" class=\"dataframe\">\n",
              "  <thead>\n",
              "    <tr style=\"text-align: right;\">\n",
              "      <th></th>\n",
              "      <th>PassengerId</th>\n",
              "      <th>Survived</th>\n",
              "      <th>Pclass</th>\n",
              "      <th>Name</th>\n",
              "      <th>Sex</th>\n",
              "      <th>Age</th>\n",
              "      <th>SibSp</th>\n",
              "      <th>Parch</th>\n",
              "      <th>Fare</th>\n",
              "      <th>Embarked</th>\n",
              "    </tr>\n",
              "  </thead>\n",
              "  <tbody>\n",
              "    <tr>\n",
              "      <th>0</th>\n",
              "      <td>1</td>\n",
              "      <td>0</td>\n",
              "      <td>3</td>\n",
              "      <td>Braund, Mr. Owen Harris</td>\n",
              "      <td>1</td>\n",
              "      <td>22.0</td>\n",
              "      <td>1</td>\n",
              "      <td>0</td>\n",
              "      <td>0</td>\n",
              "      <td>S</td>\n",
              "    </tr>\n",
              "    <tr>\n",
              "      <th>1</th>\n",
              "      <td>2</td>\n",
              "      <td>1</td>\n",
              "      <td>1</td>\n",
              "      <td>Cumings, Mrs. John Bradley (Florence Briggs Th...</td>\n",
              "      <td>0</td>\n",
              "      <td>38.0</td>\n",
              "      <td>1</td>\n",
              "      <td>0</td>\n",
              "      <td>3</td>\n",
              "      <td>C</td>\n",
              "    </tr>\n",
              "    <tr>\n",
              "      <th>2</th>\n",
              "      <td>3</td>\n",
              "      <td>1</td>\n",
              "      <td>3</td>\n",
              "      <td>Heikkinen, Miss. Laina</td>\n",
              "      <td>0</td>\n",
              "      <td>26.0</td>\n",
              "      <td>0</td>\n",
              "      <td>0</td>\n",
              "      <td>1</td>\n",
              "      <td>S</td>\n",
              "    </tr>\n",
              "    <tr>\n",
              "      <th>3</th>\n",
              "      <td>4</td>\n",
              "      <td>1</td>\n",
              "      <td>1</td>\n",
              "      <td>Futrelle, Mrs. Jacques Heath (Lily May Peel)</td>\n",
              "      <td>0</td>\n",
              "      <td>35.0</td>\n",
              "      <td>1</td>\n",
              "      <td>0</td>\n",
              "      <td>3</td>\n",
              "      <td>S</td>\n",
              "    </tr>\n",
              "    <tr>\n",
              "      <th>4</th>\n",
              "      <td>5</td>\n",
              "      <td>0</td>\n",
              "      <td>3</td>\n",
              "      <td>Allen, Mr. William Henry</td>\n",
              "      <td>1</td>\n",
              "      <td>35.0</td>\n",
              "      <td>0</td>\n",
              "      <td>0</td>\n",
              "      <td>1</td>\n",
              "      <td>S</td>\n",
              "    </tr>\n",
              "    <tr>\n",
              "      <th>5</th>\n",
              "      <td>6</td>\n",
              "      <td>0</td>\n",
              "      <td>3</td>\n",
              "      <td>Moran, Mr. James</td>\n",
              "      <td>1</td>\n",
              "      <td>26.0</td>\n",
              "      <td>0</td>\n",
              "      <td>0</td>\n",
              "      <td>1</td>\n",
              "      <td>Q</td>\n",
              "    </tr>\n",
              "    <tr>\n",
              "      <th>6</th>\n",
              "      <td>7</td>\n",
              "      <td>0</td>\n",
              "      <td>1</td>\n",
              "      <td>McCarthy, Mr. Timothy J</td>\n",
              "      <td>1</td>\n",
              "      <td>54.0</td>\n",
              "      <td>0</td>\n",
              "      <td>0</td>\n",
              "      <td>3</td>\n",
              "      <td>S</td>\n",
              "    </tr>\n",
              "    <tr>\n",
              "      <th>7</th>\n",
              "      <td>8</td>\n",
              "      <td>0</td>\n",
              "      <td>3</td>\n",
              "      <td>Palsson, Master. Gosta Leonard</td>\n",
              "      <td>1</td>\n",
              "      <td>2.0</td>\n",
              "      <td>3</td>\n",
              "      <td>1</td>\n",
              "      <td>2</td>\n",
              "      <td>S</td>\n",
              "    </tr>\n",
              "    <tr>\n",
              "      <th>8</th>\n",
              "      <td>9</td>\n",
              "      <td>1</td>\n",
              "      <td>3</td>\n",
              "      <td>Johnson, Mrs. Oscar W (Elisabeth Vilhelmina Berg)</td>\n",
              "      <td>0</td>\n",
              "      <td>27.0</td>\n",
              "      <td>0</td>\n",
              "      <td>2</td>\n",
              "      <td>1</td>\n",
              "      <td>S</td>\n",
              "    </tr>\n",
              "    <tr>\n",
              "      <th>9</th>\n",
              "      <td>10</td>\n",
              "      <td>1</td>\n",
              "      <td>2</td>\n",
              "      <td>Nasser, Mrs. Nicholas (Adele Achem)</td>\n",
              "      <td>0</td>\n",
              "      <td>14.0</td>\n",
              "      <td>1</td>\n",
              "      <td>0</td>\n",
              "      <td>2</td>\n",
              "      <td>C</td>\n",
              "    </tr>\n",
              "  </tbody>\n",
              "</table>\n",
              "</div>"
            ],
            "text/plain": [
              "   PassengerId  Survived  Pclass  ... Parch  Fare  Embarked\n",
              "0            1         0       3  ...     0     0         S\n",
              "1            2         1       1  ...     0     3         C\n",
              "2            3         1       3  ...     0     1         S\n",
              "3            4         1       1  ...     0     3         S\n",
              "4            5         0       3  ...     0     1         S\n",
              "5            6         0       3  ...     0     1         Q\n",
              "6            7         0       1  ...     0     3         S\n",
              "7            8         0       3  ...     1     2         S\n",
              "8            9         1       3  ...     2     1         S\n",
              "9           10         1       2  ...     0     2         C\n",
              "\n",
              "[10 rows x 10 columns]"
            ]
          },
          "metadata": {
            "tags": []
          },
          "execution_count": 555
        }
      ]
    },
    {
      "cell_type": "code",
      "metadata": {
        "colab": {
          "base_uri": "https://localhost:8080/",
          "height": 359
        },
        "id": "ij6f_3v_O90G",
        "outputId": "1bd5a869-09de-490a-8d5d-2e2045212c0e"
      },
      "source": [
        "test_df.head(10)"
      ],
      "execution_count": 556,
      "outputs": [
        {
          "output_type": "execute_result",
          "data": {
            "text/html": [
              "<div>\n",
              "<style scoped>\n",
              "    .dataframe tbody tr th:only-of-type {\n",
              "        vertical-align: middle;\n",
              "    }\n",
              "\n",
              "    .dataframe tbody tr th {\n",
              "        vertical-align: top;\n",
              "    }\n",
              "\n",
              "    .dataframe thead th {\n",
              "        text-align: right;\n",
              "    }\n",
              "</style>\n",
              "<table border=\"1\" class=\"dataframe\">\n",
              "  <thead>\n",
              "    <tr style=\"text-align: right;\">\n",
              "      <th></th>\n",
              "      <th>PassengerId</th>\n",
              "      <th>Pclass</th>\n",
              "      <th>Name</th>\n",
              "      <th>Sex</th>\n",
              "      <th>Age</th>\n",
              "      <th>SibSp</th>\n",
              "      <th>Parch</th>\n",
              "      <th>Fare</th>\n",
              "      <th>Embarked</th>\n",
              "    </tr>\n",
              "  </thead>\n",
              "  <tbody>\n",
              "    <tr>\n",
              "      <th>0</th>\n",
              "      <td>892</td>\n",
              "      <td>3</td>\n",
              "      <td>Kelly, Mr. James</td>\n",
              "      <td>1</td>\n",
              "      <td>34.5</td>\n",
              "      <td>0</td>\n",
              "      <td>0</td>\n",
              "      <td>0</td>\n",
              "      <td>Q</td>\n",
              "    </tr>\n",
              "    <tr>\n",
              "      <th>1</th>\n",
              "      <td>893</td>\n",
              "      <td>3</td>\n",
              "      <td>Wilkes, Mrs. James (Ellen Needs)</td>\n",
              "      <td>0</td>\n",
              "      <td>47.0</td>\n",
              "      <td>1</td>\n",
              "      <td>0</td>\n",
              "      <td>0</td>\n",
              "      <td>S</td>\n",
              "    </tr>\n",
              "    <tr>\n",
              "      <th>2</th>\n",
              "      <td>894</td>\n",
              "      <td>2</td>\n",
              "      <td>Myles, Mr. Thomas Francis</td>\n",
              "      <td>1</td>\n",
              "      <td>62.0</td>\n",
              "      <td>0</td>\n",
              "      <td>0</td>\n",
              "      <td>1</td>\n",
              "      <td>Q</td>\n",
              "    </tr>\n",
              "    <tr>\n",
              "      <th>3</th>\n",
              "      <td>895</td>\n",
              "      <td>3</td>\n",
              "      <td>Wirz, Mr. Albert</td>\n",
              "      <td>1</td>\n",
              "      <td>27.0</td>\n",
              "      <td>0</td>\n",
              "      <td>0</td>\n",
              "      <td>1</td>\n",
              "      <td>S</td>\n",
              "    </tr>\n",
              "    <tr>\n",
              "      <th>4</th>\n",
              "      <td>896</td>\n",
              "      <td>3</td>\n",
              "      <td>Hirvonen, Mrs. Alexander (Helga E Lindqvist)</td>\n",
              "      <td>0</td>\n",
              "      <td>22.0</td>\n",
              "      <td>1</td>\n",
              "      <td>1</td>\n",
              "      <td>1</td>\n",
              "      <td>S</td>\n",
              "    </tr>\n",
              "    <tr>\n",
              "      <th>5</th>\n",
              "      <td>897</td>\n",
              "      <td>3</td>\n",
              "      <td>Svensson, Mr. Johan Cervin</td>\n",
              "      <td>1</td>\n",
              "      <td>14.0</td>\n",
              "      <td>0</td>\n",
              "      <td>0</td>\n",
              "      <td>1</td>\n",
              "      <td>S</td>\n",
              "    </tr>\n",
              "    <tr>\n",
              "      <th>6</th>\n",
              "      <td>898</td>\n",
              "      <td>3</td>\n",
              "      <td>Connolly, Miss. Kate</td>\n",
              "      <td>0</td>\n",
              "      <td>30.0</td>\n",
              "      <td>0</td>\n",
              "      <td>0</td>\n",
              "      <td>0</td>\n",
              "      <td>Q</td>\n",
              "    </tr>\n",
              "    <tr>\n",
              "      <th>7</th>\n",
              "      <td>899</td>\n",
              "      <td>2</td>\n",
              "      <td>Caldwell, Mr. Albert Francis</td>\n",
              "      <td>1</td>\n",
              "      <td>26.0</td>\n",
              "      <td>1</td>\n",
              "      <td>1</td>\n",
              "      <td>2</td>\n",
              "      <td>S</td>\n",
              "    </tr>\n",
              "    <tr>\n",
              "      <th>8</th>\n",
              "      <td>900</td>\n",
              "      <td>3</td>\n",
              "      <td>Abrahim, Mrs. Joseph (Sophie Halaut Easu)</td>\n",
              "      <td>0</td>\n",
              "      <td>18.0</td>\n",
              "      <td>0</td>\n",
              "      <td>0</td>\n",
              "      <td>0</td>\n",
              "      <td>C</td>\n",
              "    </tr>\n",
              "    <tr>\n",
              "      <th>9</th>\n",
              "      <td>901</td>\n",
              "      <td>3</td>\n",
              "      <td>Davies, Mr. John Samuel</td>\n",
              "      <td>1</td>\n",
              "      <td>21.0</td>\n",
              "      <td>2</td>\n",
              "      <td>0</td>\n",
              "      <td>2</td>\n",
              "      <td>S</td>\n",
              "    </tr>\n",
              "  </tbody>\n",
              "</table>\n",
              "</div>"
            ],
            "text/plain": [
              "   PassengerId  Pclass  ... Fare  Embarked\n",
              "0          892       3  ...    0         Q\n",
              "1          893       3  ...    0         S\n",
              "2          894       2  ...    1         Q\n",
              "3          895       3  ...    1         S\n",
              "4          896       3  ...    1         S\n",
              "5          897       3  ...    1         S\n",
              "6          898       3  ...    0         Q\n",
              "7          899       2  ...    2         S\n",
              "8          900       3  ...    0         C\n",
              "9          901       3  ...    2         S\n",
              "\n",
              "[10 rows x 9 columns]"
            ]
          },
          "metadata": {
            "tags": []
          },
          "execution_count": 556
        }
      ]
    },
    {
      "cell_type": "code",
      "metadata": {
        "colab": {
          "base_uri": "https://localhost:8080/"
        },
        "id": "VNN6Jv_gPA45",
        "outputId": "59e252de-cb88-456b-91b4-08031c6a77b2"
      },
      "source": [
        "train_df.isnull().sum()"
      ],
      "execution_count": 557,
      "outputs": [
        {
          "output_type": "execute_result",
          "data": {
            "text/plain": [
              "PassengerId    0\n",
              "Survived       0\n",
              "Pclass         0\n",
              "Name           0\n",
              "Sex            0\n",
              "Age            0\n",
              "SibSp          0\n",
              "Parch          0\n",
              "Fare           0\n",
              "Embarked       0\n",
              "dtype: int64"
            ]
          },
          "metadata": {
            "tags": []
          },
          "execution_count": 557
        }
      ]
    },
    {
      "cell_type": "code",
      "metadata": {
        "colab": {
          "base_uri": "https://localhost:8080/"
        },
        "id": "imaGA3VqPFCB",
        "outputId": "2c4fbd53-b1e4-4a07-ae37-becfc388cb7b"
      },
      "source": [
        "test_df.isnull().sum()"
      ],
      "execution_count": 558,
      "outputs": [
        {
          "output_type": "execute_result",
          "data": {
            "text/plain": [
              "PassengerId    0\n",
              "Pclass         0\n",
              "Name           0\n",
              "Sex            0\n",
              "Age            0\n",
              "SibSp          0\n",
              "Parch          0\n",
              "Fare           0\n",
              "Embarked       0\n",
              "dtype: int64"
            ]
          },
          "metadata": {
            "tags": []
          },
          "execution_count": 558
        }
      ]
    },
    {
      "cell_type": "code",
      "metadata": {
        "id": "yqAcL7mxPL2s"
      },
      "source": [
        "for d in both:\n",
        "    d['PTitle'] = d.Name.str.extract(' ([A-Za-z]+)\\.', expand=False)"
      ],
      "execution_count": 559,
      "outputs": []
    },
    {
      "cell_type": "code",
      "metadata": {
        "colab": {
          "base_uri": "https://localhost:8080/",
          "height": 607
        },
        "id": "wXNHfpV5PSiv",
        "outputId": "d50ca5d3-b527-4196-9e30-62ca72ace25b"
      },
      "source": [
        "pd.crosstab(train_df['PTitle'], train_df['Sex'])"
      ],
      "execution_count": 560,
      "outputs": [
        {
          "output_type": "execute_result",
          "data": {
            "text/html": [
              "<div>\n",
              "<style scoped>\n",
              "    .dataframe tbody tr th:only-of-type {\n",
              "        vertical-align: middle;\n",
              "    }\n",
              "\n",
              "    .dataframe tbody tr th {\n",
              "        vertical-align: top;\n",
              "    }\n",
              "\n",
              "    .dataframe thead th {\n",
              "        text-align: right;\n",
              "    }\n",
              "</style>\n",
              "<table border=\"1\" class=\"dataframe\">\n",
              "  <thead>\n",
              "    <tr style=\"text-align: right;\">\n",
              "      <th>Sex</th>\n",
              "      <th>0</th>\n",
              "      <th>1</th>\n",
              "    </tr>\n",
              "    <tr>\n",
              "      <th>PTitle</th>\n",
              "      <th></th>\n",
              "      <th></th>\n",
              "    </tr>\n",
              "  </thead>\n",
              "  <tbody>\n",
              "    <tr>\n",
              "      <th>Capt</th>\n",
              "      <td>0</td>\n",
              "      <td>1</td>\n",
              "    </tr>\n",
              "    <tr>\n",
              "      <th>Col</th>\n",
              "      <td>0</td>\n",
              "      <td>2</td>\n",
              "    </tr>\n",
              "    <tr>\n",
              "      <th>Countess</th>\n",
              "      <td>1</td>\n",
              "      <td>0</td>\n",
              "    </tr>\n",
              "    <tr>\n",
              "      <th>Don</th>\n",
              "      <td>0</td>\n",
              "      <td>1</td>\n",
              "    </tr>\n",
              "    <tr>\n",
              "      <th>Dr</th>\n",
              "      <td>1</td>\n",
              "      <td>6</td>\n",
              "    </tr>\n",
              "    <tr>\n",
              "      <th>Jonkheer</th>\n",
              "      <td>0</td>\n",
              "      <td>1</td>\n",
              "    </tr>\n",
              "    <tr>\n",
              "      <th>Lady</th>\n",
              "      <td>1</td>\n",
              "      <td>0</td>\n",
              "    </tr>\n",
              "    <tr>\n",
              "      <th>Major</th>\n",
              "      <td>0</td>\n",
              "      <td>2</td>\n",
              "    </tr>\n",
              "    <tr>\n",
              "      <th>Master</th>\n",
              "      <td>0</td>\n",
              "      <td>40</td>\n",
              "    </tr>\n",
              "    <tr>\n",
              "      <th>Miss</th>\n",
              "      <td>182</td>\n",
              "      <td>0</td>\n",
              "    </tr>\n",
              "    <tr>\n",
              "      <th>Mlle</th>\n",
              "      <td>2</td>\n",
              "      <td>0</td>\n",
              "    </tr>\n",
              "    <tr>\n",
              "      <th>Mme</th>\n",
              "      <td>1</td>\n",
              "      <td>0</td>\n",
              "    </tr>\n",
              "    <tr>\n",
              "      <th>Mr</th>\n",
              "      <td>0</td>\n",
              "      <td>517</td>\n",
              "    </tr>\n",
              "    <tr>\n",
              "      <th>Mrs</th>\n",
              "      <td>125</td>\n",
              "      <td>0</td>\n",
              "    </tr>\n",
              "    <tr>\n",
              "      <th>Ms</th>\n",
              "      <td>1</td>\n",
              "      <td>0</td>\n",
              "    </tr>\n",
              "    <tr>\n",
              "      <th>Rev</th>\n",
              "      <td>0</td>\n",
              "      <td>6</td>\n",
              "    </tr>\n",
              "    <tr>\n",
              "      <th>Sir</th>\n",
              "      <td>0</td>\n",
              "      <td>1</td>\n",
              "    </tr>\n",
              "  </tbody>\n",
              "</table>\n",
              "</div>"
            ],
            "text/plain": [
              "Sex         0    1\n",
              "PTitle            \n",
              "Capt        0    1\n",
              "Col         0    2\n",
              "Countess    1    0\n",
              "Don         0    1\n",
              "Dr          1    6\n",
              "Jonkheer    0    1\n",
              "Lady        1    0\n",
              "Major       0    2\n",
              "Master      0   40\n",
              "Miss      182    0\n",
              "Mlle        2    0\n",
              "Mme         1    0\n",
              "Mr          0  517\n",
              "Mrs       125    0\n",
              "Ms          1    0\n",
              "Rev         0    6\n",
              "Sir         0    1"
            ]
          },
          "metadata": {
            "tags": []
          },
          "execution_count": 560
        }
      ]
    },
    {
      "cell_type": "code",
      "metadata": {
        "colab": {
          "base_uri": "https://localhost:8080/",
          "height": 204
        },
        "id": "bv6gczcNPZBs",
        "outputId": "b15599ec-b1aa-416d-84dc-aba1f767d8b7"
      },
      "source": [
        "for d in both:\n",
        "    d['PTitle'] = d['PTitle'].replace(['Lady', 'Countess','Capt', 'Col','Don', 'Dr', 'Major', 'Rev', 'Sir', 'Jonkheer', 'Dona'], 'Rare')\n",
        "    d['PTitle'] = d['PTitle'].replace('Mlle', 'Miss')\n",
        "    d['PTitle'] = d['PTitle'].replace('Ms', 'Miss')\n",
        "    d['PTitle'] = d['PTitle'].replace('Mme', 'Mrs')\n",
        "train_df[['PTitle', 'Survived']].groupby(['PTitle'], as_index=False).mean()"
      ],
      "execution_count": 561,
      "outputs": [
        {
          "output_type": "execute_result",
          "data": {
            "text/html": [
              "<div>\n",
              "<style scoped>\n",
              "    .dataframe tbody tr th:only-of-type {\n",
              "        vertical-align: middle;\n",
              "    }\n",
              "\n",
              "    .dataframe tbody tr th {\n",
              "        vertical-align: top;\n",
              "    }\n",
              "\n",
              "    .dataframe thead th {\n",
              "        text-align: right;\n",
              "    }\n",
              "</style>\n",
              "<table border=\"1\" class=\"dataframe\">\n",
              "  <thead>\n",
              "    <tr style=\"text-align: right;\">\n",
              "      <th></th>\n",
              "      <th>PTitle</th>\n",
              "      <th>Survived</th>\n",
              "    </tr>\n",
              "  </thead>\n",
              "  <tbody>\n",
              "    <tr>\n",
              "      <th>0</th>\n",
              "      <td>Master</td>\n",
              "      <td>0.575000</td>\n",
              "    </tr>\n",
              "    <tr>\n",
              "      <th>1</th>\n",
              "      <td>Miss</td>\n",
              "      <td>0.702703</td>\n",
              "    </tr>\n",
              "    <tr>\n",
              "      <th>2</th>\n",
              "      <td>Mr</td>\n",
              "      <td>0.156673</td>\n",
              "    </tr>\n",
              "    <tr>\n",
              "      <th>3</th>\n",
              "      <td>Mrs</td>\n",
              "      <td>0.793651</td>\n",
              "    </tr>\n",
              "    <tr>\n",
              "      <th>4</th>\n",
              "      <td>Rare</td>\n",
              "      <td>0.347826</td>\n",
              "    </tr>\n",
              "  </tbody>\n",
              "</table>\n",
              "</div>"
            ],
            "text/plain": [
              "   PTitle  Survived\n",
              "0  Master  0.575000\n",
              "1    Miss  0.702703\n",
              "2      Mr  0.156673\n",
              "3     Mrs  0.793651\n",
              "4    Rare  0.347826"
            ]
          },
          "metadata": {
            "tags": []
          },
          "execution_count": 561
        }
      ]
    },
    {
      "cell_type": "code",
      "metadata": {
        "id": "P1HKHN9gPuY8"
      },
      "source": [
        "map_title = {\"Mr\": 1, \"Miss\": 2, \"Mrs\": 3, \"Master\": 4, \"Rare\": 5}\n",
        "for d in both:\n",
        "    d['PTitle'] = d['PTitle'].map(map_title)\n",
        "    d['PTitle'] = d['PTitle'].fillna(0)"
      ],
      "execution_count": 562,
      "outputs": []
    },
    {
      "cell_type": "code",
      "metadata": {
        "colab": {
          "base_uri": "https://localhost:8080/",
          "height": 204
        },
        "id": "I9IHAjhfP7Vt",
        "outputId": "85d81260-0ddd-4f8d-97d0-d7a4190209d8"
      },
      "source": [
        "train_df.head()"
      ],
      "execution_count": 563,
      "outputs": [
        {
          "output_type": "execute_result",
          "data": {
            "text/html": [
              "<div>\n",
              "<style scoped>\n",
              "    .dataframe tbody tr th:only-of-type {\n",
              "        vertical-align: middle;\n",
              "    }\n",
              "\n",
              "    .dataframe tbody tr th {\n",
              "        vertical-align: top;\n",
              "    }\n",
              "\n",
              "    .dataframe thead th {\n",
              "        text-align: right;\n",
              "    }\n",
              "</style>\n",
              "<table border=\"1\" class=\"dataframe\">\n",
              "  <thead>\n",
              "    <tr style=\"text-align: right;\">\n",
              "      <th></th>\n",
              "      <th>PassengerId</th>\n",
              "      <th>Survived</th>\n",
              "      <th>Pclass</th>\n",
              "      <th>Name</th>\n",
              "      <th>Sex</th>\n",
              "      <th>Age</th>\n",
              "      <th>SibSp</th>\n",
              "      <th>Parch</th>\n",
              "      <th>Fare</th>\n",
              "      <th>Embarked</th>\n",
              "      <th>PTitle</th>\n",
              "    </tr>\n",
              "  </thead>\n",
              "  <tbody>\n",
              "    <tr>\n",
              "      <th>0</th>\n",
              "      <td>1</td>\n",
              "      <td>0</td>\n",
              "      <td>3</td>\n",
              "      <td>Braund, Mr. Owen Harris</td>\n",
              "      <td>1</td>\n",
              "      <td>22.0</td>\n",
              "      <td>1</td>\n",
              "      <td>0</td>\n",
              "      <td>0</td>\n",
              "      <td>S</td>\n",
              "      <td>1</td>\n",
              "    </tr>\n",
              "    <tr>\n",
              "      <th>1</th>\n",
              "      <td>2</td>\n",
              "      <td>1</td>\n",
              "      <td>1</td>\n",
              "      <td>Cumings, Mrs. John Bradley (Florence Briggs Th...</td>\n",
              "      <td>0</td>\n",
              "      <td>38.0</td>\n",
              "      <td>1</td>\n",
              "      <td>0</td>\n",
              "      <td>3</td>\n",
              "      <td>C</td>\n",
              "      <td>3</td>\n",
              "    </tr>\n",
              "    <tr>\n",
              "      <th>2</th>\n",
              "      <td>3</td>\n",
              "      <td>1</td>\n",
              "      <td>3</td>\n",
              "      <td>Heikkinen, Miss. Laina</td>\n",
              "      <td>0</td>\n",
              "      <td>26.0</td>\n",
              "      <td>0</td>\n",
              "      <td>0</td>\n",
              "      <td>1</td>\n",
              "      <td>S</td>\n",
              "      <td>2</td>\n",
              "    </tr>\n",
              "    <tr>\n",
              "      <th>3</th>\n",
              "      <td>4</td>\n",
              "      <td>1</td>\n",
              "      <td>1</td>\n",
              "      <td>Futrelle, Mrs. Jacques Heath (Lily May Peel)</td>\n",
              "      <td>0</td>\n",
              "      <td>35.0</td>\n",
              "      <td>1</td>\n",
              "      <td>0</td>\n",
              "      <td>3</td>\n",
              "      <td>S</td>\n",
              "      <td>3</td>\n",
              "    </tr>\n",
              "    <tr>\n",
              "      <th>4</th>\n",
              "      <td>5</td>\n",
              "      <td>0</td>\n",
              "      <td>3</td>\n",
              "      <td>Allen, Mr. William Henry</td>\n",
              "      <td>1</td>\n",
              "      <td>35.0</td>\n",
              "      <td>0</td>\n",
              "      <td>0</td>\n",
              "      <td>1</td>\n",
              "      <td>S</td>\n",
              "      <td>1</td>\n",
              "    </tr>\n",
              "  </tbody>\n",
              "</table>\n",
              "</div>"
            ],
            "text/plain": [
              "   PassengerId  Survived  Pclass  ... Fare  Embarked  PTitle\n",
              "0            1         0       3  ...    0         S       1\n",
              "1            2         1       1  ...    3         C       3\n",
              "2            3         1       3  ...    1         S       2\n",
              "3            4         1       1  ...    3         S       3\n",
              "4            5         0       3  ...    1         S       1\n",
              "\n",
              "[5 rows x 11 columns]"
            ]
          },
          "metadata": {
            "tags": []
          },
          "execution_count": 563
        }
      ]
    },
    {
      "cell_type": "code",
      "metadata": {
        "id": "b9suSFXAQACO"
      },
      "source": [
        "for d in both:\n",
        "    d['Embarked'] = d['Embarked'].map( {'S': 0, 'C': 1, 'Q': 2} ).astype(int)\n",
        "for d in both:\n",
        "    d['Age'] = d['Age'].astype(int)\n",
        "for d in both:\n",
        "    d['Family'] = d['SibSp'] + d['Parch'] + 1\n",
        "for d in both:\n",
        "    d['IsAlone'] = 0\n",
        "    d.loc[d['Family'] == 1, 'IsAlone'] = 1"
      ],
      "execution_count": 564,
      "outputs": []
    },
    {
      "cell_type": "code",
      "metadata": {
        "colab": {
          "base_uri": "https://localhost:8080/",
          "height": 238
        },
        "id": "5v-Rj1efQZbu",
        "outputId": "a0fde810-3e2f-4d5a-b0c0-7a30d6824f6a"
      },
      "source": [
        "train_df.head()"
      ],
      "execution_count": 565,
      "outputs": [
        {
          "output_type": "execute_result",
          "data": {
            "text/html": [
              "<div>\n",
              "<style scoped>\n",
              "    .dataframe tbody tr th:only-of-type {\n",
              "        vertical-align: middle;\n",
              "    }\n",
              "\n",
              "    .dataframe tbody tr th {\n",
              "        vertical-align: top;\n",
              "    }\n",
              "\n",
              "    .dataframe thead th {\n",
              "        text-align: right;\n",
              "    }\n",
              "</style>\n",
              "<table border=\"1\" class=\"dataframe\">\n",
              "  <thead>\n",
              "    <tr style=\"text-align: right;\">\n",
              "      <th></th>\n",
              "      <th>PassengerId</th>\n",
              "      <th>Survived</th>\n",
              "      <th>Pclass</th>\n",
              "      <th>Name</th>\n",
              "      <th>Sex</th>\n",
              "      <th>Age</th>\n",
              "      <th>SibSp</th>\n",
              "      <th>Parch</th>\n",
              "      <th>Fare</th>\n",
              "      <th>Embarked</th>\n",
              "      <th>PTitle</th>\n",
              "      <th>Family</th>\n",
              "      <th>IsAlone</th>\n",
              "    </tr>\n",
              "  </thead>\n",
              "  <tbody>\n",
              "    <tr>\n",
              "      <th>0</th>\n",
              "      <td>1</td>\n",
              "      <td>0</td>\n",
              "      <td>3</td>\n",
              "      <td>Braund, Mr. Owen Harris</td>\n",
              "      <td>1</td>\n",
              "      <td>22</td>\n",
              "      <td>1</td>\n",
              "      <td>0</td>\n",
              "      <td>0</td>\n",
              "      <td>0</td>\n",
              "      <td>1</td>\n",
              "      <td>2</td>\n",
              "      <td>0</td>\n",
              "    </tr>\n",
              "    <tr>\n",
              "      <th>1</th>\n",
              "      <td>2</td>\n",
              "      <td>1</td>\n",
              "      <td>1</td>\n",
              "      <td>Cumings, Mrs. John Bradley (Florence Briggs Th...</td>\n",
              "      <td>0</td>\n",
              "      <td>38</td>\n",
              "      <td>1</td>\n",
              "      <td>0</td>\n",
              "      <td>3</td>\n",
              "      <td>1</td>\n",
              "      <td>3</td>\n",
              "      <td>2</td>\n",
              "      <td>0</td>\n",
              "    </tr>\n",
              "    <tr>\n",
              "      <th>2</th>\n",
              "      <td>3</td>\n",
              "      <td>1</td>\n",
              "      <td>3</td>\n",
              "      <td>Heikkinen, Miss. Laina</td>\n",
              "      <td>0</td>\n",
              "      <td>26</td>\n",
              "      <td>0</td>\n",
              "      <td>0</td>\n",
              "      <td>1</td>\n",
              "      <td>0</td>\n",
              "      <td>2</td>\n",
              "      <td>1</td>\n",
              "      <td>1</td>\n",
              "    </tr>\n",
              "    <tr>\n",
              "      <th>3</th>\n",
              "      <td>4</td>\n",
              "      <td>1</td>\n",
              "      <td>1</td>\n",
              "      <td>Futrelle, Mrs. Jacques Heath (Lily May Peel)</td>\n",
              "      <td>0</td>\n",
              "      <td>35</td>\n",
              "      <td>1</td>\n",
              "      <td>0</td>\n",
              "      <td>3</td>\n",
              "      <td>0</td>\n",
              "      <td>3</td>\n",
              "      <td>2</td>\n",
              "      <td>0</td>\n",
              "    </tr>\n",
              "    <tr>\n",
              "      <th>4</th>\n",
              "      <td>5</td>\n",
              "      <td>0</td>\n",
              "      <td>3</td>\n",
              "      <td>Allen, Mr. William Henry</td>\n",
              "      <td>1</td>\n",
              "      <td>35</td>\n",
              "      <td>0</td>\n",
              "      <td>0</td>\n",
              "      <td>1</td>\n",
              "      <td>0</td>\n",
              "      <td>1</td>\n",
              "      <td>1</td>\n",
              "      <td>1</td>\n",
              "    </tr>\n",
              "  </tbody>\n",
              "</table>\n",
              "</div>"
            ],
            "text/plain": [
              "   PassengerId  Survived  Pclass  ... PTitle  Family  IsAlone\n",
              "0            1         0       3  ...      1       2        0\n",
              "1            2         1       1  ...      3       2        0\n",
              "2            3         1       3  ...      2       1        1\n",
              "3            4         1       1  ...      3       2        0\n",
              "4            5         0       3  ...      1       1        1\n",
              "\n",
              "[5 rows x 13 columns]"
            ]
          },
          "metadata": {
            "tags": []
          },
          "execution_count": 565
        }
      ]
    },
    {
      "cell_type": "code",
      "metadata": {
        "colab": {
          "base_uri": "https://localhost:8080/",
          "height": 328
        },
        "id": "LQW64O9aQeBW",
        "outputId": "6a691b67-27de-4029-c151-c71632b04230"
      },
      "source": [
        "train_df[['Family', 'Survived']].groupby(['Family'], as_index=False).mean().sort_values(by='Survived', ascending=False)"
      ],
      "execution_count": 566,
      "outputs": [
        {
          "output_type": "execute_result",
          "data": {
            "text/html": [
              "<div>\n",
              "<style scoped>\n",
              "    .dataframe tbody tr th:only-of-type {\n",
              "        vertical-align: middle;\n",
              "    }\n",
              "\n",
              "    .dataframe tbody tr th {\n",
              "        vertical-align: top;\n",
              "    }\n",
              "\n",
              "    .dataframe thead th {\n",
              "        text-align: right;\n",
              "    }\n",
              "</style>\n",
              "<table border=\"1\" class=\"dataframe\">\n",
              "  <thead>\n",
              "    <tr style=\"text-align: right;\">\n",
              "      <th></th>\n",
              "      <th>Family</th>\n",
              "      <th>Survived</th>\n",
              "    </tr>\n",
              "  </thead>\n",
              "  <tbody>\n",
              "    <tr>\n",
              "      <th>3</th>\n",
              "      <td>4</td>\n",
              "      <td>0.724138</td>\n",
              "    </tr>\n",
              "    <tr>\n",
              "      <th>2</th>\n",
              "      <td>3</td>\n",
              "      <td>0.578431</td>\n",
              "    </tr>\n",
              "    <tr>\n",
              "      <th>1</th>\n",
              "      <td>2</td>\n",
              "      <td>0.552795</td>\n",
              "    </tr>\n",
              "    <tr>\n",
              "      <th>6</th>\n",
              "      <td>7</td>\n",
              "      <td>0.333333</td>\n",
              "    </tr>\n",
              "    <tr>\n",
              "      <th>0</th>\n",
              "      <td>1</td>\n",
              "      <td>0.303538</td>\n",
              "    </tr>\n",
              "    <tr>\n",
              "      <th>4</th>\n",
              "      <td>5</td>\n",
              "      <td>0.200000</td>\n",
              "    </tr>\n",
              "    <tr>\n",
              "      <th>5</th>\n",
              "      <td>6</td>\n",
              "      <td>0.136364</td>\n",
              "    </tr>\n",
              "    <tr>\n",
              "      <th>7</th>\n",
              "      <td>8</td>\n",
              "      <td>0.000000</td>\n",
              "    </tr>\n",
              "    <tr>\n",
              "      <th>8</th>\n",
              "      <td>11</td>\n",
              "      <td>0.000000</td>\n",
              "    </tr>\n",
              "  </tbody>\n",
              "</table>\n",
              "</div>"
            ],
            "text/plain": [
              "   Family  Survived\n",
              "3       4  0.724138\n",
              "2       3  0.578431\n",
              "1       2  0.552795\n",
              "6       7  0.333333\n",
              "0       1  0.303538\n",
              "4       5  0.200000\n",
              "5       6  0.136364\n",
              "7       8  0.000000\n",
              "8      11  0.000000"
            ]
          },
          "metadata": {
            "tags": []
          },
          "execution_count": 566
        }
      ]
    },
    {
      "cell_type": "code",
      "metadata": {
        "colab": {
          "base_uri": "https://localhost:8080/",
          "height": 111
        },
        "id": "IEdfdHW7Qvzx",
        "outputId": "70f5f9a6-87da-406f-ec24-7f08c6a54323"
      },
      "source": [
        "train_df[['IsAlone', 'Survived']].groupby(['IsAlone'], as_index=False).mean()"
      ],
      "execution_count": 567,
      "outputs": [
        {
          "output_type": "execute_result",
          "data": {
            "text/html": [
              "<div>\n",
              "<style scoped>\n",
              "    .dataframe tbody tr th:only-of-type {\n",
              "        vertical-align: middle;\n",
              "    }\n",
              "\n",
              "    .dataframe tbody tr th {\n",
              "        vertical-align: top;\n",
              "    }\n",
              "\n",
              "    .dataframe thead th {\n",
              "        text-align: right;\n",
              "    }\n",
              "</style>\n",
              "<table border=\"1\" class=\"dataframe\">\n",
              "  <thead>\n",
              "    <tr style=\"text-align: right;\">\n",
              "      <th></th>\n",
              "      <th>IsAlone</th>\n",
              "      <th>Survived</th>\n",
              "    </tr>\n",
              "  </thead>\n",
              "  <tbody>\n",
              "    <tr>\n",
              "      <th>0</th>\n",
              "      <td>0</td>\n",
              "      <td>0.505650</td>\n",
              "    </tr>\n",
              "    <tr>\n",
              "      <th>1</th>\n",
              "      <td>1</td>\n",
              "      <td>0.303538</td>\n",
              "    </tr>\n",
              "  </tbody>\n",
              "</table>\n",
              "</div>"
            ],
            "text/plain": [
              "   IsAlone  Survived\n",
              "0        0  0.505650\n",
              "1        1  0.303538"
            ]
          },
          "metadata": {
            "tags": []
          },
          "execution_count": 567
        }
      ]
    },
    {
      "cell_type": "code",
      "metadata": {
        "colab": {
          "base_uri": "https://localhost:8080/",
          "height": 204
        },
        "id": "gkJMdeyXQz79",
        "outputId": "304c4e57-2eb2-4cc8-dd4b-c9a65223cc62"
      },
      "source": [
        "test_df.head()"
      ],
      "execution_count": 568,
      "outputs": [
        {
          "output_type": "execute_result",
          "data": {
            "text/html": [
              "<div>\n",
              "<style scoped>\n",
              "    .dataframe tbody tr th:only-of-type {\n",
              "        vertical-align: middle;\n",
              "    }\n",
              "\n",
              "    .dataframe tbody tr th {\n",
              "        vertical-align: top;\n",
              "    }\n",
              "\n",
              "    .dataframe thead th {\n",
              "        text-align: right;\n",
              "    }\n",
              "</style>\n",
              "<table border=\"1\" class=\"dataframe\">\n",
              "  <thead>\n",
              "    <tr style=\"text-align: right;\">\n",
              "      <th></th>\n",
              "      <th>PassengerId</th>\n",
              "      <th>Pclass</th>\n",
              "      <th>Name</th>\n",
              "      <th>Sex</th>\n",
              "      <th>Age</th>\n",
              "      <th>SibSp</th>\n",
              "      <th>Parch</th>\n",
              "      <th>Fare</th>\n",
              "      <th>Embarked</th>\n",
              "      <th>PTitle</th>\n",
              "      <th>Family</th>\n",
              "      <th>IsAlone</th>\n",
              "    </tr>\n",
              "  </thead>\n",
              "  <tbody>\n",
              "    <tr>\n",
              "      <th>0</th>\n",
              "      <td>892</td>\n",
              "      <td>3</td>\n",
              "      <td>Kelly, Mr. James</td>\n",
              "      <td>1</td>\n",
              "      <td>34</td>\n",
              "      <td>0</td>\n",
              "      <td>0</td>\n",
              "      <td>0</td>\n",
              "      <td>2</td>\n",
              "      <td>1</td>\n",
              "      <td>1</td>\n",
              "      <td>1</td>\n",
              "    </tr>\n",
              "    <tr>\n",
              "      <th>1</th>\n",
              "      <td>893</td>\n",
              "      <td>3</td>\n",
              "      <td>Wilkes, Mrs. James (Ellen Needs)</td>\n",
              "      <td>0</td>\n",
              "      <td>47</td>\n",
              "      <td>1</td>\n",
              "      <td>0</td>\n",
              "      <td>0</td>\n",
              "      <td>0</td>\n",
              "      <td>3</td>\n",
              "      <td>2</td>\n",
              "      <td>0</td>\n",
              "    </tr>\n",
              "    <tr>\n",
              "      <th>2</th>\n",
              "      <td>894</td>\n",
              "      <td>2</td>\n",
              "      <td>Myles, Mr. Thomas Francis</td>\n",
              "      <td>1</td>\n",
              "      <td>62</td>\n",
              "      <td>0</td>\n",
              "      <td>0</td>\n",
              "      <td>1</td>\n",
              "      <td>2</td>\n",
              "      <td>1</td>\n",
              "      <td>1</td>\n",
              "      <td>1</td>\n",
              "    </tr>\n",
              "    <tr>\n",
              "      <th>3</th>\n",
              "      <td>895</td>\n",
              "      <td>3</td>\n",
              "      <td>Wirz, Mr. Albert</td>\n",
              "      <td>1</td>\n",
              "      <td>27</td>\n",
              "      <td>0</td>\n",
              "      <td>0</td>\n",
              "      <td>1</td>\n",
              "      <td>0</td>\n",
              "      <td>1</td>\n",
              "      <td>1</td>\n",
              "      <td>1</td>\n",
              "    </tr>\n",
              "    <tr>\n",
              "      <th>4</th>\n",
              "      <td>896</td>\n",
              "      <td>3</td>\n",
              "      <td>Hirvonen, Mrs. Alexander (Helga E Lindqvist)</td>\n",
              "      <td>0</td>\n",
              "      <td>22</td>\n",
              "      <td>1</td>\n",
              "      <td>1</td>\n",
              "      <td>1</td>\n",
              "      <td>0</td>\n",
              "      <td>3</td>\n",
              "      <td>3</td>\n",
              "      <td>0</td>\n",
              "    </tr>\n",
              "  </tbody>\n",
              "</table>\n",
              "</div>"
            ],
            "text/plain": [
              "   PassengerId  Pclass  ... Family  IsAlone\n",
              "0          892       3  ...      1        1\n",
              "1          893       3  ...      2        0\n",
              "2          894       2  ...      1        1\n",
              "3          895       3  ...      1        1\n",
              "4          896       3  ...      3        0\n",
              "\n",
              "[5 rows x 12 columns]"
            ]
          },
          "metadata": {
            "tags": []
          },
          "execution_count": 568
        }
      ]
    },
    {
      "cell_type": "code",
      "metadata": {
        "colab": {
          "base_uri": "https://localhost:8080/",
          "height": 297
        },
        "id": "sc00bUF6Q2OY",
        "outputId": "5483dcbd-a3a9-4b99-cca2-2d938dd2ab51"
      },
      "source": [
        "train_df['RangeofAge'] = pd.cut(train_df['Age'], 8)\n",
        "train_df[['RangeofAge', 'Survived']].groupby(['RangeofAge'], as_index=False).mean().sort_values(by='RangeofAge', ascending=True)  "
      ],
      "execution_count": 569,
      "outputs": [
        {
          "output_type": "execute_result",
          "data": {
            "text/html": [
              "<div>\n",
              "<style scoped>\n",
              "    .dataframe tbody tr th:only-of-type {\n",
              "        vertical-align: middle;\n",
              "    }\n",
              "\n",
              "    .dataframe tbody tr th {\n",
              "        vertical-align: top;\n",
              "    }\n",
              "\n",
              "    .dataframe thead th {\n",
              "        text-align: right;\n",
              "    }\n",
              "</style>\n",
              "<table border=\"1\" class=\"dataframe\">\n",
              "  <thead>\n",
              "    <tr style=\"text-align: right;\">\n",
              "      <th></th>\n",
              "      <th>RangeofAge</th>\n",
              "      <th>Survived</th>\n",
              "    </tr>\n",
              "  </thead>\n",
              "  <tbody>\n",
              "    <tr>\n",
              "      <th>0</th>\n",
              "      <td>(-0.08, 10.0]</td>\n",
              "      <td>0.593750</td>\n",
              "    </tr>\n",
              "    <tr>\n",
              "      <th>1</th>\n",
              "      <td>(10.0, 20.0]</td>\n",
              "      <td>0.328358</td>\n",
              "    </tr>\n",
              "    <tr>\n",
              "      <th>2</th>\n",
              "      <td>(20.0, 30.0]</td>\n",
              "      <td>0.352941</td>\n",
              "    </tr>\n",
              "    <tr>\n",
              "      <th>3</th>\n",
              "      <td>(30.0, 40.0]</td>\n",
              "      <td>0.445161</td>\n",
              "    </tr>\n",
              "    <tr>\n",
              "      <th>4</th>\n",
              "      <td>(40.0, 50.0]</td>\n",
              "      <td>0.392857</td>\n",
              "    </tr>\n",
              "    <tr>\n",
              "      <th>5</th>\n",
              "      <td>(50.0, 60.0]</td>\n",
              "      <td>0.404762</td>\n",
              "    </tr>\n",
              "    <tr>\n",
              "      <th>6</th>\n",
              "      <td>(60.0, 70.0]</td>\n",
              "      <td>0.222222</td>\n",
              "    </tr>\n",
              "    <tr>\n",
              "      <th>7</th>\n",
              "      <td>(70.0, 80.0]</td>\n",
              "      <td>0.250000</td>\n",
              "    </tr>\n",
              "  </tbody>\n",
              "</table>\n",
              "</div>"
            ],
            "text/plain": [
              "      RangeofAge  Survived\n",
              "0  (-0.08, 10.0]  0.593750\n",
              "1   (10.0, 20.0]  0.328358\n",
              "2   (20.0, 30.0]  0.352941\n",
              "3   (30.0, 40.0]  0.445161\n",
              "4   (40.0, 50.0]  0.392857\n",
              "5   (50.0, 60.0]  0.404762\n",
              "6   (60.0, 70.0]  0.222222\n",
              "7   (70.0, 80.0]  0.250000"
            ]
          },
          "metadata": {
            "tags": []
          },
          "execution_count": 569
        }
      ]
    },
    {
      "cell_type": "code",
      "metadata": {
        "id": "cIa5vUxARGVs"
      },
      "source": [
        "def age_ordinal(x):\n",
        "    if x > -(0.08) and x <= 10.0:\n",
        "        return 0\n",
        "    elif x > 10.0 and x <= 20.0:\n",
        "        return 1\n",
        "    elif x > 20.0 and x <= 30.0:\n",
        "        return 2\n",
        "    elif x > 30.0 and x <= 40.0:\n",
        "        return 3\n",
        "    elif x > 40.0 and x <= 50.0:\n",
        "        return 4\n",
        "    elif x > 50.0 and x <= 60.0:\n",
        "        return 5\n",
        "    elif x > 60.0 and x <= 70.0:\n",
        "        return 6\n",
        "    elif x > 70.0 and x <= 80.0:\n",
        "        return 7\n",
        "    \n",
        "both[0]['Age'] = train_df.Age.apply(age_ordinal)\n",
        "both[1]['Age'] = test_df.Age.apply(age_ordinal)\n",
        "d['Age'] = d['Age'].astype(int)"
      ],
      "execution_count": 570,
      "outputs": []
    },
    {
      "cell_type": "code",
      "metadata": {
        "colab": {
          "base_uri": "https://localhost:8080/",
          "height": 340
        },
        "id": "82Mj5NYQRW5q",
        "outputId": "aac73cbf-7932-4ad1-edbd-0fe85b5801c2"
      },
      "source": [
        "train_df.head()"
      ],
      "execution_count": 571,
      "outputs": [
        {
          "output_type": "execute_result",
          "data": {
            "text/html": [
              "<div>\n",
              "<style scoped>\n",
              "    .dataframe tbody tr th:only-of-type {\n",
              "        vertical-align: middle;\n",
              "    }\n",
              "\n",
              "    .dataframe tbody tr th {\n",
              "        vertical-align: top;\n",
              "    }\n",
              "\n",
              "    .dataframe thead th {\n",
              "        text-align: right;\n",
              "    }\n",
              "</style>\n",
              "<table border=\"1\" class=\"dataframe\">\n",
              "  <thead>\n",
              "    <tr style=\"text-align: right;\">\n",
              "      <th></th>\n",
              "      <th>PassengerId</th>\n",
              "      <th>Survived</th>\n",
              "      <th>Pclass</th>\n",
              "      <th>Name</th>\n",
              "      <th>Sex</th>\n",
              "      <th>Age</th>\n",
              "      <th>SibSp</th>\n",
              "      <th>Parch</th>\n",
              "      <th>Fare</th>\n",
              "      <th>Embarked</th>\n",
              "      <th>PTitle</th>\n",
              "      <th>Family</th>\n",
              "      <th>IsAlone</th>\n",
              "      <th>RangeofAge</th>\n",
              "    </tr>\n",
              "  </thead>\n",
              "  <tbody>\n",
              "    <tr>\n",
              "      <th>0</th>\n",
              "      <td>1</td>\n",
              "      <td>0</td>\n",
              "      <td>3</td>\n",
              "      <td>Braund, Mr. Owen Harris</td>\n",
              "      <td>1</td>\n",
              "      <td>2</td>\n",
              "      <td>1</td>\n",
              "      <td>0</td>\n",
              "      <td>0</td>\n",
              "      <td>0</td>\n",
              "      <td>1</td>\n",
              "      <td>2</td>\n",
              "      <td>0</td>\n",
              "      <td>(20.0, 30.0]</td>\n",
              "    </tr>\n",
              "    <tr>\n",
              "      <th>1</th>\n",
              "      <td>2</td>\n",
              "      <td>1</td>\n",
              "      <td>1</td>\n",
              "      <td>Cumings, Mrs. John Bradley (Florence Briggs Th...</td>\n",
              "      <td>0</td>\n",
              "      <td>3</td>\n",
              "      <td>1</td>\n",
              "      <td>0</td>\n",
              "      <td>3</td>\n",
              "      <td>1</td>\n",
              "      <td>3</td>\n",
              "      <td>2</td>\n",
              "      <td>0</td>\n",
              "      <td>(30.0, 40.0]</td>\n",
              "    </tr>\n",
              "    <tr>\n",
              "      <th>2</th>\n",
              "      <td>3</td>\n",
              "      <td>1</td>\n",
              "      <td>3</td>\n",
              "      <td>Heikkinen, Miss. Laina</td>\n",
              "      <td>0</td>\n",
              "      <td>2</td>\n",
              "      <td>0</td>\n",
              "      <td>0</td>\n",
              "      <td>1</td>\n",
              "      <td>0</td>\n",
              "      <td>2</td>\n",
              "      <td>1</td>\n",
              "      <td>1</td>\n",
              "      <td>(20.0, 30.0]</td>\n",
              "    </tr>\n",
              "    <tr>\n",
              "      <th>3</th>\n",
              "      <td>4</td>\n",
              "      <td>1</td>\n",
              "      <td>1</td>\n",
              "      <td>Futrelle, Mrs. Jacques Heath (Lily May Peel)</td>\n",
              "      <td>0</td>\n",
              "      <td>3</td>\n",
              "      <td>1</td>\n",
              "      <td>0</td>\n",
              "      <td>3</td>\n",
              "      <td>0</td>\n",
              "      <td>3</td>\n",
              "      <td>2</td>\n",
              "      <td>0</td>\n",
              "      <td>(30.0, 40.0]</td>\n",
              "    </tr>\n",
              "    <tr>\n",
              "      <th>4</th>\n",
              "      <td>5</td>\n",
              "      <td>0</td>\n",
              "      <td>3</td>\n",
              "      <td>Allen, Mr. William Henry</td>\n",
              "      <td>1</td>\n",
              "      <td>3</td>\n",
              "      <td>0</td>\n",
              "      <td>0</td>\n",
              "      <td>1</td>\n",
              "      <td>0</td>\n",
              "      <td>1</td>\n",
              "      <td>1</td>\n",
              "      <td>1</td>\n",
              "      <td>(30.0, 40.0]</td>\n",
              "    </tr>\n",
              "  </tbody>\n",
              "</table>\n",
              "</div>"
            ],
            "text/plain": [
              "   PassengerId  Survived  Pclass  ... Family  IsAlone    RangeofAge\n",
              "0            1         0       3  ...      2        0  (20.0, 30.0]\n",
              "1            2         1       1  ...      2        0  (30.0, 40.0]\n",
              "2            3         1       3  ...      1        1  (20.0, 30.0]\n",
              "3            4         1       1  ...      2        0  (30.0, 40.0]\n",
              "4            5         0       3  ...      1        1  (30.0, 40.0]\n",
              "\n",
              "[5 rows x 14 columns]"
            ]
          },
          "metadata": {
            "tags": []
          },
          "execution_count": 571
        }
      ]
    },
    {
      "cell_type": "code",
      "metadata": {
        "id": "YLMJprBJRdiU"
      },
      "source": [
        "train_df = train_df.drop(['RangeofAge','Name','Parch', 'SibSp', 'Family'], axis=1)\n",
        "both = [train_df, test_df]"
      ],
      "execution_count": 572,
      "outputs": []
    },
    {
      "cell_type": "code",
      "metadata": {
        "colab": {
          "base_uri": "https://localhost:8080/",
          "height": 204
        },
        "id": "6knaBE7QRoHJ",
        "outputId": "928c49b0-c2ff-4668-e477-62387385e310"
      },
      "source": [
        "train_df.head()"
      ],
      "execution_count": 573,
      "outputs": [
        {
          "output_type": "execute_result",
          "data": {
            "text/html": [
              "<div>\n",
              "<style scoped>\n",
              "    .dataframe tbody tr th:only-of-type {\n",
              "        vertical-align: middle;\n",
              "    }\n",
              "\n",
              "    .dataframe tbody tr th {\n",
              "        vertical-align: top;\n",
              "    }\n",
              "\n",
              "    .dataframe thead th {\n",
              "        text-align: right;\n",
              "    }\n",
              "</style>\n",
              "<table border=\"1\" class=\"dataframe\">\n",
              "  <thead>\n",
              "    <tr style=\"text-align: right;\">\n",
              "      <th></th>\n",
              "      <th>PassengerId</th>\n",
              "      <th>Survived</th>\n",
              "      <th>Pclass</th>\n",
              "      <th>Sex</th>\n",
              "      <th>Age</th>\n",
              "      <th>Fare</th>\n",
              "      <th>Embarked</th>\n",
              "      <th>PTitle</th>\n",
              "      <th>IsAlone</th>\n",
              "    </tr>\n",
              "  </thead>\n",
              "  <tbody>\n",
              "    <tr>\n",
              "      <th>0</th>\n",
              "      <td>1</td>\n",
              "      <td>0</td>\n",
              "      <td>3</td>\n",
              "      <td>1</td>\n",
              "      <td>2</td>\n",
              "      <td>0</td>\n",
              "      <td>0</td>\n",
              "      <td>1</td>\n",
              "      <td>0</td>\n",
              "    </tr>\n",
              "    <tr>\n",
              "      <th>1</th>\n",
              "      <td>2</td>\n",
              "      <td>1</td>\n",
              "      <td>1</td>\n",
              "      <td>0</td>\n",
              "      <td>3</td>\n",
              "      <td>3</td>\n",
              "      <td>1</td>\n",
              "      <td>3</td>\n",
              "      <td>0</td>\n",
              "    </tr>\n",
              "    <tr>\n",
              "      <th>2</th>\n",
              "      <td>3</td>\n",
              "      <td>1</td>\n",
              "      <td>3</td>\n",
              "      <td>0</td>\n",
              "      <td>2</td>\n",
              "      <td>1</td>\n",
              "      <td>0</td>\n",
              "      <td>2</td>\n",
              "      <td>1</td>\n",
              "    </tr>\n",
              "    <tr>\n",
              "      <th>3</th>\n",
              "      <td>4</td>\n",
              "      <td>1</td>\n",
              "      <td>1</td>\n",
              "      <td>0</td>\n",
              "      <td>3</td>\n",
              "      <td>3</td>\n",
              "      <td>0</td>\n",
              "      <td>3</td>\n",
              "      <td>0</td>\n",
              "    </tr>\n",
              "    <tr>\n",
              "      <th>4</th>\n",
              "      <td>5</td>\n",
              "      <td>0</td>\n",
              "      <td>3</td>\n",
              "      <td>1</td>\n",
              "      <td>3</td>\n",
              "      <td>1</td>\n",
              "      <td>0</td>\n",
              "      <td>1</td>\n",
              "      <td>1</td>\n",
              "    </tr>\n",
              "  </tbody>\n",
              "</table>\n",
              "</div>"
            ],
            "text/plain": [
              "   PassengerId  Survived  Pclass  Sex  Age  Fare  Embarked  PTitle  IsAlone\n",
              "0            1         0       3    1    2     0         0       1        0\n",
              "1            2         1       1    0    3     3         1       3        0\n",
              "2            3         1       3    0    2     1         0       2        1\n",
              "3            4         1       1    0    3     3         0       3        0\n",
              "4            5         0       3    1    3     1         0       1        1"
            ]
          },
          "metadata": {
            "tags": []
          },
          "execution_count": 573
        }
      ]
    },
    {
      "cell_type": "code",
      "metadata": {
        "colab": {
          "base_uri": "https://localhost:8080/",
          "height": 204
        },
        "id": "cDfJeTHiRq1O",
        "outputId": "ca212de3-0e0f-4978-af80-0b21a16587ca"
      },
      "source": [
        "test_df.head()"
      ],
      "execution_count": 574,
      "outputs": [
        {
          "output_type": "execute_result",
          "data": {
            "text/html": [
              "<div>\n",
              "<style scoped>\n",
              "    .dataframe tbody tr th:only-of-type {\n",
              "        vertical-align: middle;\n",
              "    }\n",
              "\n",
              "    .dataframe tbody tr th {\n",
              "        vertical-align: top;\n",
              "    }\n",
              "\n",
              "    .dataframe thead th {\n",
              "        text-align: right;\n",
              "    }\n",
              "</style>\n",
              "<table border=\"1\" class=\"dataframe\">\n",
              "  <thead>\n",
              "    <tr style=\"text-align: right;\">\n",
              "      <th></th>\n",
              "      <th>PassengerId</th>\n",
              "      <th>Pclass</th>\n",
              "      <th>Name</th>\n",
              "      <th>Sex</th>\n",
              "      <th>Age</th>\n",
              "      <th>SibSp</th>\n",
              "      <th>Parch</th>\n",
              "      <th>Fare</th>\n",
              "      <th>Embarked</th>\n",
              "      <th>PTitle</th>\n",
              "      <th>Family</th>\n",
              "      <th>IsAlone</th>\n",
              "    </tr>\n",
              "  </thead>\n",
              "  <tbody>\n",
              "    <tr>\n",
              "      <th>0</th>\n",
              "      <td>892</td>\n",
              "      <td>3</td>\n",
              "      <td>Kelly, Mr. James</td>\n",
              "      <td>1</td>\n",
              "      <td>3</td>\n",
              "      <td>0</td>\n",
              "      <td>0</td>\n",
              "      <td>0</td>\n",
              "      <td>2</td>\n",
              "      <td>1</td>\n",
              "      <td>1</td>\n",
              "      <td>1</td>\n",
              "    </tr>\n",
              "    <tr>\n",
              "      <th>1</th>\n",
              "      <td>893</td>\n",
              "      <td>3</td>\n",
              "      <td>Wilkes, Mrs. James (Ellen Needs)</td>\n",
              "      <td>0</td>\n",
              "      <td>4</td>\n",
              "      <td>1</td>\n",
              "      <td>0</td>\n",
              "      <td>0</td>\n",
              "      <td>0</td>\n",
              "      <td>3</td>\n",
              "      <td>2</td>\n",
              "      <td>0</td>\n",
              "    </tr>\n",
              "    <tr>\n",
              "      <th>2</th>\n",
              "      <td>894</td>\n",
              "      <td>2</td>\n",
              "      <td>Myles, Mr. Thomas Francis</td>\n",
              "      <td>1</td>\n",
              "      <td>6</td>\n",
              "      <td>0</td>\n",
              "      <td>0</td>\n",
              "      <td>1</td>\n",
              "      <td>2</td>\n",
              "      <td>1</td>\n",
              "      <td>1</td>\n",
              "      <td>1</td>\n",
              "    </tr>\n",
              "    <tr>\n",
              "      <th>3</th>\n",
              "      <td>895</td>\n",
              "      <td>3</td>\n",
              "      <td>Wirz, Mr. Albert</td>\n",
              "      <td>1</td>\n",
              "      <td>2</td>\n",
              "      <td>0</td>\n",
              "      <td>0</td>\n",
              "      <td>1</td>\n",
              "      <td>0</td>\n",
              "      <td>1</td>\n",
              "      <td>1</td>\n",
              "      <td>1</td>\n",
              "    </tr>\n",
              "    <tr>\n",
              "      <th>4</th>\n",
              "      <td>896</td>\n",
              "      <td>3</td>\n",
              "      <td>Hirvonen, Mrs. Alexander (Helga E Lindqvist)</td>\n",
              "      <td>0</td>\n",
              "      <td>2</td>\n",
              "      <td>1</td>\n",
              "      <td>1</td>\n",
              "      <td>1</td>\n",
              "      <td>0</td>\n",
              "      <td>3</td>\n",
              "      <td>3</td>\n",
              "      <td>0</td>\n",
              "    </tr>\n",
              "  </tbody>\n",
              "</table>\n",
              "</div>"
            ],
            "text/plain": [
              "   PassengerId  Pclass  ... Family  IsAlone\n",
              "0          892       3  ...      1        1\n",
              "1          893       3  ...      2        0\n",
              "2          894       2  ...      1        1\n",
              "3          895       3  ...      1        1\n",
              "4          896       3  ...      3        0\n",
              "\n",
              "[5 rows x 12 columns]"
            ]
          },
          "metadata": {
            "tags": []
          },
          "execution_count": 574
        }
      ]
    },
    {
      "cell_type": "code",
      "metadata": {
        "colab": {
          "base_uri": "https://localhost:8080/"
        },
        "id": "MlMZvxGARv5P",
        "outputId": "f0616863-8920-4691-f4d4-4185ac32279c"
      },
      "source": [
        "  x_train = train_df.drop(['Survived','PassengerId',], axis=1)\n",
        "x_train.shape"
      ],
      "execution_count": 575,
      "outputs": [
        {
          "output_type": "execute_result",
          "data": {
            "text/plain": [
              "(891, 7)"
            ]
          },
          "metadata": {
            "tags": []
          },
          "execution_count": 575
        }
      ]
    },
    {
      "cell_type": "code",
      "metadata": {
        "colab": {
          "base_uri": "https://localhost:8080/",
          "height": 204
        },
        "id": "8CXwqUIbbCGE",
        "outputId": "22cd4194-ae54-418b-e5e7-0b03ab470ac4"
      },
      "source": [
        "x_train.head()"
      ],
      "execution_count": 576,
      "outputs": [
        {
          "output_type": "execute_result",
          "data": {
            "text/html": [
              "<div>\n",
              "<style scoped>\n",
              "    .dataframe tbody tr th:only-of-type {\n",
              "        vertical-align: middle;\n",
              "    }\n",
              "\n",
              "    .dataframe tbody tr th {\n",
              "        vertical-align: top;\n",
              "    }\n",
              "\n",
              "    .dataframe thead th {\n",
              "        text-align: right;\n",
              "    }\n",
              "</style>\n",
              "<table border=\"1\" class=\"dataframe\">\n",
              "  <thead>\n",
              "    <tr style=\"text-align: right;\">\n",
              "      <th></th>\n",
              "      <th>Pclass</th>\n",
              "      <th>Sex</th>\n",
              "      <th>Age</th>\n",
              "      <th>Fare</th>\n",
              "      <th>Embarked</th>\n",
              "      <th>PTitle</th>\n",
              "      <th>IsAlone</th>\n",
              "    </tr>\n",
              "  </thead>\n",
              "  <tbody>\n",
              "    <tr>\n",
              "      <th>0</th>\n",
              "      <td>3</td>\n",
              "      <td>1</td>\n",
              "      <td>2</td>\n",
              "      <td>0</td>\n",
              "      <td>0</td>\n",
              "      <td>1</td>\n",
              "      <td>0</td>\n",
              "    </tr>\n",
              "    <tr>\n",
              "      <th>1</th>\n",
              "      <td>1</td>\n",
              "      <td>0</td>\n",
              "      <td>3</td>\n",
              "      <td>3</td>\n",
              "      <td>1</td>\n",
              "      <td>3</td>\n",
              "      <td>0</td>\n",
              "    </tr>\n",
              "    <tr>\n",
              "      <th>2</th>\n",
              "      <td>3</td>\n",
              "      <td>0</td>\n",
              "      <td>2</td>\n",
              "      <td>1</td>\n",
              "      <td>0</td>\n",
              "      <td>2</td>\n",
              "      <td>1</td>\n",
              "    </tr>\n",
              "    <tr>\n",
              "      <th>3</th>\n",
              "      <td>1</td>\n",
              "      <td>0</td>\n",
              "      <td>3</td>\n",
              "      <td>3</td>\n",
              "      <td>0</td>\n",
              "      <td>3</td>\n",
              "      <td>0</td>\n",
              "    </tr>\n",
              "    <tr>\n",
              "      <th>4</th>\n",
              "      <td>3</td>\n",
              "      <td>1</td>\n",
              "      <td>3</td>\n",
              "      <td>1</td>\n",
              "      <td>0</td>\n",
              "      <td>1</td>\n",
              "      <td>1</td>\n",
              "    </tr>\n",
              "  </tbody>\n",
              "</table>\n",
              "</div>"
            ],
            "text/plain": [
              "   Pclass  Sex  Age  Fare  Embarked  PTitle  IsAlone\n",
              "0       3    1    2     0         0       1        0\n",
              "1       1    0    3     3         1       3        0\n",
              "2       3    0    2     1         0       2        1\n",
              "3       1    0    3     3         0       3        0\n",
              "4       3    1    3     1         0       1        1"
            ]
          },
          "metadata": {
            "tags": []
          },
          "execution_count": 576
        }
      ]
    },
    {
      "cell_type": "code",
      "metadata": {
        "colab": {
          "base_uri": "https://localhost:8080/"
        },
        "id": "gLtDscFhbGjD",
        "outputId": "1fb05d2b-3899-41bf-87cd-f43fcf9d3841"
      },
      "source": [
        "y_train = train_df[\"Survived\"]\n",
        "y_train.shape"
      ],
      "execution_count": 577,
      "outputs": [
        {
          "output_type": "execute_result",
          "data": {
            "text/plain": [
              "(891,)"
            ]
          },
          "metadata": {
            "tags": []
          },
          "execution_count": 577
        }
      ]
    },
    {
      "cell_type": "code",
      "metadata": {
        "colab": {
          "base_uri": "https://localhost:8080/"
        },
        "id": "F_I6DIXpbPcm",
        "outputId": "075f3be9-51f4-4c76-a3dc-1264dd98510e"
      },
      "source": [
        "x_test  = test_df.drop(['PassengerId','Name','Parch', 'SibSp', 'Family'], axis=1)\n",
        "x_test.shape"
      ],
      "execution_count": 578,
      "outputs": [
        {
          "output_type": "execute_result",
          "data": {
            "text/plain": [
              "(418, 7)"
            ]
          },
          "metadata": {
            "tags": []
          },
          "execution_count": 578
        }
      ]
    },
    {
      "cell_type": "markdown",
      "metadata": {
        "id": "VJ6xG2GbBTjF"
      },
      "source": [
        "**Q2. Perform Feature Selection**"
      ]
    },
    {
      "cell_type": "code",
      "metadata": {
        "id": "cbTURxCOiHbm"
      },
      "source": [
        "pf=SelectKBest(score_func=f_classif,k=7).fit(x_train,y_train)"
      ],
      "execution_count": 579,
      "outputs": []
    },
    {
      "cell_type": "code",
      "metadata": {
        "colab": {
          "base_uri": "https://localhost:8080/"
        },
        "id": "adLcvwEHkBzv",
        "outputId": "587eb84a-6b5a-46ee-8da4-5465c6f49212"
      },
      "source": [
        "pf_nscores = pd.DataFrame(pf.scores_)\n",
        "pf_ncolumns = pd.DataFrame(x_train.columns)\n",
        "f_scores = pd.concat([pf_ncolumns, pf_nscores],axis=1)\n",
        "f_scores.columns = ['Feature_Name','Score']  \n",
        "print(f_scores.nlargest(7,'Score')) "
      ],
      "execution_count": 580,
      "outputs": [
        {
          "output_type": "stream",
          "text": [
            "  Feature_Name       Score\n",
            "1          Sex  372.405724\n",
            "5       PTitle  177.283027\n",
            "0       Pclass  115.031272\n",
            "3         Fare   87.509411\n",
            "6      IsAlone   38.353651\n",
            "4     Embarked   10.259355\n",
            "2          Age    0.680411\n"
          ],
          "name": "stdout"
        }
      ]
    },
    {
      "cell_type": "code",
      "metadata": {
        "colab": {
          "base_uri": "https://localhost:8080/",
          "height": 265
        },
        "id": "Ru1llwo6ofNW",
        "outputId": "dcdd4592-c6ee-499e-f17e-427fb2efa951"
      },
      "source": [
        "m = ExtraTreesClassifier()\n",
        "m.fit(x_train, y_train)\n",
        "f_imp = pd.Series(m.feature_importances_, index=x_train.columns)\n",
        "f_imp.nlargest(7).plot()\n",
        "plt.show()"
      ],
      "execution_count": 581,
      "outputs": [
        {
          "output_type": "display_data",
          "data": {
            "image/png": "[encoded data removed]",
            "text/plain": [
              "<Figure size 432x288 with 1 Axes>"
            ]
          },
          "metadata": {
            "tags": [],
            "needs_background": "light"
          }
        }
      ]
    },
    {
      "cell_type": "code",
      "metadata": {
        "colab": {
          "base_uri": "https://localhost:8080/",
          "height": 328
        },
        "id": "ix3OSwAXtrgc",
        "outputId": "5493edb3-7242-453f-a798-2467c73b018e"
      },
      "source": [
        "train_df.corr(method = 'pearson')"
      ],
      "execution_count": 582,
      "outputs": [
        {
          "output_type": "execute_result",
          "data": {
            "text/html": [
              "<div>\n",
              "<style scoped>\n",
              "    .dataframe tbody tr th:only-of-type {\n",
              "        vertical-align: middle;\n",
              "    }\n",
              "\n",
              "    .dataframe tbody tr th {\n",
              "        vertical-align: top;\n",
              "    }\n",
              "\n",
              "    .dataframe thead th {\n",
              "        text-align: right;\n",
              "    }\n",
              "</style>\n",
              "<table border=\"1\" class=\"dataframe\">\n",
              "  <thead>\n",
              "    <tr style=\"text-align: right;\">\n",
              "      <th></th>\n",
              "      <th>PassengerId</th>\n",
              "      <th>Survived</th>\n",
              "      <th>Pclass</th>\n",
              "      <th>Sex</th>\n",
              "      <th>Age</th>\n",
              "      <th>Fare</th>\n",
              "      <th>Embarked</th>\n",
              "      <th>PTitle</th>\n",
              "      <th>IsAlone</th>\n",
              "    </tr>\n",
              "  </thead>\n",
              "  <tbody>\n",
              "    <tr>\n",
              "      <th>PassengerId</th>\n",
              "      <td>1.000000</td>\n",
              "      <td>-0.005007</td>\n",
              "      <td>-0.035144</td>\n",
              "      <td>0.042939</td>\n",
              "      <td>0.033991</td>\n",
              "      <td>-0.022998</td>\n",
              "      <td>-0.030467</td>\n",
              "      <td>0.003878</td>\n",
              "      <td>0.057462</td>\n",
              "    </tr>\n",
              "    <tr>\n",
              "      <th>Survived</th>\n",
              "      <td>-0.005007</td>\n",
              "      <td>1.000000</td>\n",
              "      <td>-0.338481</td>\n",
              "      <td>-0.543351</td>\n",
              "      <td>-0.027655</td>\n",
              "      <td>0.299357</td>\n",
              "      <td>0.106811</td>\n",
              "      <td>0.407753</td>\n",
              "      <td>-0.203367</td>\n",
              "    </tr>\n",
              "    <tr>\n",
              "      <th>Pclass</th>\n",
              "      <td>-0.035144</td>\n",
              "      <td>-0.338481</td>\n",
              "      <td>1.000000</td>\n",
              "      <td>0.131900</td>\n",
              "      <td>-0.359211</td>\n",
              "      <td>-0.634271</td>\n",
              "      <td>0.045702</td>\n",
              "      <td>-0.173929</td>\n",
              "      <td>0.135207</td>\n",
              "    </tr>\n",
              "    <tr>\n",
              "      <th>Sex</th>\n",
              "      <td>0.042939</td>\n",
              "      <td>-0.543351</td>\n",
              "      <td>0.131900</td>\n",
              "      <td>1.000000</td>\n",
              "      <td>0.059682</td>\n",
              "      <td>-0.243613</td>\n",
              "      <td>-0.116569</td>\n",
              "      <td>-0.502713</td>\n",
              "      <td>0.303646</td>\n",
              "    </tr>\n",
              "    <tr>\n",
              "      <th>Age</th>\n",
              "      <td>0.033991</td>\n",
              "      <td>-0.027655</td>\n",
              "      <td>-0.359211</td>\n",
              "      <td>0.059682</td>\n",
              "      <td>1.000000</td>\n",
              "      <td>0.119506</td>\n",
              "      <td>-0.074488</td>\n",
              "      <td>-0.051399</td>\n",
              "      <td>0.124596</td>\n",
              "    </tr>\n",
              "    <tr>\n",
              "      <th>Fare</th>\n",
              "      <td>-0.022998</td>\n",
              "      <td>0.299357</td>\n",
              "      <td>-0.634271</td>\n",
              "      <td>-0.243613</td>\n",
              "      <td>0.119506</td>\n",
              "      <td>1.000000</td>\n",
              "      <td>-0.098161</td>\n",
              "      <td>0.339808</td>\n",
              "      <td>-0.560279</td>\n",
              "    </tr>\n",
              "    <tr>\n",
              "      <th>Embarked</th>\n",
              "      <td>-0.030467</td>\n",
              "      <td>0.106811</td>\n",
              "      <td>0.045702</td>\n",
              "      <td>-0.116569</td>\n",
              "      <td>-0.074488</td>\n",
              "      <td>-0.098161</td>\n",
              "      <td>1.000000</td>\n",
              "      <td>0.045400</td>\n",
              "      <td>0.017807</td>\n",
              "    </tr>\n",
              "    <tr>\n",
              "      <th>PTitle</th>\n",
              "      <td>0.003878</td>\n",
              "      <td>0.407753</td>\n",
              "      <td>-0.173929</td>\n",
              "      <td>-0.502713</td>\n",
              "      <td>-0.051399</td>\n",
              "      <td>0.339808</td>\n",
              "      <td>0.045400</td>\n",
              "      <td>1.000000</td>\n",
              "      <td>-0.405813</td>\n",
              "    </tr>\n",
              "    <tr>\n",
              "      <th>IsAlone</th>\n",
              "      <td>0.057462</td>\n",
              "      <td>-0.203367</td>\n",
              "      <td>0.135207</td>\n",
              "      <td>0.303646</td>\n",
              "      <td>0.124596</td>\n",
              "      <td>-0.560279</td>\n",
              "      <td>0.017807</td>\n",
              "      <td>-0.405813</td>\n",
              "      <td>1.000000</td>\n",
              "    </tr>\n",
              "  </tbody>\n",
              "</table>\n",
              "</div>"
            ],
            "text/plain": [
              "             PassengerId  Survived    Pclass  ...  Embarked    PTitle   IsAlone\n",
              "PassengerId     1.000000 -0.005007 -0.035144  ... -0.030467  0.003878  0.057462\n",
              "Survived       -0.005007  1.000000 -0.338481  ...  0.106811  0.407753 -0.203367\n",
              "Pclass         -0.035144 -0.338481  1.000000  ...  0.045702 -0.173929  0.135207\n",
              "Sex             0.042939 -0.543351  0.131900  ... -0.116569 -0.502713  0.303646\n",
              "Age             0.033991 -0.027655 -0.359211  ... -0.074488 -0.051399  0.124596\n",
              "Fare           -0.022998  0.299357 -0.634271  ... -0.098161  0.339808 -0.560279\n",
              "Embarked       -0.030467  0.106811  0.045702  ...  1.000000  0.045400  0.017807\n",
              "PTitle          0.003878  0.407753 -0.173929  ...  0.045400  1.000000 -0.405813\n",
              "IsAlone         0.057462 -0.203367  0.135207  ...  0.017807 -0.405813  1.000000\n",
              "\n",
              "[9 rows x 9 columns]"
            ]
          },
          "metadata": {
            "tags": []
          },
          "execution_count": 582
        }
      ]
    },
    {
      "cell_type": "code",
      "metadata": {
        "colab": {
          "base_uri": "https://localhost:8080/",
          "height": 646
        },
        "id": "IUAQtH97vkUq",
        "outputId": "a56c59cc-78ed-4b14-f92d-744af1ea8a71"
      },
      "source": [
        "corl = train_df.corr(method = 'pearson')\n",
        "corl_feat = corl.index\n",
        "plt.figure(figsize=(10,10))\n",
        "k=sns.heatmap(train_df[corl_feat].corr(),annot=True,cmap=\"gist_rainbow_r\")"
      ],
      "execution_count": 583,
      "outputs": [
        {
          "output_type": "display_data",
          "data": {
            "image/png": "[encoded data removed]",
            "text/plain": [
              "<Figure size 720x720 with 2 Axes>"
            ]
          },
          "metadata": {
            "tags": [],
            "needs_background": "light"
          }
        }
      ]
    },
    {
      "cell_type": "code",
      "metadata": {
        "colab": {
          "base_uri": "https://localhost:8080/",
          "height": 255
        },
        "id": "9EWU3ZMn0Wba",
        "outputId": "fa8890b8-5128-4ef4-94ef-6c56f98231e4"
      },
      "source": [
        "m = LogisticRegression(max_iter=1000)\n",
        "r = RFE(m)\n",
        "fit = r.fit(x_train, y_train)\n",
        "print(\"Number of Features: \",fit.n_features_)\n",
        "print(\"Features Selected: \",fit.support_)\n",
        "print(\"Ranking of the features: \",fit.ranking_)\n",
        "x_train.head()"
      ],
      "execution_count": 584,
      "outputs": [
        {
          "output_type": "stream",
          "text": [
            "Number of Features:  3\n",
            "Features Selected:  [ True  True False False False  True False]\n",
            "Ranking of the features:  [1 1 3 5 2 1 4]\n"
          ],
          "name": "stdout"
        },
        {
          "output_type": "execute_result",
          "data": {
            "text/html": [
              "<div>\n",
              "<style scoped>\n",
              "    .dataframe tbody tr th:only-of-type {\n",
              "        vertical-align: middle;\n",
              "    }\n",
              "\n",
              "    .dataframe tbody tr th {\n",
              "        vertical-align: top;\n",
              "    }\n",
              "\n",
              "    .dataframe thead th {\n",
              "        text-align: right;\n",
              "    }\n",
              "</style>\n",
              "<table border=\"1\" class=\"dataframe\">\n",
              "  <thead>\n",
              "    <tr style=\"text-align: right;\">\n",
              "      <th></th>\n",
              "      <th>Pclass</th>\n",
              "      <th>Sex</th>\n",
              "      <th>Age</th>\n",
              "      <th>Fare</th>\n",
              "      <th>Embarked</th>\n",
              "      <th>PTitle</th>\n",
              "      <th>IsAlone</th>\n",
              "    </tr>\n",
              "  </thead>\n",
              "  <tbody>\n",
              "    <tr>\n",
              "      <th>0</th>\n",
              "      <td>3</td>\n",
              "      <td>1</td>\n",
              "      <td>2</td>\n",
              "      <td>0</td>\n",
              "      <td>0</td>\n",
              "      <td>1</td>\n",
              "      <td>0</td>\n",
              "    </tr>\n",
              "    <tr>\n",
              "      <th>1</th>\n",
              "      <td>1</td>\n",
              "      <td>0</td>\n",
              "      <td>3</td>\n",
              "      <td>3</td>\n",
              "      <td>1</td>\n",
              "      <td>3</td>\n",
              "      <td>0</td>\n",
              "    </tr>\n",
              "    <tr>\n",
              "      <th>2</th>\n",
              "      <td>3</td>\n",
              "      <td>0</td>\n",
              "      <td>2</td>\n",
              "      <td>1</td>\n",
              "      <td>0</td>\n",
              "      <td>2</td>\n",
              "      <td>1</td>\n",
              "    </tr>\n",
              "    <tr>\n",
              "      <th>3</th>\n",
              "      <td>1</td>\n",
              "      <td>0</td>\n",
              "      <td>3</td>\n",
              "      <td>3</td>\n",
              "      <td>0</td>\n",
              "      <td>3</td>\n",
              "      <td>0</td>\n",
              "    </tr>\n",
              "    <tr>\n",
              "      <th>4</th>\n",
              "      <td>3</td>\n",
              "      <td>1</td>\n",
              "      <td>3</td>\n",
              "      <td>1</td>\n",
              "      <td>0</td>\n",
              "      <td>1</td>\n",
              "      <td>1</td>\n",
              "    </tr>\n",
              "  </tbody>\n",
              "</table>\n",
              "</div>"
            ],
            "text/plain": [
              "   Pclass  Sex  Age  Fare  Embarked  PTitle  IsAlone\n",
              "0       3    1    2     0         0       1        0\n",
              "1       1    0    3     3         1       3        0\n",
              "2       3    0    2     1         0       2        1\n",
              "3       1    0    3     3         0       3        0\n",
              "4       3    1    3     1         0       1        1"
            ]
          },
          "metadata": {
            "tags": []
          },
          "execution_count": 584
        }
      ]
    },
    {
      "cell_type": "code",
      "metadata": {
        "colab": {
          "base_uri": "https://localhost:8080/"
        },
        "id": "aIDGPh7I46rB",
        "outputId": "f2588d8f-6ccb-4554-d1d7-0147209aea05"
      },
      "source": [
        "x_train = x_train.drop(['Age','Embarked','IsAlone'], axis=1)\n",
        "y_train = train_df[\"Survived\"]\n",
        "x_test  = x_test.drop(['Age','Embarked','IsAlone'], axis=1)\n",
        "x_train.shape, y_train.shape, x_test.shape"
      ],
      "execution_count": 585,
      "outputs": [
        {
          "output_type": "execute_result",
          "data": {
            "text/plain": [
              "((891, 4), (891,), (418, 4))"
            ]
          },
          "metadata": {
            "tags": []
          },
          "execution_count": 585
        }
      ]
    },
    {
      "cell_type": "code",
      "metadata": {
        "colab": {
          "base_uri": "https://localhost:8080/"
        },
        "id": "UiIJUxxN6f5P",
        "outputId": "d80d74c0-82ea-4365-c82a-54f9ad510d7e"
      },
      "source": [
        "x_train.info()"
      ],
      "execution_count": 586,
      "outputs": [
        {
          "output_type": "stream",
          "text": [
            "<class 'pandas.core.frame.DataFrame'>\n",
            "RangeIndex: 891 entries, 0 to 890\n",
            "Data columns (total 4 columns):\n",
            " #   Column  Non-Null Count  Dtype\n",
            "---  ------  --------------  -----\n",
            " 0   Pclass  891 non-null    int64\n",
            " 1   Sex     891 non-null    int64\n",
            " 2   Fare    891 non-null    int64\n",
            " 3   PTitle  891 non-null    int64\n",
            "dtypes: int64(4)\n",
            "memory usage: 28.0 KB\n"
          ],
          "name": "stdout"
        }
      ]
    },
    {
      "cell_type": "code",
      "metadata": {
        "colab": {
          "base_uri": "https://localhost:8080/",
          "height": 204
        },
        "id": "Bw8kMeKV6k1x",
        "outputId": "f1a9bc9e-c179-4e73-8c64-2212a34851a6"
      },
      "source": [
        "x_test.head()"
      ],
      "execution_count": 587,
      "outputs": [
        {
          "output_type": "execute_result",
          "data": {
            "text/html": [
              "<div>\n",
              "<style scoped>\n",
              "    .dataframe tbody tr th:only-of-type {\n",
              "        vertical-align: middle;\n",
              "    }\n",
              "\n",
              "    .dataframe tbody tr th {\n",
              "        vertical-align: top;\n",
              "    }\n",
              "\n",
              "    .dataframe thead th {\n",
              "        text-align: right;\n",
              "    }\n",
              "</style>\n",
              "<table border=\"1\" class=\"dataframe\">\n",
              "  <thead>\n",
              "    <tr style=\"text-align: right;\">\n",
              "      <th></th>\n",
              "      <th>Pclass</th>\n",
              "      <th>Sex</th>\n",
              "      <th>Fare</th>\n",
              "      <th>PTitle</th>\n",
              "    </tr>\n",
              "  </thead>\n",
              "  <tbody>\n",
              "    <tr>\n",
              "      <th>0</th>\n",
              "      <td>3</td>\n",
              "      <td>1</td>\n",
              "      <td>0</td>\n",
              "      <td>1</td>\n",
              "    </tr>\n",
              "    <tr>\n",
              "      <th>1</th>\n",
              "      <td>3</td>\n",
              "      <td>0</td>\n",
              "      <td>0</td>\n",
              "      <td>3</td>\n",
              "    </tr>\n",
              "    <tr>\n",
              "      <th>2</th>\n",
              "      <td>2</td>\n",
              "      <td>1</td>\n",
              "      <td>1</td>\n",
              "      <td>1</td>\n",
              "    </tr>\n",
              "    <tr>\n",
              "      <th>3</th>\n",
              "      <td>3</td>\n",
              "      <td>1</td>\n",
              "      <td>1</td>\n",
              "      <td>1</td>\n",
              "    </tr>\n",
              "    <tr>\n",
              "      <th>4</th>\n",
              "      <td>3</td>\n",
              "      <td>0</td>\n",
              "      <td>1</td>\n",
              "      <td>3</td>\n",
              "    </tr>\n",
              "  </tbody>\n",
              "</table>\n",
              "</div>"
            ],
            "text/plain": [
              "   Pclass  Sex  Fare  PTitle\n",
              "0       3    1     0       1\n",
              "1       3    0     0       3\n",
              "2       2    1     1       1\n",
              "3       3    1     1       1\n",
              "4       3    0     1       3"
            ]
          },
          "metadata": {
            "tags": []
          },
          "execution_count": 587
        }
      ]
    },
    {
      "cell_type": "markdown",
      "metadata": {
        "id": "exTpndtwBiLA"
      },
      "source": [
        "**Q3.Gini Index**"
      ]
    },
    {
      "cell_type": "code",
      "metadata": {
        "id": "iRhry9hL6puv"
      },
      "source": [
        "def gini(survived, total):\n",
        "    rate = survived/total\n",
        "    not_survived = (1 - rate)\n",
        "    gini = 1 - (rate * rate) - (not_survived * not_survived)\n",
        "    return gini"
      ],
      "execution_count": 588,
      "outputs": []
    },
    {
      "cell_type": "code",
      "metadata": {
        "colab": {
          "base_uri": "https://localhost:8080/"
        },
        "id": "rAh1QdvK7k-g",
        "outputId": "7f970ba1-8219-41d4-862d-39e6ae0acba4"
      },
      "source": [
        "gini_start = gini(342, 891)\n",
        "gini_start"
      ],
      "execution_count": 589,
      "outputs": [
        {
          "output_type": "execute_result",
          "data": {
            "text/plain": [
              "0.47301295786144276"
            ]
          },
          "metadata": {
            "tags": []
          },
          "execution_count": 589
        }
      ]
    },
    {
      "cell_type": "code",
      "metadata": {
        "colab": {
          "base_uri": "https://localhost:8080/"
        },
        "id": "w6Sq4FKT8US0",
        "outputId": "8d00bc20-092e-467f-ff3e-b7d24b56a046"
      },
      "source": [
        "gini_s_men = gini(109, 577)\n",
        "gini_s_men"
      ],
      "execution_count": 590,
      "outputs": [
        {
          "output_type": "execute_result",
          "data": {
            "text/plain": [
              "0.3064437162277842"
            ]
          },
          "metadata": {
            "tags": []
          },
          "execution_count": 590
        }
      ]
    },
    {
      "cell_type": "code",
      "metadata": {
        "colab": {
          "base_uri": "https://localhost:8080/"
        },
        "id": "iCWGj7M98nDZ",
        "outputId": "5c9873f5-a1af-4af2-d005-23d3e112f7eb"
      },
      "source": [
        "gini_s_fem = gini(233, 314)\n",
        "gini_s_fem"
      ],
      "execution_count": 591,
      "outputs": [
        {
          "output_type": "execute_result",
          "data": {
            "text/plain": [
              "0.3828350034484158"
            ]
          },
          "metadata": {
            "tags": []
          },
          "execution_count": 591
        }
      ]
    },
    {
      "cell_type": "code",
      "metadata": {
        "colab": {
          "base_uri": "https://localhost:8080/"
        },
        "id": "EnDNw_c__cgI",
        "outputId": "826875a0-515b-4693-b6cb-0322fb802c13"
      },
      "source": [
        "w_men = 577/891\n",
        "w_female = 314/891\n",
        "i = gini_start - (w_men*gini_s_men + w_female*gini_s_fem)\n",
        "i"
      ],
      "execution_count": 592,
      "outputs": [
        {
          "output_type": "execute_result",
          "data": {
            "text/plain": [
              "0.13964795747285236"
            ]
          },
          "metadata": {
            "tags": []
          },
          "execution_count": 592
        }
      ]
    },
    {
      "cell_type": "code",
      "metadata": {
        "colab": {
          "base_uri": "https://localhost:8080/"
        },
        "id": "VRZoNlzrAC-f",
        "outputId": "8b88af9f-5bf5-49b7-aed3-0cd97077af83"
      },
      "source": [
        "gini_mr = gini(81, 517)\n",
        "gini_mr"
      ],
      "execution_count": 593,
      "outputs": [
        {
          "output_type": "execute_result",
          "data": {
            "text/plain": [
              "0.2642532988637767"
            ]
          },
          "metadata": {
            "tags": []
          },
          "execution_count": 593
        }
      ]
    },
    {
      "cell_type": "code",
      "metadata": {
        "colab": {
          "base_uri": "https://localhost:8080/"
        },
        "id": "xV_t8rThAPi-",
        "outputId": "7632561c-2329-46b0-b416-08612e2efac4"
      },
      "source": [
        "gini_others = gini(261, 374)\n",
        "gini_others"
      ],
      "execution_count": 594,
      "outputs": [
        {
          "output_type": "execute_result",
          "data": {
            "text/plain": [
              "0.42170207898424317"
            ]
          },
          "metadata": {
            "tags": []
          },
          "execution_count": 594
        }
      ]
    },
    {
      "cell_type": "code",
      "metadata": {
        "colab": {
          "base_uri": "https://localhost:8080/"
        },
        "id": "tfVRNMsUAYcO",
        "outputId": "5ffaf053-b051-4280-df40-0b5059d7ab80"
      },
      "source": [
        "w_mr = 517/891\n",
        "w_others = 374/891\n",
        "inf = gini_start - (w_mr*gini_mr + w_others*gini_others)\n",
        "inf"
      ],
      "execution_count": 595,
      "outputs": [
        {
          "output_type": "execute_result",
          "data": {
            "text/plain": [
              "0.14267004758907526"
            ]
          },
          "metadata": {
            "tags": []
          },
          "execution_count": 595
        }
      ]
    },
    {
      "cell_type": "code",
      "metadata": {
        "id": "-rDapoQUBP87"
      },
      "source": [
        "np.random.seed(42)"
      ],
      "execution_count": 596,
      "outputs": []
    },
    {
      "cell_type": "code",
      "metadata": {
        "colab": {
          "base_uri": "https://localhost:8080/"
        },
        "id": "awf1P7t5n4Vh",
        "outputId": "01b66720-76e7-4076-f529-068f5b9ecae0"
      },
      "source": [
        "d_tree = DecisionTreeClassifier(max_depth=5)\n",
        "d_tree.fit(x_train, y_train)\n",
        "y_pr = d_tree.predict(x_test)\n",
        "fi_d_tree = round(d_tree.score(x_train, y_train) * 100, 2)\n",
        "print(fi_d_tree)"
      ],
      "execution_count": 597,
      "outputs": [
        {
          "output_type": "stream",
          "text": [
            "82.27\n"
          ],
          "name": "stdout"
        }
      ]
    },
    {
      "cell_type": "code",
      "metadata": {
        "colab": {
          "base_uri": "https://localhost:8080/",
          "height": 173
        },
        "id": "WQacrFppodoc",
        "outputId": "5983e62f-0960-479b-d670-a355403a9aec"
      },
      "source": [
        "f = pd.DataFrame(d_tree.feature_importances_, index = x_train.columns,columns=['Feature Importance'])\n",
        "f.sort_values(by='Feature Importance', ascending=False).head(10)"
      ],
      "execution_count": 598,
      "outputs": [
        {
          "output_type": "execute_result",
          "data": {
            "text/html": [
              "<div>\n",
              "<style scoped>\n",
              "    .dataframe tbody tr th:only-of-type {\n",
              "        vertical-align: middle;\n",
              "    }\n",
              "\n",
              "    .dataframe tbody tr th {\n",
              "        vertical-align: top;\n",
              "    }\n",
              "\n",
              "    .dataframe thead th {\n",
              "        text-align: right;\n",
              "    }\n",
              "</style>\n",
              "<table border=\"1\" class=\"dataframe\">\n",
              "  <thead>\n",
              "    <tr style=\"text-align: right;\">\n",
              "      <th></th>\n",
              "      <th>Feature Importance</th>\n",
              "    </tr>\n",
              "  </thead>\n",
              "  <tbody>\n",
              "    <tr>\n",
              "      <th>PTitle</th>\n",
              "      <td>0.702010</td>\n",
              "    </tr>\n",
              "    <tr>\n",
              "      <th>Pclass</th>\n",
              "      <td>0.213687</td>\n",
              "    </tr>\n",
              "    <tr>\n",
              "      <th>Fare</th>\n",
              "      <td>0.076276</td>\n",
              "    </tr>\n",
              "    <tr>\n",
              "      <th>Sex</th>\n",
              "      <td>0.008026</td>\n",
              "    </tr>\n",
              "  </tbody>\n",
              "</table>\n",
              "</div>"
            ],
            "text/plain": [
              "        Feature Importance\n",
              "PTitle            0.702010\n",
              "Pclass            0.213687\n",
              "Fare              0.076276\n",
              "Sex               0.008026"
            ]
          },
          "metadata": {
            "tags": []
          },
          "execution_count": 598
        }
      ]
    },
    {
      "cell_type": "code",
      "metadata": {
        "colab": {
          "base_uri": "https://localhost:8080/",
          "height": 816
        },
        "id": "T2BvA8IQpgUm",
        "outputId": "cb56130b-7d6b-451e-9316-8218de78ebca"
      },
      "source": [
        "d = tree.export_graphviz(d_tree, out_file=None,filled=True, rounded=True,special_characters=True,feature_names = x_train.columns) \n",
        "flow = graphviz.Source(d)\n",
        "flow"
      ],
      "execution_count": 599,
      "outputs": [
        {
          "output_type": "execute_result",
          "data": {
            "text/plain": [
              "<graphviz.files.Source at 0x7f9411fee6a0>"
            ],
            "image/svg+xml": "<?xml version=\"1.0\" encoding=\"UTF-8\" standalone=\"no\"?>\n<!DOCTYPE svg PUBLIC \"-//W3C//DTD SVG 1.1//EN\"\n \"http://www.w3.org/Graphics/SVG/1.1/DTD/svg11.dtd\">\n<!-- Generated by graphviz version 2.40.1 (20161225.0304)\n -->\n<!-- Title: Tree Pages: 1 -->\n<svg width=\"2159pt\" height=\"581pt\"\n viewBox=\"0.00 0.00 2159.00 581.00\" xmlns=\"http://www.w3.org/2000/svg\" xmlns:xlink=\"http://www.w3.org/1999/xlink\">\n<g id=\"graph0\" class=\"graph\" transform=\"scale(1 1) rotate(0) translate(4 577)\">\n<title>Tree</title>\n<polygon fill=\"#ffffff\" stroke=\"transparent\" points=\"-4,4 -4,-577 2155,-577 2155,4 -4,4\"/>\n<!-- 0 -->\n<g id=\"node1\" class=\"node\">\n<title>0</title>\n<path fill=\"#f5cfb4\" stroke=\"#000000\" d=\"M900,-573C900,-573 792,-573 792,-573 786,-573 780,-567 780,-561 780,-561 780,-517 780,-517 780,-511 786,-505 792,-505 792,-505 900,-505 900,-505 906,-505 912,-511 912,-517 912,-517 912,-561 912,-561 912,-567 906,-573 900,-573\"/>\n<text text-anchor=\"start\" x=\"810\" y=\"-557.8\" font-family=\"Helvetica,sans-Serif\" font-size=\"14.00\" fill=\"#000000\">PTitle ≤ 1.5</text>\n<text text-anchor=\"start\" x=\"808\" y=\"-542.8\" font-family=\"Helvetica,sans-Serif\" font-size=\"14.00\" fill=\"#000000\">gini = 0.473</text>\n<text text-anchor=\"start\" x=\"798\" y=\"-527.8\" font-family=\"Helvetica,sans-Serif\" font-size=\"14.00\" fill=\"#000000\">samples = 891</text>\n<text text-anchor=\"start\" x=\"788\" y=\"-512.8\" font-family=\"Helvetica,sans-Serif\" font-size=\"14.00\" fill=\"#000000\">value = [549, 342]</text>\n</g>\n<!-- 1 -->\n<g id=\"node2\" class=\"node\">\n<title>1</title>\n<path fill=\"#ea985e\" stroke=\"#000000\" d=\"M588,-469C588,-469 488,-469 488,-469 482,-469 476,-463 476,-457 476,-457 476,-413 476,-413 476,-407 482,-401 488,-401 488,-401 588,-401 588,-401 594,-401 600,-407 600,-413 600,-413 600,-457 600,-457 600,-463 594,-469 588,-469\"/>\n<text text-anchor=\"start\" x=\"498.5\" y=\"-453.8\" font-family=\"Helvetica,sans-Serif\" font-size=\"14.00\" fill=\"#000000\">Pclass ≤ 1.5</text>\n<text text-anchor=\"start\" x=\"500\" y=\"-438.8\" font-family=\"Helvetica,sans-Serif\" font-size=\"14.00\" fill=\"#000000\">gini = 0.264</text>\n<text text-anchor=\"start\" x=\"490\" y=\"-423.8\" font-family=\"Helvetica,sans-Serif\" font-size=\"14.00\" fill=\"#000000\">samples = 517</text>\n<text text-anchor=\"start\" x=\"484\" y=\"-408.8\" font-family=\"Helvetica,sans-Serif\" font-size=\"14.00\" fill=\"#000000\">value = [436, 81]</text>\n</g>\n<!-- 0&#45;&gt;1 -->\n<g id=\"edge1\" class=\"edge\">\n<title>0&#45;&gt;1</title>\n<path fill=\"none\" stroke=\"#000000\" d=\"M779.9263,-516.6894C729.8602,-499.784 661.1483,-476.5825 609.7432,-459.225\"/>\n<polygon fill=\"#000000\" stroke=\"#000000\" points=\"610.6237,-455.8282 600.0295,-455.945 608.3842,-462.4603 610.6237,-455.8282\"/>\n<text text-anchor=\"middle\" x=\"611.1227\" y=\"-474.649\" font-family=\"Helvetica,sans-Serif\" font-size=\"14.00\" fill=\"#000000\">True</text>\n</g>\n<!-- 18 -->\n<g id=\"node19\" class=\"node\">\n<title>18</title>\n<path fill=\"#8fc7f0\" stroke=\"#000000\" d=\"M1152,-469C1152,-469 1044,-469 1044,-469 1038,-469 1032,-463 1032,-457 1032,-457 1032,-413 1032,-413 1032,-407 1038,-401 1044,-401 1044,-401 1152,-401 1152,-401 1158,-401 1164,-407 1164,-413 1164,-413 1164,-457 1164,-457 1164,-463 1158,-469 1152,-469\"/>\n<text text-anchor=\"start\" x=\"1058.5\" y=\"-453.8\" font-family=\"Helvetica,sans-Serif\" font-size=\"14.00\" fill=\"#000000\">Pclass ≤ 2.5</text>\n<text text-anchor=\"start\" x=\"1060\" y=\"-438.8\" font-family=\"Helvetica,sans-Serif\" font-size=\"14.00\" fill=\"#000000\">gini = 0.422</text>\n<text text-anchor=\"start\" x=\"1050\" y=\"-423.8\" font-family=\"Helvetica,sans-Serif\" font-size=\"14.00\" fill=\"#000000\">samples = 374</text>\n<text text-anchor=\"start\" x=\"1040\" y=\"-408.8\" font-family=\"Helvetica,sans-Serif\" font-size=\"14.00\" fill=\"#000000\">value = [113, 261]</text>\n</g>\n<!-- 0&#45;&gt;18 -->\n<g id=\"edge18\" class=\"edge\">\n<title>0&#45;&gt;18</title>\n<path fill=\"none\" stroke=\"#000000\" d=\"M912.21,-511.6752C946.0777,-497.6981 987.448,-480.6246 1022.546,-466.1398\"/>\n<polygon fill=\"#000000\" stroke=\"#000000\" points=\"1023.8866,-469.3729 1031.7951,-462.3227 1021.2161,-462.9023 1023.8866,-469.3729\"/>\n<text text-anchor=\"middle\" x=\"1022.1981\" y=\"-481.7072\" font-family=\"Helvetica,sans-Serif\" font-size=\"14.00\" fill=\"#000000\">False</text>\n</g>\n<!-- 2 -->\n<g id=\"node3\" class=\"node\">\n<title>2</title>\n<path fill=\"#f3c4a2\" stroke=\"#000000\" d=\"M238,-365C238,-365 146,-365 146,-365 140,-365 134,-359 134,-353 134,-353 134,-309 134,-309 134,-303 140,-297 146,-297 146,-297 238,-297 238,-297 244,-297 250,-303 250,-309 250,-309 250,-353 250,-353 250,-359 244,-365 238,-365\"/>\n<text text-anchor=\"start\" x=\"159\" y=\"-349.8\" font-family=\"Helvetica,sans-Serif\" font-size=\"14.00\" fill=\"#000000\">Fare ≤ 1.0</text>\n<text text-anchor=\"start\" x=\"154\" y=\"-334.8\" font-family=\"Helvetica,sans-Serif\" font-size=\"14.00\" fill=\"#000000\">gini = 0.452</text>\n<text text-anchor=\"start\" x=\"144\" y=\"-319.8\" font-family=\"Helvetica,sans-Serif\" font-size=\"14.00\" fill=\"#000000\">samples = 107</text>\n<text text-anchor=\"start\" x=\"142\" y=\"-304.8\" font-family=\"Helvetica,sans-Serif\" font-size=\"14.00\" fill=\"#000000\">value = [70, 37]</text>\n</g>\n<!-- 1&#45;&gt;2 -->\n<g id=\"edge2\" class=\"edge\">\n<title>1&#45;&gt;2</title>\n<path fill=\"none\" stroke=\"#000000\" d=\"M475.7425,-416.2868C414.89,-397.9958 322.5005,-370.2256 259.8125,-351.3829\"/>\n<polygon fill=\"#000000\" stroke=\"#000000\" points=\"260.6001,-347.965 250.0158,-348.4383 258.585,-354.6688 260.6001,-347.965\"/>\n</g>\n<!-- 7 -->\n<g id=\"node8\" class=\"node\">\n<title>7</title>\n<path fill=\"#e89051\" stroke=\"#000000\" d=\"M588,-365C588,-365 488,-365 488,-365 482,-365 476,-359 476,-353 476,-353 476,-309 476,-309 476,-303 482,-297 488,-297 488,-297 588,-297 588,-297 594,-297 600,-303 600,-309 600,-309 600,-353 600,-353 600,-359 594,-365 588,-365\"/>\n<text text-anchor=\"start\" x=\"505\" y=\"-349.8\" font-family=\"Helvetica,sans-Serif\" font-size=\"14.00\" fill=\"#000000\">Fare ≤ 2.5</text>\n<text text-anchor=\"start\" x=\"500\" y=\"-334.8\" font-family=\"Helvetica,sans-Serif\" font-size=\"14.00\" fill=\"#000000\">gini = 0.192</text>\n<text text-anchor=\"start\" x=\"490\" y=\"-319.8\" font-family=\"Helvetica,sans-Serif\" font-size=\"14.00\" fill=\"#000000\">samples = 410</text>\n<text text-anchor=\"start\" x=\"484\" y=\"-304.8\" font-family=\"Helvetica,sans-Serif\" font-size=\"14.00\" fill=\"#000000\">value = [366, 44]</text>\n</g>\n<!-- 1&#45;&gt;7 -->\n<g id=\"edge7\" class=\"edge\">\n<title>1&#45;&gt;7</title>\n<path fill=\"none\" stroke=\"#000000\" d=\"M538,-400.9465C538,-392.776 538,-383.9318 538,-375.3697\"/>\n<polygon fill=\"#000000\" stroke=\"#000000\" points=\"541.5001,-375.13 538,-365.13 534.5001,-375.13 541.5001,-375.13\"/>\n</g>\n<!-- 3 -->\n<g id=\"node4\" class=\"node\">\n<title>3</title>\n<path fill=\"#e58139\" stroke=\"#000000\" d=\"M103.5,-253.5C103.5,-253.5 28.5,-253.5 28.5,-253.5 22.5,-253.5 16.5,-247.5 16.5,-241.5 16.5,-241.5 16.5,-212.5 16.5,-212.5 16.5,-206.5 22.5,-200.5 28.5,-200.5 28.5,-200.5 103.5,-200.5 103.5,-200.5 109.5,-200.5 115.5,-206.5 115.5,-212.5 115.5,-212.5 115.5,-241.5 115.5,-241.5 115.5,-247.5 109.5,-253.5 103.5,-253.5\"/>\n<text text-anchor=\"start\" x=\"36.5\" y=\"-238.3\" font-family=\"Helvetica,sans-Serif\" font-size=\"14.00\" fill=\"#000000\">gini = 0.0</text>\n<text text-anchor=\"start\" x=\"26.5\" y=\"-223.3\" font-family=\"Helvetica,sans-Serif\" font-size=\"14.00\" fill=\"#000000\">samples = 5</text>\n<text text-anchor=\"start\" x=\"24.5\" y=\"-208.3\" font-family=\"Helvetica,sans-Serif\" font-size=\"14.00\" fill=\"#000000\">value = [5, 0]</text>\n</g>\n<!-- 2&#45;&gt;3 -->\n<g id=\"edge3\" class=\"edge\">\n<title>2&#45;&gt;3</title>\n<path fill=\"none\" stroke=\"#000000\" d=\"M150.7429,-296.9465C136.3303,-285.0504 120.1873,-271.726 105.8883,-259.9237\"/>\n<polygon fill=\"#000000\" stroke=\"#000000\" points=\"108.0971,-257.2086 98.1569,-253.5422 103.6411,-262.6071 108.0971,-257.2086\"/>\n</g>\n<!-- 4 -->\n<g id=\"node5\" class=\"node\">\n<title>4</title>\n<path fill=\"#f4c9aa\" stroke=\"#000000\" d=\"M238,-261C238,-261 146,-261 146,-261 140,-261 134,-255 134,-249 134,-249 134,-205 134,-205 134,-199 140,-193 146,-193 146,-193 238,-193 238,-193 244,-193 250,-199 250,-205 250,-205 250,-249 250,-249 250,-255 244,-261 238,-261\"/>\n<text text-anchor=\"start\" x=\"159\" y=\"-245.8\" font-family=\"Helvetica,sans-Serif\" font-size=\"14.00\" fill=\"#000000\">Fare ≤ 2.5</text>\n<text text-anchor=\"start\" x=\"154\" y=\"-230.8\" font-family=\"Helvetica,sans-Serif\" font-size=\"14.00\" fill=\"#000000\">gini = 0.462</text>\n<text text-anchor=\"start\" x=\"144\" y=\"-215.8\" font-family=\"Helvetica,sans-Serif\" font-size=\"14.00\" fill=\"#000000\">samples = 102</text>\n<text text-anchor=\"start\" x=\"142\" y=\"-200.8\" font-family=\"Helvetica,sans-Serif\" font-size=\"14.00\" fill=\"#000000\">value = [65, 37]</text>\n</g>\n<!-- 2&#45;&gt;4 -->\n<g id=\"edge4\" class=\"edge\">\n<title>2&#45;&gt;4</title>\n<path fill=\"none\" stroke=\"#000000\" d=\"M192,-296.9465C192,-288.776 192,-279.9318 192,-271.3697\"/>\n<polygon fill=\"#000000\" stroke=\"#000000\" points=\"195.5001,-271.13 192,-261.13 188.5001,-271.13 195.5001,-271.13\"/>\n</g>\n<!-- 5 -->\n<g id=\"node6\" class=\"node\">\n<title>5</title>\n<path fill=\"#fcf2eb\" stroke=\"#000000\" d=\"M104,-149.5C104,-149.5 12,-149.5 12,-149.5 6,-149.5 0,-143.5 0,-137.5 0,-137.5 0,-108.5 0,-108.5 0,-102.5 6,-96.5 12,-96.5 12,-96.5 104,-96.5 104,-96.5 110,-96.5 116,-102.5 116,-108.5 116,-108.5 116,-137.5 116,-137.5 116,-143.5 110,-149.5 104,-149.5\"/>\n<text text-anchor=\"start\" x=\"20\" y=\"-134.3\" font-family=\"Helvetica,sans-Serif\" font-size=\"14.00\" fill=\"#000000\">gini = 0.499</text>\n<text text-anchor=\"start\" x=\"14\" y=\"-119.3\" font-family=\"Helvetica,sans-Serif\" font-size=\"14.00\" fill=\"#000000\">samples = 38</text>\n<text text-anchor=\"start\" x=\"8\" y=\"-104.3\" font-family=\"Helvetica,sans-Serif\" font-size=\"14.00\" fill=\"#000000\">value = [20, 18]</text>\n</g>\n<!-- 4&#45;&gt;5 -->\n<g id=\"edge5\" class=\"edge\">\n<title>4&#45;&gt;5</title>\n<path fill=\"none\" stroke=\"#000000\" d=\"M148.1234,-192.9465C132.7957,-181.0504 115.6277,-167.726 100.4209,-155.9237\"/>\n<polygon fill=\"#000000\" stroke=\"#000000\" points=\"102.2444,-152.9085 92.1986,-149.5422 97.9525,-158.4384 102.2444,-152.9085\"/>\n</g>\n<!-- 6 -->\n<g id=\"node7\" class=\"node\">\n<title>6</title>\n<path fill=\"#f0b68d\" stroke=\"#000000\" d=\"M238,-149.5C238,-149.5 146,-149.5 146,-149.5 140,-149.5 134,-143.5 134,-137.5 134,-137.5 134,-108.5 134,-108.5 134,-102.5 140,-96.5 146,-96.5 146,-96.5 238,-96.5 238,-96.5 244,-96.5 250,-102.5 250,-108.5 250,-108.5 250,-137.5 250,-137.5 250,-143.5 244,-149.5 238,-149.5\"/>\n<text text-anchor=\"start\" x=\"154\" y=\"-134.3\" font-family=\"Helvetica,sans-Serif\" font-size=\"14.00\" fill=\"#000000\">gini = 0.417</text>\n<text text-anchor=\"start\" x=\"148\" y=\"-119.3\" font-family=\"Helvetica,sans-Serif\" font-size=\"14.00\" fill=\"#000000\">samples = 64</text>\n<text text-anchor=\"start\" x=\"142\" y=\"-104.3\" font-family=\"Helvetica,sans-Serif\" font-size=\"14.00\" fill=\"#000000\">value = [45, 19]</text>\n</g>\n<!-- 4&#45;&gt;6 -->\n<g id=\"edge6\" class=\"edge\">\n<title>4&#45;&gt;6</title>\n<path fill=\"none\" stroke=\"#000000\" d=\"M192,-192.9465C192,-182.2621 192,-170.4254 192,-159.5742\"/>\n<polygon fill=\"#000000\" stroke=\"#000000\" points=\"195.5001,-159.5421 192,-149.5422 188.5001,-159.5422 195.5001,-159.5421\"/>\n</g>\n<!-- 8 -->\n<g id=\"node9\" class=\"node\">\n<title>8</title>\n<path fill=\"#e88f4f\" stroke=\"#000000\" d=\"M521,-261C521,-261 421,-261 421,-261 415,-261 409,-255 409,-249 409,-249 409,-205 409,-205 409,-199 415,-193 421,-193 421,-193 521,-193 521,-193 527,-193 533,-199 533,-205 533,-205 533,-249 533,-249 533,-255 527,-261 521,-261\"/>\n<text text-anchor=\"start\" x=\"438\" y=\"-245.8\" font-family=\"Helvetica,sans-Serif\" font-size=\"14.00\" fill=\"#000000\">Fare ≤ 0.5</text>\n<text text-anchor=\"start\" x=\"433\" y=\"-230.8\" font-family=\"Helvetica,sans-Serif\" font-size=\"14.00\" fill=\"#000000\">gini = 0.182</text>\n<text text-anchor=\"start\" x=\"423\" y=\"-215.8\" font-family=\"Helvetica,sans-Serif\" font-size=\"14.00\" fill=\"#000000\">samples = 386</text>\n<text text-anchor=\"start\" x=\"417\" y=\"-200.8\" font-family=\"Helvetica,sans-Serif\" font-size=\"14.00\" fill=\"#000000\">value = [347, 39]</text>\n</g>\n<!-- 7&#45;&gt;8 -->\n<g id=\"edge8\" class=\"edge\">\n<title>7&#45;&gt;8</title>\n<path fill=\"none\" stroke=\"#000000\" d=\"M516.0617,-296.9465C510.451,-288.2373 504.3471,-278.7626 498.4958,-269.6801\"/>\n<polygon fill=\"#000000\" stroke=\"#000000\" points=\"501.3457,-267.641 492.9876,-261.13 495.4611,-271.4321 501.3457,-267.641\"/>\n</g>\n<!-- 15 -->\n<g id=\"node16\" class=\"node\">\n<title>15</title>\n<path fill=\"#eca26d\" stroke=\"#000000\" d=\"M646.5,-261C646.5,-261 563.5,-261 563.5,-261 557.5,-261 551.5,-255 551.5,-249 551.5,-249 551.5,-205 551.5,-205 551.5,-199 557.5,-193 563.5,-193 563.5,-193 646.5,-193 646.5,-193 652.5,-193 658.5,-199 658.5,-205 658.5,-205 658.5,-249 658.5,-249 658.5,-255 652.5,-261 646.5,-261\"/>\n<text text-anchor=\"start\" x=\"565.5\" y=\"-245.8\" font-family=\"Helvetica,sans-Serif\" font-size=\"14.00\" fill=\"#000000\">Pclass ≤ 2.5</text>\n<text text-anchor=\"start\" x=\"571.5\" y=\"-230.8\" font-family=\"Helvetica,sans-Serif\" font-size=\"14.00\" fill=\"#000000\">gini = 0.33</text>\n<text text-anchor=\"start\" x=\"561\" y=\"-215.8\" font-family=\"Helvetica,sans-Serif\" font-size=\"14.00\" fill=\"#000000\">samples = 24</text>\n<text text-anchor=\"start\" x=\"559.5\" y=\"-200.8\" font-family=\"Helvetica,sans-Serif\" font-size=\"14.00\" fill=\"#000000\">value = [19, 5]</text>\n</g>\n<!-- 7&#45;&gt;15 -->\n<g id=\"edge15\" class=\"edge\">\n<title>7&#45;&gt;15</title>\n<path fill=\"none\" stroke=\"#000000\" d=\"M559.9383,-296.9465C565.549,-288.2373 571.6529,-278.7626 577.5042,-269.6801\"/>\n<polygon fill=\"#000000\" stroke=\"#000000\" points=\"580.5389,-271.4321 583.0124,-261.13 574.6543,-267.641 580.5389,-271.4321\"/>\n</g>\n<!-- 9 -->\n<g id=\"node10\" class=\"node\">\n<title>9</title>\n<path fill=\"#e78c4a\" stroke=\"#000000\" d=\"M380,-157C380,-157 280,-157 280,-157 274,-157 268,-151 268,-145 268,-145 268,-101 268,-101 268,-95 274,-89 280,-89 280,-89 380,-89 380,-89 386,-89 392,-95 392,-101 392,-101 392,-145 392,-145 392,-151 386,-157 380,-157\"/>\n<text text-anchor=\"start\" x=\"290.5\" y=\"-141.8\" font-family=\"Helvetica,sans-Serif\" font-size=\"14.00\" fill=\"#000000\">Pclass ≤ 2.5</text>\n<text text-anchor=\"start\" x=\"292\" y=\"-126.8\" font-family=\"Helvetica,sans-Serif\" font-size=\"14.00\" fill=\"#000000\">gini = 0.148</text>\n<text text-anchor=\"start\" x=\"282\" y=\"-111.8\" font-family=\"Helvetica,sans-Serif\" font-size=\"14.00\" fill=\"#000000\">samples = 174</text>\n<text text-anchor=\"start\" x=\"276\" y=\"-96.8\" font-family=\"Helvetica,sans-Serif\" font-size=\"14.00\" fill=\"#000000\">value = [160, 14]</text>\n</g>\n<!-- 8&#45;&gt;9 -->\n<g id=\"edge9\" class=\"edge\">\n<title>8&#45;&gt;9</title>\n<path fill=\"none\" stroke=\"#000000\" d=\"M424.8313,-192.9465C411.9281,-183.4293 397.7855,-172.9978 384.4517,-163.163\"/>\n<polygon fill=\"#000000\" stroke=\"#000000\" points=\"386.3977,-160.2492 376.2724,-157.13 382.2425,-165.8826 386.3977,-160.2492\"/>\n</g>\n<!-- 12 -->\n<g id=\"node13\" class=\"node\">\n<title>12</title>\n<path fill=\"#e89253\" stroke=\"#000000\" d=\"M522,-157C522,-157 422,-157 422,-157 416,-157 410,-151 410,-145 410,-145 410,-101 410,-101 410,-95 416,-89 422,-89 422,-89 522,-89 522,-89 528,-89 534,-95 534,-101 534,-101 534,-145 534,-145 534,-151 528,-157 522,-157\"/>\n<text text-anchor=\"start\" x=\"439\" y=\"-141.8\" font-family=\"Helvetica,sans-Serif\" font-size=\"14.00\" fill=\"#000000\">Fare ≤ 1.5</text>\n<text text-anchor=\"start\" x=\"434\" y=\"-126.8\" font-family=\"Helvetica,sans-Serif\" font-size=\"14.00\" fill=\"#000000\">gini = 0.208</text>\n<text text-anchor=\"start\" x=\"424\" y=\"-111.8\" font-family=\"Helvetica,sans-Serif\" font-size=\"14.00\" fill=\"#000000\">samples = 212</text>\n<text text-anchor=\"start\" x=\"418\" y=\"-96.8\" font-family=\"Helvetica,sans-Serif\" font-size=\"14.00\" fill=\"#000000\">value = [187, 25]</text>\n</g>\n<!-- 8&#45;&gt;12 -->\n<g id=\"edge12\" class=\"edge\">\n<title>8&#45;&gt;12</title>\n<path fill=\"none\" stroke=\"#000000\" d=\"M471.3274,-192.9465C471.406,-184.776 471.491,-175.9318 471.5734,-167.3697\"/>\n<polygon fill=\"#000000\" stroke=\"#000000\" points=\"475.0754,-167.1632 471.6718,-157.13 468.0757,-167.0958 475.0754,-167.1632\"/>\n</g>\n<!-- 10 -->\n<g id=\"node11\" class=\"node\">\n<title>10</title>\n<path fill=\"#e58139\" stroke=\"#000000\" d=\"M237.5,-53C237.5,-53 162.5,-53 162.5,-53 156.5,-53 150.5,-47 150.5,-41 150.5,-41 150.5,-12 150.5,-12 150.5,-6 156.5,0 162.5,0 162.5,0 237.5,0 237.5,0 243.5,0 249.5,-6 249.5,-12 249.5,-12 249.5,-41 249.5,-41 249.5,-47 243.5,-53 237.5,-53\"/>\n<text text-anchor=\"start\" x=\"170.5\" y=\"-37.8\" font-family=\"Helvetica,sans-Serif\" font-size=\"14.00\" fill=\"#000000\">gini = 0.0</text>\n<text text-anchor=\"start\" x=\"160.5\" y=\"-22.8\" font-family=\"Helvetica,sans-Serif\" font-size=\"14.00\" fill=\"#000000\">samples = 6</text>\n<text text-anchor=\"start\" x=\"158.5\" y=\"-7.8\" font-family=\"Helvetica,sans-Serif\" font-size=\"14.00\" fill=\"#000000\">value = [6, 0]</text>\n</g>\n<!-- 9&#45;&gt;10 -->\n<g id=\"edge10\" class=\"edge\">\n<title>9&#45;&gt;10</title>\n<path fill=\"none\" stroke=\"#000000\" d=\"M284.1669,-88.9777C271.2143,-79.3629 257.1465,-68.9203 244.2867,-59.3743\"/>\n<polygon fill=\"#000000\" stroke=\"#000000\" points=\"246.1499,-56.3986 236.0342,-53.2485 241.9776,-62.0193 246.1499,-56.3986\"/>\n</g>\n<!-- 11 -->\n<g id=\"node12\" class=\"node\">\n<title>11</title>\n<path fill=\"#e78c4b\" stroke=\"#000000\" d=\"M380,-53C380,-53 280,-53 280,-53 274,-53 268,-47 268,-41 268,-41 268,-12 268,-12 268,-6 274,0 280,0 280,0 380,0 380,0 386,0 392,-6 392,-12 392,-12 392,-41 392,-41 392,-47 386,-53 380,-53\"/>\n<text text-anchor=\"start\" x=\"292\" y=\"-37.8\" font-family=\"Helvetica,sans-Serif\" font-size=\"14.00\" fill=\"#000000\">gini = 0.153</text>\n<text text-anchor=\"start\" x=\"282\" y=\"-22.8\" font-family=\"Helvetica,sans-Serif\" font-size=\"14.00\" fill=\"#000000\">samples = 168</text>\n<text text-anchor=\"start\" x=\"276\" y=\"-7.8\" font-family=\"Helvetica,sans-Serif\" font-size=\"14.00\" fill=\"#000000\">value = [154, 14]</text>\n</g>\n<!-- 9&#45;&gt;11 -->\n<g id=\"edge11\" class=\"edge\">\n<title>9&#45;&gt;11</title>\n<path fill=\"none\" stroke=\"#000000\" d=\"M330,-88.9777C330,-80.7364 330,-71.887 330,-63.5153\"/>\n<polygon fill=\"#000000\" stroke=\"#000000\" points=\"333.5001,-63.2484 330,-53.2485 326.5001,-63.2485 333.5001,-63.2484\"/>\n</g>\n<!-- 13 -->\n<g id=\"node14\" class=\"node\">\n<title>13</title>\n<path fill=\"#e9965a\" stroke=\"#000000\" d=\"M522,-53C522,-53 422,-53 422,-53 416,-53 410,-47 410,-41 410,-41 410,-12 410,-12 410,-6 416,0 422,0 422,0 522,0 522,0 528,0 534,-6 534,-12 534,-12 534,-41 534,-41 534,-47 528,-53 522,-53\"/>\n<text text-anchor=\"start\" x=\"434\" y=\"-37.8\" font-family=\"Helvetica,sans-Serif\" font-size=\"14.00\" fill=\"#000000\">gini = 0.245</text>\n<text text-anchor=\"start\" x=\"424\" y=\"-22.8\" font-family=\"Helvetica,sans-Serif\" font-size=\"14.00\" fill=\"#000000\">samples = 147</text>\n<text text-anchor=\"start\" x=\"418\" y=\"-7.8\" font-family=\"Helvetica,sans-Serif\" font-size=\"14.00\" fill=\"#000000\">value = [126, 21]</text>\n</g>\n<!-- 12&#45;&gt;13 -->\n<g id=\"edge13\" class=\"edge\">\n<title>12&#45;&gt;13</title>\n<path fill=\"none\" stroke=\"#000000\" d=\"M472,-88.9777C472,-80.7364 472,-71.887 472,-63.5153\"/>\n<polygon fill=\"#000000\" stroke=\"#000000\" points=\"475.5001,-63.2484 472,-53.2485 468.5001,-63.2485 475.5001,-63.2484\"/>\n</g>\n<!-- 14 -->\n<g id=\"node15\" class=\"node\">\n<title>14</title>\n<path fill=\"#e78946\" stroke=\"#000000\" d=\"M647.5,-53C647.5,-53 564.5,-53 564.5,-53 558.5,-53 552.5,-47 552.5,-41 552.5,-41 552.5,-12 552.5,-12 552.5,-6 558.5,0 564.5,0 564.5,0 647.5,0 647.5,0 653.5,0 659.5,-6 659.5,-12 659.5,-12 659.5,-41 659.5,-41 659.5,-47 653.5,-53 647.5,-53\"/>\n<text text-anchor=\"start\" x=\"568\" y=\"-37.8\" font-family=\"Helvetica,sans-Serif\" font-size=\"14.00\" fill=\"#000000\">gini = 0.116</text>\n<text text-anchor=\"start\" x=\"562\" y=\"-22.8\" font-family=\"Helvetica,sans-Serif\" font-size=\"14.00\" fill=\"#000000\">samples = 65</text>\n<text text-anchor=\"start\" x=\"560.5\" y=\"-7.8\" font-family=\"Helvetica,sans-Serif\" font-size=\"14.00\" fill=\"#000000\">value = [61, 4]</text>\n</g>\n<!-- 12&#45;&gt;14 -->\n<g id=\"edge14\" class=\"edge\">\n<title>12&#45;&gt;14</title>\n<path fill=\"none\" stroke=\"#000000\" d=\"M519.2434,-88.9777C532.7217,-79.2713 547.3715,-68.7213 560.7291,-59.1018\"/>\n<polygon fill=\"#000000\" stroke=\"#000000\" points=\"562.7876,-61.9325 568.857,-53.2485 558.6969,-56.2522 562.7876,-61.9325\"/>\n</g>\n<!-- 16 -->\n<g id=\"node17\" class=\"node\">\n<title>16</title>\n<path fill=\"#e58139\" stroke=\"#000000\" d=\"M641.5,-149.5C641.5,-149.5 566.5,-149.5 566.5,-149.5 560.5,-149.5 554.5,-143.5 554.5,-137.5 554.5,-137.5 554.5,-108.5 554.5,-108.5 554.5,-102.5 560.5,-96.5 566.5,-96.5 566.5,-96.5 641.5,-96.5 641.5,-96.5 647.5,-96.5 653.5,-102.5 653.5,-108.5 653.5,-108.5 653.5,-137.5 653.5,-137.5 653.5,-143.5 647.5,-149.5 641.5,-149.5\"/>\n<text text-anchor=\"start\" x=\"574.5\" y=\"-134.3\" font-family=\"Helvetica,sans-Serif\" font-size=\"14.00\" fill=\"#000000\">gini = 0.0</text>\n<text text-anchor=\"start\" x=\"564.5\" y=\"-119.3\" font-family=\"Helvetica,sans-Serif\" font-size=\"14.00\" fill=\"#000000\">samples = 9</text>\n<text text-anchor=\"start\" x=\"562.5\" y=\"-104.3\" font-family=\"Helvetica,sans-Serif\" font-size=\"14.00\" fill=\"#000000\">value = [9, 0]</text>\n</g>\n<!-- 15&#45;&gt;16 -->\n<g id=\"edge16\" class=\"edge\">\n<title>15&#45;&gt;16</title>\n<path fill=\"none\" stroke=\"#000000\" d=\"M604.6726,-192.9465C604.5698,-182.2621 604.456,-170.4254 604.3517,-159.5742\"/>\n<polygon fill=\"#000000\" stroke=\"#000000\" points=\"607.8513,-159.508 604.2552,-149.5422 600.8516,-159.5754 607.8513,-159.508\"/>\n</g>\n<!-- 17 -->\n<g id=\"node18\" class=\"node\">\n<title>17</title>\n<path fill=\"#f2c09c\" stroke=\"#000000\" d=\"M766.5,-149.5C766.5,-149.5 683.5,-149.5 683.5,-149.5 677.5,-149.5 671.5,-143.5 671.5,-137.5 671.5,-137.5 671.5,-108.5 671.5,-108.5 671.5,-102.5 677.5,-96.5 683.5,-96.5 683.5,-96.5 766.5,-96.5 766.5,-96.5 772.5,-96.5 778.5,-102.5 778.5,-108.5 778.5,-108.5 778.5,-137.5 778.5,-137.5 778.5,-143.5 772.5,-149.5 766.5,-149.5\"/>\n<text text-anchor=\"start\" x=\"687\" y=\"-134.3\" font-family=\"Helvetica,sans-Serif\" font-size=\"14.00\" fill=\"#000000\">gini = 0.444</text>\n<text text-anchor=\"start\" x=\"681\" y=\"-119.3\" font-family=\"Helvetica,sans-Serif\" font-size=\"14.00\" fill=\"#000000\">samples = 15</text>\n<text text-anchor=\"start\" x=\"679.5\" y=\"-104.3\" font-family=\"Helvetica,sans-Serif\" font-size=\"14.00\" fill=\"#000000\">value = [10, 5]</text>\n</g>\n<!-- 15&#45;&gt;17 -->\n<g id=\"edge17\" class=\"edge\">\n<title>15&#45;&gt;17</title>\n<path fill=\"none\" stroke=\"#000000\" d=\"M644.2925,-192.9465C657.8917,-181.1606 673.1085,-167.9726 686.6324,-156.2519\"/>\n<polygon fill=\"#000000\" stroke=\"#000000\" points=\"689.1098,-158.7364 694.3744,-149.5422 684.5252,-153.4466 689.1098,-158.7364\"/>\n</g>\n<!-- 19 -->\n<g id=\"node20\" class=\"node\">\n<title>19</title>\n<path fill=\"#54aae9\" stroke=\"#000000\" d=\"M1148,-365C1148,-365 1048,-365 1048,-365 1042,-365 1036,-359 1036,-353 1036,-353 1036,-309 1036,-309 1036,-303 1042,-297 1048,-297 1048,-297 1148,-297 1148,-297 1154,-297 1160,-303 1160,-309 1160,-309 1160,-353 1160,-353 1160,-359 1154,-365 1148,-365\"/>\n<text text-anchor=\"start\" x=\"1062\" y=\"-349.8\" font-family=\"Helvetica,sans-Serif\" font-size=\"14.00\" fill=\"#000000\">PTitle ≤ 4.5</text>\n<text text-anchor=\"start\" x=\"1060\" y=\"-334.8\" font-family=\"Helvetica,sans-Serif\" font-size=\"14.00\" fill=\"#000000\">gini = 0.209</text>\n<text text-anchor=\"start\" x=\"1050\" y=\"-319.8\" font-family=\"Helvetica,sans-Serif\" font-size=\"14.00\" fill=\"#000000\">samples = 202</text>\n<text text-anchor=\"start\" x=\"1044\" y=\"-304.8\" font-family=\"Helvetica,sans-Serif\" font-size=\"14.00\" fill=\"#000000\">value = [24, 178]</text>\n</g>\n<!-- 18&#45;&gt;19 -->\n<g id=\"edge19\" class=\"edge\">\n<title>18&#45;&gt;19</title>\n<path fill=\"none\" stroke=\"#000000\" d=\"M1098,-400.9465C1098,-392.776 1098,-383.9318 1098,-375.3697\"/>\n<polygon fill=\"#000000\" stroke=\"#000000\" points=\"1101.5001,-375.13 1098,-365.13 1094.5001,-375.13 1101.5001,-375.13\"/>\n</g>\n<!-- 32 -->\n<g id=\"node33\" class=\"node\">\n<title>32</title>\n<path fill=\"#fdf7f2\" stroke=\"#000000\" d=\"M1699,-365C1699,-365 1607,-365 1607,-365 1601,-365 1595,-359 1595,-353 1595,-353 1595,-309 1595,-309 1595,-303 1601,-297 1607,-297 1607,-297 1699,-297 1699,-297 1705,-297 1711,-303 1711,-309 1711,-309 1711,-353 1711,-353 1711,-359 1705,-365 1699,-365\"/>\n<text text-anchor=\"start\" x=\"1620\" y=\"-349.8\" font-family=\"Helvetica,sans-Serif\" font-size=\"14.00\" fill=\"#000000\">Fare ≤ 2.5</text>\n<text text-anchor=\"start\" x=\"1615\" y=\"-334.8\" font-family=\"Helvetica,sans-Serif\" font-size=\"14.00\" fill=\"#000000\">gini = 0.499</text>\n<text text-anchor=\"start\" x=\"1605\" y=\"-319.8\" font-family=\"Helvetica,sans-Serif\" font-size=\"14.00\" fill=\"#000000\">samples = 172</text>\n<text text-anchor=\"start\" x=\"1603\" y=\"-304.8\" font-family=\"Helvetica,sans-Serif\" font-size=\"14.00\" fill=\"#000000\">value = [89, 83]</text>\n</g>\n<!-- 18&#45;&gt;32 -->\n<g id=\"edge32\" class=\"edge\">\n<title>18&#45;&gt;32</title>\n<path fill=\"none\" stroke=\"#000000\" d=\"M1164.1197,-422.61C1270.2087,-402.7303 1477.4013,-363.905 1584.7971,-343.7804\"/>\n<polygon fill=\"#000000\" stroke=\"#000000\" points=\"1585.6877,-347.1745 1594.872,-341.8925 1584.3984,-340.2942 1585.6877,-347.1745\"/>\n</g>\n<!-- 20 -->\n<g id=\"node21\" class=\"node\">\n<title>20</title>\n<path fill=\"#43a2e6\" stroke=\"#000000\" d=\"M1079,-261C1079,-261 987,-261 987,-261 981,-261 975,-255 975,-249 975,-249 975,-205 975,-205 975,-199 981,-193 987,-193 987,-193 1079,-193 1079,-193 1085,-193 1091,-199 1091,-205 1091,-205 1091,-249 1091,-249 1091,-255 1085,-261 1079,-261\"/>\n<text text-anchor=\"start\" x=\"1000\" y=\"-245.8\" font-family=\"Helvetica,sans-Serif\" font-size=\"14.00\" fill=\"#000000\">Fare ≤ 2.5</text>\n<text text-anchor=\"start\" x=\"995\" y=\"-230.8\" font-family=\"Helvetica,sans-Serif\" font-size=\"14.00\" fill=\"#000000\">gini = 0.096</text>\n<text text-anchor=\"start\" x=\"985\" y=\"-215.8\" font-family=\"Helvetica,sans-Serif\" font-size=\"14.00\" fill=\"#000000\">samples = 179</text>\n<text text-anchor=\"start\" x=\"983\" y=\"-200.8\" font-family=\"Helvetica,sans-Serif\" font-size=\"14.00\" fill=\"#000000\">value = [9, 170]</text>\n</g>\n<!-- 19&#45;&gt;20 -->\n<g id=\"edge20\" class=\"edge\">\n<title>19&#45;&gt;20</title>\n<path fill=\"none\" stroke=\"#000000\" d=\"M1076.7166,-296.9465C1071.2733,-288.2373 1065.3516,-278.7626 1059.675,-269.6801\"/>\n<polygon fill=\"#000000\" stroke=\"#000000\" points=\"1062.5993,-267.755 1054.3312,-261.13 1056.6633,-271.465 1062.5993,-267.755\"/>\n</g>\n<!-- 27 -->\n<g id=\"node28\" class=\"node\">\n<title>27</title>\n<path fill=\"#f3c4a3\" stroke=\"#000000\" d=\"M1260.5,-261C1260.5,-261 1177.5,-261 1177.5,-261 1171.5,-261 1165.5,-255 1165.5,-249 1165.5,-249 1165.5,-205 1165.5,-205 1165.5,-199 1171.5,-193 1177.5,-193 1177.5,-193 1260.5,-193 1260.5,-193 1266.5,-193 1272.5,-199 1272.5,-205 1272.5,-205 1272.5,-249 1272.5,-249 1272.5,-255 1266.5,-261 1260.5,-261\"/>\n<text text-anchor=\"start\" x=\"1179.5\" y=\"-245.8\" font-family=\"Helvetica,sans-Serif\" font-size=\"14.00\" fill=\"#000000\">Pclass ≤ 1.5</text>\n<text text-anchor=\"start\" x=\"1181\" y=\"-230.8\" font-family=\"Helvetica,sans-Serif\" font-size=\"14.00\" fill=\"#000000\">gini = 0.454</text>\n<text text-anchor=\"start\" x=\"1175\" y=\"-215.8\" font-family=\"Helvetica,sans-Serif\" font-size=\"14.00\" fill=\"#000000\">samples = 23</text>\n<text text-anchor=\"start\" x=\"1173.5\" y=\"-200.8\" font-family=\"Helvetica,sans-Serif\" font-size=\"14.00\" fill=\"#000000\">value = [15, 8]</text>\n</g>\n<!-- 19&#45;&gt;27 -->\n<g id=\"edge27\" class=\"edge\">\n<title>19&#45;&gt;27</title>\n<path fill=\"none\" stroke=\"#000000\" d=\"M1137.6199,-296.9465C1148.484,-287.6088 1160.3718,-277.3911 1171.6235,-267.7203\"/>\n<polygon fill=\"#000000\" stroke=\"#000000\" points=\"1173.9887,-270.3026 1179.2911,-261.13 1169.4259,-264.994 1173.9887,-270.3026\"/>\n</g>\n<!-- 21 -->\n<g id=\"node22\" class=\"node\">\n<title>21</title>\n<path fill=\"#4ca6e7\" stroke=\"#000000\" d=\"M893.5,-157C893.5,-157 810.5,-157 810.5,-157 804.5,-157 798.5,-151 798.5,-145 798.5,-145 798.5,-101 798.5,-101 798.5,-95 804.5,-89 810.5,-89 810.5,-89 893.5,-89 893.5,-89 899.5,-89 905.5,-95 905.5,-101 905.5,-101 905.5,-145 905.5,-145 905.5,-151 899.5,-157 893.5,-157\"/>\n<text text-anchor=\"start\" x=\"816\" y=\"-141.8\" font-family=\"Helvetica,sans-Serif\" font-size=\"14.00\" fill=\"#000000\">PTitle ≤ 3.5</text>\n<text text-anchor=\"start\" x=\"818.5\" y=\"-126.8\" font-family=\"Helvetica,sans-Serif\" font-size=\"14.00\" fill=\"#000000\">gini = 0.16</text>\n<text text-anchor=\"start\" x=\"808\" y=\"-111.8\" font-family=\"Helvetica,sans-Serif\" font-size=\"14.00\" fill=\"#000000\">samples = 80</text>\n<text text-anchor=\"start\" x=\"806.5\" y=\"-96.8\" font-family=\"Helvetica,sans-Serif\" font-size=\"14.00\" fill=\"#000000\">value = [7, 73]</text>\n</g>\n<!-- 20&#45;&gt;21 -->\n<g id=\"edge21\" class=\"edge\">\n<title>20&#45;&gt;21</title>\n<path fill=\"none\" stroke=\"#000000\" d=\"M974.7342,-193.5213C955.4662,-182.4502 933.9558,-170.0906 914.3913,-158.8491\"/>\n<polygon fill=\"#000000\" stroke=\"#000000\" points=\"915.9685,-155.7188 905.5541,-153.7714 912.481,-161.7882 915.9685,-155.7188\"/>\n</g>\n<!-- 24 -->\n<g id=\"node25\" class=\"node\">\n<title>24</title>\n<path fill=\"#3d9fe6\" stroke=\"#000000\" d=\"M1074.5,-157C1074.5,-157 991.5,-157 991.5,-157 985.5,-157 979.5,-151 979.5,-145 979.5,-145 979.5,-101 979.5,-101 979.5,-95 985.5,-89 991.5,-89 991.5,-89 1074.5,-89 1074.5,-89 1080.5,-89 1086.5,-95 1086.5,-101 1086.5,-101 1086.5,-145 1086.5,-145 1086.5,-151 1080.5,-157 1074.5,-157\"/>\n<text text-anchor=\"start\" x=\"993.5\" y=\"-141.8\" font-family=\"Helvetica,sans-Serif\" font-size=\"14.00\" fill=\"#000000\">Pclass ≤ 1.5</text>\n<text text-anchor=\"start\" x=\"999.5\" y=\"-126.8\" font-family=\"Helvetica,sans-Serif\" font-size=\"14.00\" fill=\"#000000\">gini = 0.04</text>\n<text text-anchor=\"start\" x=\"989\" y=\"-111.8\" font-family=\"Helvetica,sans-Serif\" font-size=\"14.00\" fill=\"#000000\">samples = 99</text>\n<text text-anchor=\"start\" x=\"987.5\" y=\"-96.8\" font-family=\"Helvetica,sans-Serif\" font-size=\"14.00\" fill=\"#000000\">value = [2, 97]</text>\n</g>\n<!-- 20&#45;&gt;24 -->\n<g id=\"edge24\" class=\"edge\">\n<title>20&#45;&gt;24</title>\n<path fill=\"none\" stroke=\"#000000\" d=\"M1033,-192.9465C1033,-184.776 1033,-175.9318 1033,-167.3697\"/>\n<polygon fill=\"#000000\" stroke=\"#000000\" points=\"1036.5001,-167.13 1033,-157.13 1029.5001,-167.13 1036.5001,-167.13\"/>\n</g>\n<!-- 22 -->\n<g id=\"node23\" class=\"node\">\n<title>22</title>\n<path fill=\"#4ea7e8\" stroke=\"#000000\" d=\"M772.5,-53C772.5,-53 689.5,-53 689.5,-53 683.5,-53 677.5,-47 677.5,-41 677.5,-41 677.5,-12 677.5,-12 677.5,-6 683.5,0 689.5,0 689.5,0 772.5,0 772.5,0 778.5,0 784.5,-6 784.5,-12 784.5,-12 784.5,-41 784.5,-41 784.5,-47 778.5,-53 772.5,-53\"/>\n<text text-anchor=\"start\" x=\"693\" y=\"-37.8\" font-family=\"Helvetica,sans-Serif\" font-size=\"14.00\" fill=\"#000000\">gini = 0.171</text>\n<text text-anchor=\"start\" x=\"687\" y=\"-22.8\" font-family=\"Helvetica,sans-Serif\" font-size=\"14.00\" fill=\"#000000\">samples = 74</text>\n<text text-anchor=\"start\" x=\"685.5\" y=\"-7.8\" font-family=\"Helvetica,sans-Serif\" font-size=\"14.00\" fill=\"#000000\">value = [7, 67]</text>\n</g>\n<!-- 21&#45;&gt;22 -->\n<g id=\"edge22\" class=\"edge\">\n<title>21&#45;&gt;22</title>\n<path fill=\"none\" stroke=\"#000000\" d=\"M809.3399,-88.9777C797.3989,-79.4545 784.4395,-69.1191 772.563,-59.6473\"/>\n<polygon fill=\"#000000\" stroke=\"#000000\" points=\"774.54,-56.7473 764.5395,-53.2485 770.1754,-62.22 774.54,-56.7473\"/>\n</g>\n<!-- 23 -->\n<g id=\"node24\" class=\"node\">\n<title>23</title>\n<path fill=\"#399de5\" stroke=\"#000000\" d=\"M889.5,-53C889.5,-53 814.5,-53 814.5,-53 808.5,-53 802.5,-47 802.5,-41 802.5,-41 802.5,-12 802.5,-12 802.5,-6 808.5,0 814.5,0 814.5,0 889.5,0 889.5,0 895.5,0 901.5,-6 901.5,-12 901.5,-12 901.5,-41 901.5,-41 901.5,-47 895.5,-53 889.5,-53\"/>\n<text text-anchor=\"start\" x=\"822.5\" y=\"-37.8\" font-family=\"Helvetica,sans-Serif\" font-size=\"14.00\" fill=\"#000000\">gini = 0.0</text>\n<text text-anchor=\"start\" x=\"812.5\" y=\"-22.8\" font-family=\"Helvetica,sans-Serif\" font-size=\"14.00\" fill=\"#000000\">samples = 6</text>\n<text text-anchor=\"start\" x=\"810.5\" y=\"-7.8\" font-family=\"Helvetica,sans-Serif\" font-size=\"14.00\" fill=\"#000000\">value = [0, 6]</text>\n</g>\n<!-- 21&#45;&gt;23 -->\n<g id=\"edge23\" class=\"edge\">\n<title>21&#45;&gt;23</title>\n<path fill=\"none\" stroke=\"#000000\" d=\"M852,-88.9777C852,-80.7364 852,-71.887 852,-63.5153\"/>\n<polygon fill=\"#000000\" stroke=\"#000000\" points=\"855.5001,-63.2484 852,-53.2485 848.5001,-63.2485 855.5001,-63.2484\"/>\n</g>\n<!-- 25 -->\n<g id=\"node26\" class=\"node\">\n<title>25</title>\n<path fill=\"#3e9fe6\" stroke=\"#000000\" d=\"M1014.5,-53C1014.5,-53 931.5,-53 931.5,-53 925.5,-53 919.5,-47 919.5,-41 919.5,-41 919.5,-12 919.5,-12 919.5,-6 925.5,0 931.5,0 931.5,0 1014.5,0 1014.5,0 1020.5,0 1026.5,-6 1026.5,-12 1026.5,-12 1026.5,-41 1026.5,-41 1026.5,-47 1020.5,-53 1014.5,-53\"/>\n<text text-anchor=\"start\" x=\"935\" y=\"-37.8\" font-family=\"Helvetica,sans-Serif\" font-size=\"14.00\" fill=\"#000000\">gini = 0.045</text>\n<text text-anchor=\"start\" x=\"929\" y=\"-22.8\" font-family=\"Helvetica,sans-Serif\" font-size=\"14.00\" fill=\"#000000\">samples = 87</text>\n<text text-anchor=\"start\" x=\"927.5\" y=\"-7.8\" font-family=\"Helvetica,sans-Serif\" font-size=\"14.00\" fill=\"#000000\">value = [2, 85]</text>\n</g>\n<!-- 24&#45;&gt;25 -->\n<g id=\"edge25\" class=\"edge\">\n<title>24&#45;&gt;25</title>\n<path fill=\"none\" stroke=\"#000000\" d=\"M1011.8462,-88.9777C1006.3805,-80.187 1000.4846,-70.7044 994.9778,-61.8477\"/>\n<polygon fill=\"#000000\" stroke=\"#000000\" points=\"997.8837,-59.8927 989.6312,-53.2485 991.9391,-63.5889 997.8837,-59.8927\"/>\n</g>\n<!-- 26 -->\n<g id=\"node27\" class=\"node\">\n<title>26</title>\n<path fill=\"#399de5\" stroke=\"#000000\" d=\"M1139.5,-53C1139.5,-53 1056.5,-53 1056.5,-53 1050.5,-53 1044.5,-47 1044.5,-41 1044.5,-41 1044.5,-12 1044.5,-12 1044.5,-6 1050.5,0 1056.5,0 1056.5,0 1139.5,0 1139.5,0 1145.5,0 1151.5,-6 1151.5,-12 1151.5,-12 1151.5,-41 1151.5,-41 1151.5,-47 1145.5,-53 1139.5,-53\"/>\n<text text-anchor=\"start\" x=\"1068.5\" y=\"-37.8\" font-family=\"Helvetica,sans-Serif\" font-size=\"14.00\" fill=\"#000000\">gini = 0.0</text>\n<text text-anchor=\"start\" x=\"1054\" y=\"-22.8\" font-family=\"Helvetica,sans-Serif\" font-size=\"14.00\" fill=\"#000000\">samples = 12</text>\n<text text-anchor=\"start\" x=\"1052.5\" y=\"-7.8\" font-family=\"Helvetica,sans-Serif\" font-size=\"14.00\" fill=\"#000000\">value = [0, 12]</text>\n</g>\n<!-- 24&#45;&gt;26 -->\n<g id=\"edge26\" class=\"edge\">\n<title>24&#45;&gt;26</title>\n<path fill=\"none\" stroke=\"#000000\" d=\"M1055.9166,-88.9777C1061.8994,-80.0954 1068.3582,-70.5067 1074.377,-61.5711\"/>\n<polygon fill=\"#000000\" stroke=\"#000000\" points=\"1077.2991,-63.4978 1079.9829,-53.2485 1071.4933,-59.5871 1077.2991,-63.4978\"/>\n</g>\n<!-- 28 -->\n<g id=\"node29\" class=\"node\">\n<title>28</title>\n<path fill=\"#e6f3fc\" stroke=\"#000000\" d=\"M1259,-157C1259,-157 1179,-157 1179,-157 1173,-157 1167,-151 1167,-145 1167,-145 1167,-101 1167,-101 1167,-95 1173,-89 1179,-89 1179,-89 1259,-89 1259,-89 1265,-89 1271,-95 1271,-101 1271,-101 1271,-145 1271,-145 1271,-151 1265,-157 1259,-157\"/>\n<text text-anchor=\"start\" x=\"1188.5\" y=\"-141.8\" font-family=\"Helvetica,sans-Serif\" font-size=\"14.00\" fill=\"#000000\">Sex ≤ 0.5</text>\n<text text-anchor=\"start\" x=\"1181\" y=\"-126.8\" font-family=\"Helvetica,sans-Serif\" font-size=\"14.00\" fill=\"#000000\">gini = 0.498</text>\n<text text-anchor=\"start\" x=\"1175\" y=\"-111.8\" font-family=\"Helvetica,sans-Serif\" font-size=\"14.00\" fill=\"#000000\">samples = 15</text>\n<text text-anchor=\"start\" x=\"1177.5\" y=\"-96.8\" font-family=\"Helvetica,sans-Serif\" font-size=\"14.00\" fill=\"#000000\">value = [7, 8]</text>\n</g>\n<!-- 27&#45;&gt;28 -->\n<g id=\"edge28\" class=\"edge\">\n<title>27&#45;&gt;28</title>\n<path fill=\"none\" stroke=\"#000000\" d=\"M1219,-192.9465C1219,-184.776 1219,-175.9318 1219,-167.3697\"/>\n<polygon fill=\"#000000\" stroke=\"#000000\" points=\"1222.5001,-167.13 1219,-157.13 1215.5001,-167.13 1222.5001,-167.13\"/>\n</g>\n<!-- 31 -->\n<g id=\"node32\" class=\"node\">\n<title>31</title>\n<path fill=\"#e58139\" stroke=\"#000000\" d=\"M1376.5,-149.5C1376.5,-149.5 1301.5,-149.5 1301.5,-149.5 1295.5,-149.5 1289.5,-143.5 1289.5,-137.5 1289.5,-137.5 1289.5,-108.5 1289.5,-108.5 1289.5,-102.5 1295.5,-96.5 1301.5,-96.5 1301.5,-96.5 1376.5,-96.5 1376.5,-96.5 1382.5,-96.5 1388.5,-102.5 1388.5,-108.5 1388.5,-108.5 1388.5,-137.5 1388.5,-137.5 1388.5,-143.5 1382.5,-149.5 1376.5,-149.5\"/>\n<text text-anchor=\"start\" x=\"1309.5\" y=\"-134.3\" font-family=\"Helvetica,sans-Serif\" font-size=\"14.00\" fill=\"#000000\">gini = 0.0</text>\n<text text-anchor=\"start\" x=\"1299.5\" y=\"-119.3\" font-family=\"Helvetica,sans-Serif\" font-size=\"14.00\" fill=\"#000000\">samples = 8</text>\n<text text-anchor=\"start\" x=\"1297.5\" y=\"-104.3\" font-family=\"Helvetica,sans-Serif\" font-size=\"14.00\" fill=\"#000000\">value = [8, 0]</text>\n</g>\n<!-- 27&#45;&gt;31 -->\n<g id=\"edge31\" class=\"edge\">\n<title>27&#45;&gt;31</title>\n<path fill=\"none\" stroke=\"#000000\" d=\"M1258.2925,-192.9465C1271.8917,-181.1606 1287.1085,-167.9726 1300.6324,-156.2519\"/>\n<polygon fill=\"#000000\" stroke=\"#000000\" points=\"1303.1098,-158.7364 1308.3744,-149.5422 1298.5252,-153.4466 1303.1098,-158.7364\"/>\n</g>\n<!-- 29 -->\n<g id=\"node30\" class=\"node\">\n<title>29</title>\n<path fill=\"#399de5\" stroke=\"#000000\" d=\"M1256.5,-53C1256.5,-53 1181.5,-53 1181.5,-53 1175.5,-53 1169.5,-47 1169.5,-41 1169.5,-41 1169.5,-12 1169.5,-12 1169.5,-6 1175.5,0 1181.5,0 1181.5,0 1256.5,0 1256.5,0 1262.5,0 1268.5,-6 1268.5,-12 1268.5,-12 1268.5,-41 1268.5,-41 1268.5,-47 1262.5,-53 1256.5,-53\"/>\n<text text-anchor=\"start\" x=\"1189.5\" y=\"-37.8\" font-family=\"Helvetica,sans-Serif\" font-size=\"14.00\" fill=\"#000000\">gini = 0.0</text>\n<text text-anchor=\"start\" x=\"1179.5\" y=\"-22.8\" font-family=\"Helvetica,sans-Serif\" font-size=\"14.00\" fill=\"#000000\">samples = 3</text>\n<text text-anchor=\"start\" x=\"1177.5\" y=\"-7.8\" font-family=\"Helvetica,sans-Serif\" font-size=\"14.00\" fill=\"#000000\">value = [0, 3]</text>\n</g>\n<!-- 28&#45;&gt;29 -->\n<g id=\"edge29\" class=\"edge\">\n<title>28&#45;&gt;29</title>\n<path fill=\"none\" stroke=\"#000000\" d=\"M1219,-88.9777C1219,-80.7364 1219,-71.887 1219,-63.5153\"/>\n<polygon fill=\"#000000\" stroke=\"#000000\" points=\"1222.5001,-63.2484 1219,-53.2485 1215.5001,-63.2485 1222.5001,-63.2484\"/>\n</g>\n<!-- 30 -->\n<g id=\"node31\" class=\"node\">\n<title>30</title>\n<path fill=\"#f8dbc6\" stroke=\"#000000\" d=\"M1379,-53C1379,-53 1299,-53 1299,-53 1293,-53 1287,-47 1287,-41 1287,-41 1287,-12 1287,-12 1287,-6 1293,0 1299,0 1299,0 1379,0 1379,0 1385,0 1391,-6 1391,-12 1391,-12 1391,-41 1391,-41 1391,-47 1385,-53 1379,-53\"/>\n<text text-anchor=\"start\" x=\"1301\" y=\"-37.8\" font-family=\"Helvetica,sans-Serif\" font-size=\"14.00\" fill=\"#000000\">gini = 0.486</text>\n<text text-anchor=\"start\" x=\"1295\" y=\"-22.8\" font-family=\"Helvetica,sans-Serif\" font-size=\"14.00\" fill=\"#000000\">samples = 12</text>\n<text text-anchor=\"start\" x=\"1297.5\" y=\"-7.8\" font-family=\"Helvetica,sans-Serif\" font-size=\"14.00\" fill=\"#000000\">value = [7, 5]</text>\n</g>\n<!-- 28&#45;&gt;30 -->\n<g id=\"edge30\" class=\"edge\">\n<title>28&#45;&gt;30</title>\n<path fill=\"none\" stroke=\"#000000\" d=\"M1261.3075,-88.9777C1273.1499,-79.4545 1286.0021,-69.1191 1297.7805,-59.6473\"/>\n<polygon fill=\"#000000\" stroke=\"#000000\" points=\"1300.1382,-62.2427 1305.7376,-53.2485 1295.7514,-56.7877 1300.1382,-62.2427\"/>\n</g>\n<!-- 33 -->\n<g id=\"node34\" class=\"node\">\n<title>33</title>\n<path fill=\"#dceefa\" stroke=\"#000000\" d=\"M1699,-261C1699,-261 1607,-261 1607,-261 1601,-261 1595,-255 1595,-249 1595,-249 1595,-205 1595,-205 1595,-199 1601,-193 1607,-193 1607,-193 1699,-193 1699,-193 1705,-193 1711,-199 1711,-205 1711,-205 1711,-249 1711,-249 1711,-255 1705,-261 1699,-261\"/>\n<text text-anchor=\"start\" x=\"1620\" y=\"-245.8\" font-family=\"Helvetica,sans-Serif\" font-size=\"14.00\" fill=\"#000000\">Fare ≤ 0.5</text>\n<text text-anchor=\"start\" x=\"1615\" y=\"-230.8\" font-family=\"Helvetica,sans-Serif\" font-size=\"14.00\" fill=\"#000000\">gini = 0.495</text>\n<text text-anchor=\"start\" x=\"1605\" y=\"-215.8\" font-family=\"Helvetica,sans-Serif\" font-size=\"14.00\" fill=\"#000000\">samples = 146</text>\n<text text-anchor=\"start\" x=\"1603\" y=\"-200.8\" font-family=\"Helvetica,sans-Serif\" font-size=\"14.00\" fill=\"#000000\">value = [66, 80]</text>\n</g>\n<!-- 32&#45;&gt;33 -->\n<g id=\"edge33\" class=\"edge\">\n<title>32&#45;&gt;33</title>\n<path fill=\"none\" stroke=\"#000000\" d=\"M1653,-296.9465C1653,-288.776 1653,-279.9318 1653,-271.3697\"/>\n<polygon fill=\"#000000\" stroke=\"#000000\" points=\"1656.5001,-271.13 1653,-261.13 1649.5001,-271.13 1656.5001,-271.13\"/>\n</g>\n<!-- 40 -->\n<g id=\"node41\" class=\"node\">\n<title>40</title>\n<path fill=\"#e89153\" stroke=\"#000000\" d=\"M1893.5,-261C1893.5,-261 1810.5,-261 1810.5,-261 1804.5,-261 1798.5,-255 1798.5,-249 1798.5,-249 1798.5,-205 1798.5,-205 1798.5,-199 1804.5,-193 1810.5,-193 1810.5,-193 1893.5,-193 1893.5,-193 1899.5,-193 1905.5,-199 1905.5,-205 1905.5,-205 1905.5,-249 1905.5,-249 1905.5,-255 1899.5,-261 1893.5,-261\"/>\n<text text-anchor=\"start\" x=\"1816\" y=\"-245.8\" font-family=\"Helvetica,sans-Serif\" font-size=\"14.00\" fill=\"#000000\">PTitle ≤ 2.5</text>\n<text text-anchor=\"start\" x=\"1814\" y=\"-230.8\" font-family=\"Helvetica,sans-Serif\" font-size=\"14.00\" fill=\"#000000\">gini = 0.204</text>\n<text text-anchor=\"start\" x=\"1808\" y=\"-215.8\" font-family=\"Helvetica,sans-Serif\" font-size=\"14.00\" fill=\"#000000\">samples = 26</text>\n<text text-anchor=\"start\" x=\"1806.5\" y=\"-200.8\" font-family=\"Helvetica,sans-Serif\" font-size=\"14.00\" fill=\"#000000\">value = [23, 3]</text>\n</g>\n<!-- 32&#45;&gt;40 -->\n<g id=\"edge40\" class=\"edge\">\n<title>32&#45;&gt;40</title>\n<path fill=\"none\" stroke=\"#000000\" d=\"M1711.094,-300.6393C1735.6158,-287.8239 1764.2213,-272.8743 1789.227,-259.806\"/>\n<polygon fill=\"#000000\" stroke=\"#000000\" points=\"1791.0209,-262.8177 1798.2625,-255.0839 1787.7787,-256.6138 1791.0209,-262.8177\"/>\n</g>\n<!-- 34 -->\n<g id=\"node35\" class=\"node\">\n<title>34</title>\n<path fill=\"#8fc7f0\" stroke=\"#000000\" d=\"M1632,-157C1632,-157 1540,-157 1540,-157 1534,-157 1528,-151 1528,-145 1528,-145 1528,-101 1528,-101 1528,-95 1534,-89 1540,-89 1540,-89 1632,-89 1632,-89 1638,-89 1644,-95 1644,-101 1644,-101 1644,-145 1644,-145 1644,-151 1638,-157 1632,-157\"/>\n<text text-anchor=\"start\" x=\"1550\" y=\"-141.8\" font-family=\"Helvetica,sans-Serif\" font-size=\"14.00\" fill=\"#000000\">PTitle ≤ 2.5</text>\n<text text-anchor=\"start\" x=\"1548\" y=\"-126.8\" font-family=\"Helvetica,sans-Serif\" font-size=\"14.00\" fill=\"#000000\">gini = 0.422</text>\n<text text-anchor=\"start\" x=\"1542\" y=\"-111.8\" font-family=\"Helvetica,sans-Serif\" font-size=\"14.00\" fill=\"#000000\">samples = 43</text>\n<text text-anchor=\"start\" x=\"1536\" y=\"-96.8\" font-family=\"Helvetica,sans-Serif\" font-size=\"14.00\" fill=\"#000000\">value = [13, 30]</text>\n</g>\n<!-- 33&#45;&gt;34 -->\n<g id=\"edge34\" class=\"edge\">\n<title>33&#45;&gt;34</title>\n<path fill=\"none\" stroke=\"#000000\" d=\"M1631.0617,-192.9465C1625.451,-184.2373 1619.3471,-174.7626 1613.4958,-165.6801\"/>\n<polygon fill=\"#000000\" stroke=\"#000000\" points=\"1616.3457,-163.641 1607.9876,-157.13 1610.4611,-167.4321 1616.3457,-163.641\"/>\n</g>\n<!-- 37 -->\n<g id=\"node38\" class=\"node\">\n<title>37</title>\n<path fill=\"#fef8f4\" stroke=\"#000000\" d=\"M1766,-157C1766,-157 1674,-157 1674,-157 1668,-157 1662,-151 1662,-145 1662,-145 1662,-101 1662,-101 1662,-95 1668,-89 1674,-89 1674,-89 1766,-89 1766,-89 1772,-89 1778,-95 1778,-101 1778,-101 1778,-145 1778,-145 1778,-151 1772,-157 1766,-157\"/>\n<text text-anchor=\"start\" x=\"1684\" y=\"-141.8\" font-family=\"Helvetica,sans-Serif\" font-size=\"14.00\" fill=\"#000000\">PTitle ≤ 2.5</text>\n<text text-anchor=\"start\" x=\"1690.5\" y=\"-126.8\" font-family=\"Helvetica,sans-Serif\" font-size=\"14.00\" fill=\"#000000\">gini = 0.5</text>\n<text text-anchor=\"start\" x=\"1672\" y=\"-111.8\" font-family=\"Helvetica,sans-Serif\" font-size=\"14.00\" fill=\"#000000\">samples = 103</text>\n<text text-anchor=\"start\" x=\"1670\" y=\"-96.8\" font-family=\"Helvetica,sans-Serif\" font-size=\"14.00\" fill=\"#000000\">value = [53, 50]</text>\n</g>\n<!-- 33&#45;&gt;37 -->\n<g id=\"edge37\" class=\"edge\">\n<title>33&#45;&gt;37</title>\n<path fill=\"none\" stroke=\"#000000\" d=\"M1674.9383,-192.9465C1680.549,-184.2373 1686.6529,-174.7626 1692.5042,-165.6801\"/>\n<polygon fill=\"#000000\" stroke=\"#000000\" points=\"1695.5389,-167.4321 1698.0124,-157.13 1689.6543,-163.641 1695.5389,-167.4321\"/>\n</g>\n<!-- 35 -->\n<g id=\"node36\" class=\"node\">\n<title>35</title>\n<path fill=\"#95caf1\" stroke=\"#000000\" d=\"M1513,-53C1513,-53 1421,-53 1421,-53 1415,-53 1409,-47 1409,-41 1409,-41 1409,-12 1409,-12 1409,-6 1415,0 1421,0 1421,0 1513,0 1513,0 1519,0 1525,-6 1525,-12 1525,-12 1525,-41 1525,-41 1525,-47 1519,-53 1513,-53\"/>\n<text text-anchor=\"start\" x=\"1429\" y=\"-37.8\" font-family=\"Helvetica,sans-Serif\" font-size=\"14.00\" fill=\"#000000\">gini = 0.433</text>\n<text text-anchor=\"start\" x=\"1423\" y=\"-22.8\" font-family=\"Helvetica,sans-Serif\" font-size=\"14.00\" fill=\"#000000\">samples = 41</text>\n<text text-anchor=\"start\" x=\"1417\" y=\"-7.8\" font-family=\"Helvetica,sans-Serif\" font-size=\"14.00\" fill=\"#000000\">value = [13, 28]</text>\n</g>\n<!-- 34&#45;&gt;35 -->\n<g id=\"edge35\" class=\"edge\">\n<title>34&#45;&gt;35</title>\n<path fill=\"none\" stroke=\"#000000\" d=\"M1544.0451,-88.9777C1532.3014,-79.4545 1519.5562,-69.1191 1507.876,-59.6473\"/>\n<polygon fill=\"#000000\" stroke=\"#000000\" points=\"1509.9568,-56.8286 1499.9852,-53.2485 1505.5478,-62.2656 1509.9568,-56.8286\"/>\n</g>\n<!-- 36 -->\n<g id=\"node37\" class=\"node\">\n<title>36</title>\n<path fill=\"#399de5\" stroke=\"#000000\" d=\"M1630.5,-53C1630.5,-53 1555.5,-53 1555.5,-53 1549.5,-53 1543.5,-47 1543.5,-41 1543.5,-41 1543.5,-12 1543.5,-12 1543.5,-6 1549.5,0 1555.5,0 1555.5,0 1630.5,0 1630.5,0 1636.5,0 1642.5,-6 1642.5,-12 1642.5,-12 1642.5,-41 1642.5,-41 1642.5,-47 1636.5,-53 1630.5,-53\"/>\n<text text-anchor=\"start\" x=\"1563.5\" y=\"-37.8\" font-family=\"Helvetica,sans-Serif\" font-size=\"14.00\" fill=\"#000000\">gini = 0.0</text>\n<text text-anchor=\"start\" x=\"1553.5\" y=\"-22.8\" font-family=\"Helvetica,sans-Serif\" font-size=\"14.00\" fill=\"#000000\">samples = 2</text>\n<text text-anchor=\"start\" x=\"1551.5\" y=\"-7.8\" font-family=\"Helvetica,sans-Serif\" font-size=\"14.00\" fill=\"#000000\">value = [0, 2]</text>\n</g>\n<!-- 34&#45;&gt;36 -->\n<g id=\"edge36\" class=\"edge\">\n<title>34&#45;&gt;36</title>\n<path fill=\"none\" stroke=\"#000000\" d=\"M1588.4679,-88.9777C1589.0724,-80.6449 1589.722,-71.6903 1590.3352,-63.2364\"/>\n<polygon fill=\"#000000\" stroke=\"#000000\" points=\"1593.8269,-63.4755 1591.0597,-53.2485 1586.8453,-62.969 1593.8269,-63.4755\"/>\n</g>\n<!-- 38 -->\n<g id=\"node39\" class=\"node\">\n<title>38</title>\n<path fill=\"#f9e4d5\" stroke=\"#000000\" d=\"M1765,-53C1765,-53 1673,-53 1673,-53 1667,-53 1661,-47 1661,-41 1661,-41 1661,-12 1661,-12 1661,-6 1667,0 1673,0 1673,0 1765,0 1765,0 1771,0 1777,-6 1777,-12 1777,-12 1777,-41 1777,-41 1777,-47 1771,-53 1765,-53\"/>\n<text text-anchor=\"start\" x=\"1681\" y=\"-37.8\" font-family=\"Helvetica,sans-Serif\" font-size=\"14.00\" fill=\"#000000\">gini = 0.493</text>\n<text text-anchor=\"start\" x=\"1675\" y=\"-22.8\" font-family=\"Helvetica,sans-Serif\" font-size=\"14.00\" fill=\"#000000\">samples = 50</text>\n<text text-anchor=\"start\" x=\"1669\" y=\"-7.8\" font-family=\"Helvetica,sans-Serif\" font-size=\"14.00\" fill=\"#000000\">value = [28, 22]</text>\n</g>\n<!-- 37&#45;&gt;38 -->\n<g id=\"edge38\" class=\"edge\">\n<title>37&#45;&gt;38</title>\n<path fill=\"none\" stroke=\"#000000\" d=\"M1719.6474,-88.9777C1719.562,-80.7364 1719.4703,-71.887 1719.3836,-63.5153\"/>\n<polygon fill=\"#000000\" stroke=\"#000000\" points=\"1722.8807,-63.2116 1719.2772,-53.2485 1715.8811,-63.2842 1722.8807,-63.2116\"/>\n</g>\n<!-- 39 -->\n<g id=\"node40\" class=\"node\">\n<title>39</title>\n<path fill=\"#eaf4fc\" stroke=\"#000000\" d=\"M1899,-53C1899,-53 1807,-53 1807,-53 1801,-53 1795,-47 1795,-41 1795,-41 1795,-12 1795,-12 1795,-6 1801,0 1807,0 1807,0 1899,0 1899,0 1905,0 1911,-6 1911,-12 1911,-12 1911,-41 1911,-41 1911,-47 1905,-53 1899,-53\"/>\n<text text-anchor=\"start\" x=\"1815\" y=\"-37.8\" font-family=\"Helvetica,sans-Serif\" font-size=\"14.00\" fill=\"#000000\">gini = 0.498</text>\n<text text-anchor=\"start\" x=\"1809\" y=\"-22.8\" font-family=\"Helvetica,sans-Serif\" font-size=\"14.00\" fill=\"#000000\">samples = 53</text>\n<text text-anchor=\"start\" x=\"1803\" y=\"-7.8\" font-family=\"Helvetica,sans-Serif\" font-size=\"14.00\" fill=\"#000000\">value = [25, 28]</text>\n</g>\n<!-- 37&#45;&gt;39 -->\n<g id=\"edge39\" class=\"edge\">\n<title>37&#45;&gt;39</title>\n<path fill=\"none\" stroke=\"#000000\" d=\"M1766.8908,-88.9777C1780.1423,-79.3629 1794.5347,-68.9203 1807.6913,-59.3743\"/>\n<polygon fill=\"#000000\" stroke=\"#000000\" points=\"1810.0957,-61.9541 1816.1342,-53.2485 1805.9848,-56.2883 1810.0957,-61.9541\"/>\n</g>\n<!-- 41 -->\n<g id=\"node42\" class=\"node\">\n<title>41</title>\n<path fill=\"#e88e4d\" stroke=\"#000000\" d=\"M1893.5,-149.5C1893.5,-149.5 1810.5,-149.5 1810.5,-149.5 1804.5,-149.5 1798.5,-143.5 1798.5,-137.5 1798.5,-137.5 1798.5,-108.5 1798.5,-108.5 1798.5,-102.5 1804.5,-96.5 1810.5,-96.5 1810.5,-96.5 1893.5,-96.5 1893.5,-96.5 1899.5,-96.5 1905.5,-102.5 1905.5,-108.5 1905.5,-108.5 1905.5,-137.5 1905.5,-137.5 1905.5,-143.5 1899.5,-149.5 1893.5,-149.5\"/>\n<text text-anchor=\"start\" x=\"1814\" y=\"-134.3\" font-family=\"Helvetica,sans-Serif\" font-size=\"14.00\" fill=\"#000000\">gini = 0.165</text>\n<text text-anchor=\"start\" x=\"1808\" y=\"-119.3\" font-family=\"Helvetica,sans-Serif\" font-size=\"14.00\" fill=\"#000000\">samples = 11</text>\n<text text-anchor=\"start\" x=\"1806.5\" y=\"-104.3\" font-family=\"Helvetica,sans-Serif\" font-size=\"14.00\" fill=\"#000000\">value = [10, 1]</text>\n</g>\n<!-- 40&#45;&gt;41 -->\n<g id=\"edge41\" class=\"edge\">\n<title>40&#45;&gt;41</title>\n<path fill=\"none\" stroke=\"#000000\" d=\"M1852,-192.9465C1852,-182.2621 1852,-170.4254 1852,-159.5742\"/>\n<polygon fill=\"#000000\" stroke=\"#000000\" points=\"1855.5001,-159.5421 1852,-149.5422 1848.5001,-159.5422 1855.5001,-159.5421\"/>\n</g>\n<!-- 42 -->\n<g id=\"node43\" class=\"node\">\n<title>42</title>\n<path fill=\"#e99457\" stroke=\"#000000\" d=\"M2020.5,-157C2020.5,-157 1937.5,-157 1937.5,-157 1931.5,-157 1925.5,-151 1925.5,-145 1925.5,-145 1925.5,-101 1925.5,-101 1925.5,-95 1931.5,-89 1937.5,-89 1937.5,-89 2020.5,-89 2020.5,-89 2026.5,-89 2032.5,-95 2032.5,-101 2032.5,-101 2032.5,-145 2032.5,-145 2032.5,-151 2026.5,-157 2020.5,-157\"/>\n<text text-anchor=\"start\" x=\"1943\" y=\"-141.8\" font-family=\"Helvetica,sans-Serif\" font-size=\"14.00\" fill=\"#000000\">PTitle ≤ 3.5</text>\n<text text-anchor=\"start\" x=\"1941\" y=\"-126.8\" font-family=\"Helvetica,sans-Serif\" font-size=\"14.00\" fill=\"#000000\">gini = 0.231</text>\n<text text-anchor=\"start\" x=\"1935\" y=\"-111.8\" font-family=\"Helvetica,sans-Serif\" font-size=\"14.00\" fill=\"#000000\">samples = 15</text>\n<text text-anchor=\"start\" x=\"1933.5\" y=\"-96.8\" font-family=\"Helvetica,sans-Serif\" font-size=\"14.00\" fill=\"#000000\">value = [13, 2]</text>\n</g>\n<!-- 40&#45;&gt;42 -->\n<g id=\"edge42\" class=\"edge\">\n<title>40&#45;&gt;42</title>\n<path fill=\"none\" stroke=\"#000000\" d=\"M1893.5845,-192.9465C1904.9873,-183.6088 1917.4647,-173.3911 1929.2743,-163.7203\"/>\n<polygon fill=\"#000000\" stroke=\"#000000\" points=\"1931.8026,-166.1736 1937.322,-157.13 1927.3676,-160.7578 1931.8026,-166.1736\"/>\n</g>\n<!-- 43 -->\n<g id=\"node44\" class=\"node\">\n<title>43</title>\n<path fill=\"#eca06a\" stroke=\"#000000\" d=\"M2016.5,-53C2016.5,-53 1941.5,-53 1941.5,-53 1935.5,-53 1929.5,-47 1929.5,-41 1929.5,-41 1929.5,-12 1929.5,-12 1929.5,-6 1935.5,0 1941.5,0 1941.5,0 2016.5,0 2016.5,0 2022.5,0 2028.5,-6 2028.5,-12 2028.5,-12 2028.5,-41 2028.5,-41 2028.5,-47 2022.5,-53 2016.5,-53\"/>\n<text text-anchor=\"start\" x=\"1945.5\" y=\"-37.8\" font-family=\"Helvetica,sans-Serif\" font-size=\"14.00\" fill=\"#000000\">gini = 0.32</text>\n<text text-anchor=\"start\" x=\"1939.5\" y=\"-22.8\" font-family=\"Helvetica,sans-Serif\" font-size=\"14.00\" fill=\"#000000\">samples = 5</text>\n<text text-anchor=\"start\" x=\"1937.5\" y=\"-7.8\" font-family=\"Helvetica,sans-Serif\" font-size=\"14.00\" fill=\"#000000\">value = [4, 1]</text>\n</g>\n<!-- 42&#45;&gt;43 -->\n<g id=\"edge43\" class=\"edge\">\n<title>42&#45;&gt;43</title>\n<path fill=\"none\" stroke=\"#000000\" d=\"M1979,-88.9777C1979,-80.7364 1979,-71.887 1979,-63.5153\"/>\n<polygon fill=\"#000000\" stroke=\"#000000\" points=\"1982.5001,-63.2484 1979,-53.2485 1975.5001,-63.2485 1982.5001,-63.2484\"/>\n</g>\n<!-- 44 -->\n<g id=\"node45\" class=\"node\">\n<title>44</title>\n<path fill=\"#e88f4f\" stroke=\"#000000\" d=\"M2139,-53C2139,-53 2059,-53 2059,-53 2053,-53 2047,-47 2047,-41 2047,-41 2047,-12 2047,-12 2047,-6 2053,0 2059,0 2059,0 2139,0 2139,0 2145,0 2151,-6 2151,-12 2151,-12 2151,-41 2151,-41 2151,-47 2145,-53 2139,-53\"/>\n<text text-anchor=\"start\" x=\"2065.5\" y=\"-37.8\" font-family=\"Helvetica,sans-Serif\" font-size=\"14.00\" fill=\"#000000\">gini = 0.18</text>\n<text text-anchor=\"start\" x=\"2055\" y=\"-22.8\" font-family=\"Helvetica,sans-Serif\" font-size=\"14.00\" fill=\"#000000\">samples = 10</text>\n<text text-anchor=\"start\" x=\"2057.5\" y=\"-7.8\" font-family=\"Helvetica,sans-Serif\" font-size=\"14.00\" fill=\"#000000\">value = [9, 1]</text>\n</g>\n<!-- 42&#45;&gt;44 -->\n<g id=\"edge44\" class=\"edge\">\n<title>42&#45;&gt;44</title>\n<path fill=\"none\" stroke=\"#000000\" d=\"M2021.3075,-88.9777C2033.1499,-79.4545 2046.0021,-69.1191 2057.7805,-59.6473\"/>\n<polygon fill=\"#000000\" stroke=\"#000000\" points=\"2060.1382,-62.2427 2065.7376,-53.2485 2055.7514,-56.7877 2060.1382,-62.2427\"/>\n</g>\n</g>\n</svg>\n"
          },
          "metadata": {
            "tags": []
          },
          "execution_count": 599
        }
      ]
    },
    {
      "cell_type": "markdown",
      "metadata": {
        "id": "kdrnL5qdCADi"
      },
      "source": [
        "**Q4. Five-Fold Cross Validation**"
      ]
    },
    {
      "cell_type": "code",
      "metadata": {
        "colab": {
          "base_uri": "https://localhost:8080/"
        },
        "id": "Z4grnRAQp4-6",
        "outputId": "7dcafb25-2bfa-4066-d73a-54844efd431b"
      },
      "source": [
        "five_fold_val = round(np.mean(cross_val_score(d_tree, x_train, y_train,cv=5)) * 100, 2)\n",
        "five_fold_val"
      ],
      "execution_count": 600,
      "outputs": [
        {
          "output_type": "execute_result",
          "data": {
            "text/plain": [
              "79.57"
            ]
          },
          "metadata": {
            "tags": []
          },
          "execution_count": 600
        }
      ]
    },
    {
      "cell_type": "code",
      "metadata": {
        "colab": {
          "base_uri": "https://localhost:8080/"
        },
        "id": "p7Fm4pUDqWQI",
        "outputId": "bc78a933-00e6-44e6-88e7-b19db97d6c70"
      },
      "source": [
        "np.random.seed(42)\n",
        "r_f = RandomForestClassifier(n_estimators=100)\n",
        "r_f.fit(x_train, y_train)\n",
        "y_pred = r_f.predict(x_test)\n",
        "r_f.score(x_train, y_train)\n",
        "a_r_f = round(r_f.score(x_train, y_train) * 100, 2)\n",
        "a_r_f"
      ],
      "execution_count": 601,
      "outputs": [
        {
          "output_type": "execute_result",
          "data": {
            "text/plain": [
              "82.49"
            ]
          },
          "metadata": {
            "tags": []
          },
          "execution_count": 601
        }
      ]
    },
    {
      "cell_type": "code",
      "metadata": {
        "colab": {
          "base_uri": "https://localhost:8080/"
        },
        "id": "j0xzxy6r80g_",
        "outputId": "765be1cc-82fa-43cb-9363-06964004de33"
      },
      "source": [
        "five_val = np.mean(cross_val_score(r_f, x_train, y_train, cv=5))\n",
        "five_val = round(five_val * 100, 2)\n",
        "five_val"
      ],
      "execution_count": 602,
      "outputs": [
        {
          "output_type": "execute_result",
          "data": {
            "text/plain": [
              "79.68"
            ]
          },
          "metadata": {
            "tags": []
          },
          "execution_count": 602
        }
      ]
    },
    {
      "cell_type": "code",
      "metadata": {
        "colab": {
          "base_uri": "https://localhost:8080/",
          "height": 111
        },
        "id": "6s2P9yslEid2",
        "outputId": "e37dd233-0ecf-495a-86a6-858244cdba49"
      },
      "source": [
        "m = pd.DataFrame({\n",
        "    'Models': ['Random Forest','Decision Tree'],\n",
        "    'Scores': [ a_r_f, fi_d_tree]})\n",
        "m.sort_values(by='Scores', ascending=False)"
      ],
      "execution_count": 603,
      "outputs": [
        {
          "output_type": "execute_result",
          "data": {
            "text/html": [
              "<div>\n",
              "<style scoped>\n",
              "    .dataframe tbody tr th:only-of-type {\n",
              "        vertical-align: middle;\n",
              "    }\n",
              "\n",
              "    .dataframe tbody tr th {\n",
              "        vertical-align: top;\n",
              "    }\n",
              "\n",
              "    .dataframe thead th {\n",
              "        text-align: right;\n",
              "    }\n",
              "</style>\n",
              "<table border=\"1\" class=\"dataframe\">\n",
              "  <thead>\n",
              "    <tr style=\"text-align: right;\">\n",
              "      <th></th>\n",
              "      <th>Models</th>\n",
              "      <th>Scores</th>\n",
              "    </tr>\n",
              "  </thead>\n",
              "  <tbody>\n",
              "    <tr>\n",
              "      <th>0</th>\n",
              "      <td>Random Forest</td>\n",
              "      <td>82.49</td>\n",
              "    </tr>\n",
              "    <tr>\n",
              "      <th>1</th>\n",
              "      <td>Decision Tree</td>\n",
              "      <td>82.27</td>\n",
              "    </tr>\n",
              "  </tbody>\n",
              "</table>\n",
              "</div>"
            ],
            "text/plain": [
              "          Models  Scores\n",
              "0  Random Forest   82.49\n",
              "1  Decision Tree   82.27"
            ]
          },
          "metadata": {
            "tags": []
          },
          "execution_count": 603
        }
      ]
    }
  ]
}