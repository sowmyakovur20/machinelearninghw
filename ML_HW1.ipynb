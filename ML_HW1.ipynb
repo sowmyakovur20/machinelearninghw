{
  "nbformat": 4,
  "nbformat_minor": 0,
  "metadata": {
    "colab": {
      "name": "ML-HW1.ipynb",
      "provenance": []
    },
    "kernelspec": {
      "name": "python3",
      "display_name": "Python 3"
    }
  },
  "cells": [
    {
      "cell_type": "code",
      "metadata": {
        "id": "5_NCxJ1lY2Q6"
      },
      "source": [
        "import pandas as pd\n",
        "import numpy as np\n",
        "import matplotlib.pyplot as plt\n",
        "from sklearn.preprocessing import LabelEncoder;\n",
        "import seaborn as sns;"
      ],
      "execution_count": 1308,
      "outputs": []
    },
    {
      "cell_type": "code",
      "metadata": {
        "id": "qlPB23NXZKFa"
      },
      "source": [
        "train_df = pd.read_csv('/content/drive/MyDrive/Titanic/train.csv')\n",
        "test_df = pd.read_csv('/content/drive/MyDrive/Titanic/test.csv')"
      ],
      "execution_count": 1309,
      "outputs": []
    },
    {
      "cell_type": "markdown",
      "metadata": {
        "id": "lRUJsiTNYK5G"
      },
      "source": [
        "# **Q1**"
      ]
    },
    {
      "cell_type": "code",
      "metadata": {
        "colab": {
          "base_uri": "https://localhost:8080/"
        },
        "id": "22SDCradYR8H",
        "outputId": "7c0b21c9-e1ca-414e-af13-a73bba87bd4a"
      },
      "source": [
        "list(train_df)"
      ],
      "execution_count": 1310,
      "outputs": [
        {
          "output_type": "execute_result",
          "data": {
            "text/plain": [
              "['PassengerId',\n",
              " 'Survived',\n",
              " 'Pclass',\n",
              " 'Name',\n",
              " 'Sex',\n",
              " 'Age',\n",
              " 'SibSp',\n",
              " 'Parch',\n",
              " 'Ticket',\n",
              " 'Fare',\n",
              " 'Cabin',\n",
              " 'Embarked']"
            ]
          },
          "metadata": {
            "tags": []
          },
          "execution_count": 1310
        }
      ]
    },
    {
      "cell_type": "markdown",
      "metadata": {
        "id": "n4ALK_rkZsMs"
      },
      "source": [
        "# **Q3**"
      ]
    },
    {
      "cell_type": "code",
      "metadata": {
        "colab": {
          "base_uri": "https://localhost:8080/",
          "height": 419
        },
        "id": "2jGB56H1Zwdi",
        "outputId": "92780083-156b-4eb4-f057-622fa64f87eb"
      },
      "source": [
        "train_df._get_numeric_data()"
      ],
      "execution_count": 1311,
      "outputs": [
        {
          "output_type": "execute_result",
          "data": {
            "text/html": [
              "<div>\n",
              "<style scoped>\n",
              "    .dataframe tbody tr th:only-of-type {\n",
              "        vertical-align: middle;\n",
              "    }\n",
              "\n",
              "    .dataframe tbody tr th {\n",
              "        vertical-align: top;\n",
              "    }\n",
              "\n",
              "    .dataframe thead th {\n",
              "        text-align: right;\n",
              "    }\n",
              "</style>\n",
              "<table border=\"1\" class=\"dataframe\">\n",
              "  <thead>\n",
              "    <tr style=\"text-align: right;\">\n",
              "      <th></th>\n",
              "      <th>PassengerId</th>\n",
              "      <th>Survived</th>\n",
              "      <th>Pclass</th>\n",
              "      <th>Age</th>\n",
              "      <th>SibSp</th>\n",
              "      <th>Parch</th>\n",
              "      <th>Fare</th>\n",
              "    </tr>\n",
              "  </thead>\n",
              "  <tbody>\n",
              "    <tr>\n",
              "      <th>0</th>\n",
              "      <td>1</td>\n",
              "      <td>0</td>\n",
              "      <td>3</td>\n",
              "      <td>22.0</td>\n",
              "      <td>1</td>\n",
              "      <td>0</td>\n",
              "      <td>7.2500</td>\n",
              "    </tr>\n",
              "    <tr>\n",
              "      <th>1</th>\n",
              "      <td>2</td>\n",
              "      <td>1</td>\n",
              "      <td>1</td>\n",
              "      <td>38.0</td>\n",
              "      <td>1</td>\n",
              "      <td>0</td>\n",
              "      <td>71.2833</td>\n",
              "    </tr>\n",
              "    <tr>\n",
              "      <th>2</th>\n",
              "      <td>3</td>\n",
              "      <td>1</td>\n",
              "      <td>3</td>\n",
              "      <td>26.0</td>\n",
              "      <td>0</td>\n",
              "      <td>0</td>\n",
              "      <td>7.9250</td>\n",
              "    </tr>\n",
              "    <tr>\n",
              "      <th>3</th>\n",
              "      <td>4</td>\n",
              "      <td>1</td>\n",
              "      <td>1</td>\n",
              "      <td>35.0</td>\n",
              "      <td>1</td>\n",
              "      <td>0</td>\n",
              "      <td>53.1000</td>\n",
              "    </tr>\n",
              "    <tr>\n",
              "      <th>4</th>\n",
              "      <td>5</td>\n",
              "      <td>0</td>\n",
              "      <td>3</td>\n",
              "      <td>35.0</td>\n",
              "      <td>0</td>\n",
              "      <td>0</td>\n",
              "      <td>8.0500</td>\n",
              "    </tr>\n",
              "    <tr>\n",
              "      <th>...</th>\n",
              "      <td>...</td>\n",
              "      <td>...</td>\n",
              "      <td>...</td>\n",
              "      <td>...</td>\n",
              "      <td>...</td>\n",
              "      <td>...</td>\n",
              "      <td>...</td>\n",
              "    </tr>\n",
              "    <tr>\n",
              "      <th>886</th>\n",
              "      <td>887</td>\n",
              "      <td>0</td>\n",
              "      <td>2</td>\n",
              "      <td>27.0</td>\n",
              "      <td>0</td>\n",
              "      <td>0</td>\n",
              "      <td>13.0000</td>\n",
              "    </tr>\n",
              "    <tr>\n",
              "      <th>887</th>\n",
              "      <td>888</td>\n",
              "      <td>1</td>\n",
              "      <td>1</td>\n",
              "      <td>19.0</td>\n",
              "      <td>0</td>\n",
              "      <td>0</td>\n",
              "      <td>30.0000</td>\n",
              "    </tr>\n",
              "    <tr>\n",
              "      <th>888</th>\n",
              "      <td>889</td>\n",
              "      <td>0</td>\n",
              "      <td>3</td>\n",
              "      <td>NaN</td>\n",
              "      <td>1</td>\n",
              "      <td>2</td>\n",
              "      <td>23.4500</td>\n",
              "    </tr>\n",
              "    <tr>\n",
              "      <th>889</th>\n",
              "      <td>890</td>\n",
              "      <td>1</td>\n",
              "      <td>1</td>\n",
              "      <td>26.0</td>\n",
              "      <td>0</td>\n",
              "      <td>0</td>\n",
              "      <td>30.0000</td>\n",
              "    </tr>\n",
              "    <tr>\n",
              "      <th>890</th>\n",
              "      <td>891</td>\n",
              "      <td>0</td>\n",
              "      <td>3</td>\n",
              "      <td>32.0</td>\n",
              "      <td>0</td>\n",
              "      <td>0</td>\n",
              "      <td>7.7500</td>\n",
              "    </tr>\n",
              "  </tbody>\n",
              "</table>\n",
              "<p>891 rows × 7 columns</p>\n",
              "</div>"
            ],
            "text/plain": [
              "     PassengerId  Survived  Pclass   Age  SibSp  Parch     Fare\n",
              "0              1         0       3  22.0      1      0   7.2500\n",
              "1              2         1       1  38.0      1      0  71.2833\n",
              "2              3         1       3  26.0      0      0   7.9250\n",
              "3              4         1       1  35.0      1      0  53.1000\n",
              "4              5         0       3  35.0      0      0   8.0500\n",
              "..           ...       ...     ...   ...    ...    ...      ...\n",
              "886          887         0       2  27.0      0      0  13.0000\n",
              "887          888         1       1  19.0      0      0  30.0000\n",
              "888          889         0       3   NaN      1      2  23.4500\n",
              "889          890         1       1  26.0      0      0  30.0000\n",
              "890          891         0       3  32.0      0      0   7.7500\n",
              "\n",
              "[891 rows x 7 columns]"
            ]
          },
          "metadata": {
            "tags": []
          },
          "execution_count": 1311
        }
      ]
    },
    {
      "cell_type": "markdown",
      "metadata": {
        "id": "nPWEKBC_apF5"
      },
      "source": [
        "# **Q4**"
      ]
    },
    {
      "cell_type": "code",
      "metadata": {
        "colab": {
          "base_uri": "https://localhost:8080/"
        },
        "id": "9uF62B1AasdO",
        "outputId": "a55c1fea-f944-4368-8fa9-bcd9b4ae1f77"
      },
      "source": [
        "train_df.dtypes"
      ],
      "execution_count": 1312,
      "outputs": [
        {
          "output_type": "execute_result",
          "data": {
            "text/plain": [
              "PassengerId      int64\n",
              "Survived         int64\n",
              "Pclass           int64\n",
              "Name            object\n",
              "Sex             object\n",
              "Age            float64\n",
              "SibSp            int64\n",
              "Parch            int64\n",
              "Ticket          object\n",
              "Fare           float64\n",
              "Cabin           object\n",
              "Embarked        object\n",
              "dtype: object"
            ]
          },
          "metadata": {
            "tags": []
          },
          "execution_count": 1312
        }
      ]
    },
    {
      "cell_type": "markdown",
      "metadata": {
        "id": "iMgqd_VTbnD2"
      },
      "source": [
        "# **OR**\n",
        "\n",
        "\n",
        "\n"
      ]
    },
    {
      "cell_type": "code",
      "metadata": {
        "colab": {
          "base_uri": "https://localhost:8080/"
        },
        "id": "irgeuwUrbo_y",
        "outputId": "4faf9149-d521-4f52-9a99-40f2c3a32974"
      },
      "source": [
        "train_df.info()"
      ],
      "execution_count": 1313,
      "outputs": [
        {
          "output_type": "stream",
          "text": [
            "<class 'pandas.core.frame.DataFrame'>\n",
            "RangeIndex: 891 entries, 0 to 890\n",
            "Data columns (total 12 columns):\n",
            " #   Column       Non-Null Count  Dtype  \n",
            "---  ------       --------------  -----  \n",
            " 0   PassengerId  891 non-null    int64  \n",
            " 1   Survived     891 non-null    int64  \n",
            " 2   Pclass       891 non-null    int64  \n",
            " 3   Name         891 non-null    object \n",
            " 4   Sex          891 non-null    object \n",
            " 5   Age          714 non-null    float64\n",
            " 6   SibSp        891 non-null    int64  \n",
            " 7   Parch        891 non-null    int64  \n",
            " 8   Ticket       891 non-null    object \n",
            " 9   Fare         891 non-null    float64\n",
            " 10  Cabin        204 non-null    object \n",
            " 11  Embarked     889 non-null    object \n",
            "dtypes: float64(2), int64(5), object(5)\n",
            "memory usage: 83.7+ KB\n"
          ],
          "name": "stdout"
        }
      ]
    },
    {
      "cell_type": "markdown",
      "metadata": {
        "id": "G-p2N14qcDNl"
      },
      "source": [
        "# **Q5**\n",
        "Training Set"
      ]
    },
    {
      "cell_type": "code",
      "metadata": {
        "colab": {
          "base_uri": "https://localhost:8080/"
        },
        "id": "wkof3hJicGiZ",
        "outputId": "305afb89-8797-4464-b113-9f3023b275b5"
      },
      "source": [
        "train_df.isnull().sum()"
      ],
      "execution_count": 1314,
      "outputs": [
        {
          "output_type": "execute_result",
          "data": {
            "text/plain": [
              "PassengerId      0\n",
              "Survived         0\n",
              "Pclass           0\n",
              "Name             0\n",
              "Sex              0\n",
              "Age            177\n",
              "SibSp            0\n",
              "Parch            0\n",
              "Ticket           0\n",
              "Fare             0\n",
              "Cabin          687\n",
              "Embarked         2\n",
              "dtype: int64"
            ]
          },
          "metadata": {
            "tags": []
          },
          "execution_count": 1314
        }
      ]
    },
    {
      "cell_type": "markdown",
      "metadata": {
        "id": "JvANgzyEcMU9"
      },
      "source": [
        "Test Set"
      ]
    },
    {
      "cell_type": "code",
      "metadata": {
        "colab": {
          "base_uri": "https://localhost:8080/"
        },
        "id": "UcTvulb_cOvZ",
        "outputId": "ddc6b5e1-b341-4457-db25-532fc0a428c3"
      },
      "source": [
        "test_df.isnull().sum()"
      ],
      "execution_count": 1315,
      "outputs": [
        {
          "output_type": "execute_result",
          "data": {
            "text/plain": [
              "PassengerId      0\n",
              "Pclass           0\n",
              "Name             0\n",
              "Sex              0\n",
              "Age             86\n",
              "SibSp            0\n",
              "Parch            0\n",
              "Ticket           0\n",
              "Fare             1\n",
              "Cabin          327\n",
              "Embarked         0\n",
              "dtype: int64"
            ]
          },
          "metadata": {
            "tags": []
          },
          "execution_count": 1315
        }
      ]
    },
    {
      "cell_type": "markdown",
      "metadata": {
        "id": "enUCw7tJc1nR"
      },
      "source": [
        "# **Q6**"
      ]
    },
    {
      "cell_type": "code",
      "metadata": {
        "colab": {
          "base_uri": "https://localhost:8080/"
        },
        "id": "ednY8xhkc60f",
        "outputId": "d75dfc7e-2aa2-4a79-9274-f086124e427f"
      },
      "source": [
        "train_df.dtypes"
      ],
      "execution_count": 1316,
      "outputs": [
        {
          "output_type": "execute_result",
          "data": {
            "text/plain": [
              "PassengerId      int64\n",
              "Survived         int64\n",
              "Pclass           int64\n",
              "Name            object\n",
              "Sex             object\n",
              "Age            float64\n",
              "SibSp            int64\n",
              "Parch            int64\n",
              "Ticket          object\n",
              "Fare           float64\n",
              "Cabin           object\n",
              "Embarked        object\n",
              "dtype: object"
            ]
          },
          "metadata": {
            "tags": []
          },
          "execution_count": 1316
        }
      ]
    },
    {
      "cell_type": "markdown",
      "metadata": {
        "id": "ihU--x3PdB6H"
      },
      "source": [
        "# **Q7**"
      ]
    },
    {
      "cell_type": "code",
      "metadata": {
        "colab": {
          "base_uri": "https://localhost:8080/",
          "height": 297
        },
        "id": "mC2jAbHbdG1q",
        "outputId": "0c46baa0-3367-4ff5-a1fb-fafd5bc77c07"
      },
      "source": [
        "train_df.describe()"
      ],
      "execution_count": 1317,
      "outputs": [
        {
          "output_type": "execute_result",
          "data": {
            "text/html": [
              "<div>\n",
              "<style scoped>\n",
              "    .dataframe tbody tr th:only-of-type {\n",
              "        vertical-align: middle;\n",
              "    }\n",
              "\n",
              "    .dataframe tbody tr th {\n",
              "        vertical-align: top;\n",
              "    }\n",
              "\n",
              "    .dataframe thead th {\n",
              "        text-align: right;\n",
              "    }\n",
              "</style>\n",
              "<table border=\"1\" class=\"dataframe\">\n",
              "  <thead>\n",
              "    <tr style=\"text-align: right;\">\n",
              "      <th></th>\n",
              "      <th>PassengerId</th>\n",
              "      <th>Survived</th>\n",
              "      <th>Pclass</th>\n",
              "      <th>Age</th>\n",
              "      <th>SibSp</th>\n",
              "      <th>Parch</th>\n",
              "      <th>Fare</th>\n",
              "    </tr>\n",
              "  </thead>\n",
              "  <tbody>\n",
              "    <tr>\n",
              "      <th>count</th>\n",
              "      <td>891.000000</td>\n",
              "      <td>891.000000</td>\n",
              "      <td>891.000000</td>\n",
              "      <td>714.000000</td>\n",
              "      <td>891.000000</td>\n",
              "      <td>891.000000</td>\n",
              "      <td>891.000000</td>\n",
              "    </tr>\n",
              "    <tr>\n",
              "      <th>mean</th>\n",
              "      <td>446.000000</td>\n",
              "      <td>0.383838</td>\n",
              "      <td>2.308642</td>\n",
              "      <td>29.699118</td>\n",
              "      <td>0.523008</td>\n",
              "      <td>0.381594</td>\n",
              "      <td>32.204208</td>\n",
              "    </tr>\n",
              "    <tr>\n",
              "      <th>std</th>\n",
              "      <td>257.353842</td>\n",
              "      <td>0.486592</td>\n",
              "      <td>0.836071</td>\n",
              "      <td>14.526497</td>\n",
              "      <td>1.102743</td>\n",
              "      <td>0.806057</td>\n",
              "      <td>49.693429</td>\n",
              "    </tr>\n",
              "    <tr>\n",
              "      <th>min</th>\n",
              "      <td>1.000000</td>\n",
              "      <td>0.000000</td>\n",
              "      <td>1.000000</td>\n",
              "      <td>0.420000</td>\n",
              "      <td>0.000000</td>\n",
              "      <td>0.000000</td>\n",
              "      <td>0.000000</td>\n",
              "    </tr>\n",
              "    <tr>\n",
              "      <th>25%</th>\n",
              "      <td>223.500000</td>\n",
              "      <td>0.000000</td>\n",
              "      <td>2.000000</td>\n",
              "      <td>20.125000</td>\n",
              "      <td>0.000000</td>\n",
              "      <td>0.000000</td>\n",
              "      <td>7.910400</td>\n",
              "    </tr>\n",
              "    <tr>\n",
              "      <th>50%</th>\n",
              "      <td>446.000000</td>\n",
              "      <td>0.000000</td>\n",
              "      <td>3.000000</td>\n",
              "      <td>28.000000</td>\n",
              "      <td>0.000000</td>\n",
              "      <td>0.000000</td>\n",
              "      <td>14.454200</td>\n",
              "    </tr>\n",
              "    <tr>\n",
              "      <th>75%</th>\n",
              "      <td>668.500000</td>\n",
              "      <td>1.000000</td>\n",
              "      <td>3.000000</td>\n",
              "      <td>38.000000</td>\n",
              "      <td>1.000000</td>\n",
              "      <td>0.000000</td>\n",
              "      <td>31.000000</td>\n",
              "    </tr>\n",
              "    <tr>\n",
              "      <th>max</th>\n",
              "      <td>891.000000</td>\n",
              "      <td>1.000000</td>\n",
              "      <td>3.000000</td>\n",
              "      <td>80.000000</td>\n",
              "      <td>8.000000</td>\n",
              "      <td>6.000000</td>\n",
              "      <td>512.329200</td>\n",
              "    </tr>\n",
              "  </tbody>\n",
              "</table>\n",
              "</div>"
            ],
            "text/plain": [
              "       PassengerId    Survived      Pclass  ...       SibSp       Parch        Fare\n",
              "count   891.000000  891.000000  891.000000  ...  891.000000  891.000000  891.000000\n",
              "mean    446.000000    0.383838    2.308642  ...    0.523008    0.381594   32.204208\n",
              "std     257.353842    0.486592    0.836071  ...    1.102743    0.806057   49.693429\n",
              "min       1.000000    0.000000    1.000000  ...    0.000000    0.000000    0.000000\n",
              "25%     223.500000    0.000000    2.000000  ...    0.000000    0.000000    7.910400\n",
              "50%     446.000000    0.000000    3.000000  ...    0.000000    0.000000   14.454200\n",
              "75%     668.500000    1.000000    3.000000  ...    1.000000    0.000000   31.000000\n",
              "max     891.000000    1.000000    3.000000  ...    8.000000    6.000000  512.329200\n",
              "\n",
              "[8 rows x 7 columns]"
            ]
          },
          "metadata": {
            "tags": []
          },
          "execution_count": 1317
        }
      ]
    },
    {
      "cell_type": "markdown",
      "metadata": {
        "id": "fxS3taBvdSeL"
      },
      "source": [
        "# **Q8**"
      ]
    },
    {
      "cell_type": "markdown",
      "metadata": {
        "id": "tAoKvQAgWEmW"
      },
      "source": [
        "***Pclass***"
      ]
    },
    {
      "cell_type": "code",
      "metadata": {
        "colab": {
          "base_uri": "https://localhost:8080/"
        },
        "id": "G5SzcMWzUT8M",
        "outputId": "08d673ca-ad1a-496d-82d6-6cac34060964"
      },
      "source": [
        "train_df.Pclass.value_counts()"
      ],
      "execution_count": 1318,
      "outputs": [
        {
          "output_type": "execute_result",
          "data": {
            "text/plain": [
              "3    491\n",
              "1    216\n",
              "2    184\n",
              "Name: Pclass, dtype: int64"
            ]
          },
          "metadata": {
            "tags": []
          },
          "execution_count": 1318
        }
      ]
    },
    {
      "cell_type": "code",
      "metadata": {
        "colab": {
          "base_uri": "https://localhost:8080/"
        },
        "id": "zahae505Ud3o",
        "outputId": "868102ec-f1bb-4197-b117-2e8afb89b877"
      },
      "source": [
        "train_df.Pclass.nunique()"
      ],
      "execution_count": 1319,
      "outputs": [
        {
          "output_type": "execute_result",
          "data": {
            "text/plain": [
              "3"
            ]
          },
          "metadata": {
            "tags": []
          },
          "execution_count": 1319
        }
      ]
    },
    {
      "cell_type": "code",
      "metadata": {
        "colab": {
          "base_uri": "https://localhost:8080/"
        },
        "id": "vQm6anX3VFju",
        "outputId": "28388b7e-9f4c-43ed-9ca3-ea20da49f6f3"
      },
      "source": [
        "train_df['Pclass'].mode()[0]"
      ],
      "execution_count": 1320,
      "outputs": [
        {
          "output_type": "execute_result",
          "data": {
            "text/plain": [
              "3"
            ]
          },
          "metadata": {
            "tags": []
          },
          "execution_count": 1320
        }
      ]
    },
    {
      "cell_type": "code",
      "metadata": {
        "colab": {
          "base_uri": "https://localhost:8080/"
        },
        "id": "85GCpUsqVgM2",
        "outputId": "bbf9baf7-75c0-4445-b525-24d6d7d84e69"
      },
      "source": [
        "train_df.Pclass.value_counts().max()"
      ],
      "execution_count": 1321,
      "outputs": [
        {
          "output_type": "execute_result",
          "data": {
            "text/plain": [
              "491"
            ]
          },
          "metadata": {
            "tags": []
          },
          "execution_count": 1321
        }
      ]
    },
    {
      "cell_type": "markdown",
      "metadata": {
        "id": "1csFA069WHsU"
      },
      "source": [
        "***Sex***"
      ]
    },
    {
      "cell_type": "code",
      "metadata": {
        "colab": {
          "base_uri": "https://localhost:8080/"
        },
        "id": "kHgA4b6iWNga",
        "outputId": "588bee11-013b-4ea6-c6c0-4c43347eb8d2"
      },
      "source": [
        "train_df.Sex.value_counts()"
      ],
      "execution_count": 1322,
      "outputs": [
        {
          "output_type": "execute_result",
          "data": {
            "text/plain": [
              "male      577\n",
              "female    314\n",
              "Name: Sex, dtype: int64"
            ]
          },
          "metadata": {
            "tags": []
          },
          "execution_count": 1322
        }
      ]
    },
    {
      "cell_type": "code",
      "metadata": {
        "colab": {
          "base_uri": "https://localhost:8080/"
        },
        "id": "TxdfhGrJWpSc",
        "outputId": "b00642b9-2d3e-486b-9710-a08d7885058b"
      },
      "source": [
        "train_df.Sex.nunique()"
      ],
      "execution_count": 1323,
      "outputs": [
        {
          "output_type": "execute_result",
          "data": {
            "text/plain": [
              "2"
            ]
          },
          "metadata": {
            "tags": []
          },
          "execution_count": 1323
        }
      ]
    },
    {
      "cell_type": "code",
      "metadata": {
        "colab": {
          "base_uri": "https://localhost:8080/",
          "height": 35
        },
        "id": "hp4gba4XWvb0",
        "outputId": "4f1d0c65-4077-442c-b8e5-d140d6439463"
      },
      "source": [
        "train_df['Sex'].mode()[0]"
      ],
      "execution_count": 1324,
      "outputs": [
        {
          "output_type": "execute_result",
          "data": {
            "application/vnd.google.colaboratory.intrinsic+json": {
              "type": "string"
            },
            "text/plain": [
              "'male'"
            ]
          },
          "metadata": {
            "tags": []
          },
          "execution_count": 1324
        }
      ]
    },
    {
      "cell_type": "code",
      "metadata": {
        "colab": {
          "base_uri": "https://localhost:8080/"
        },
        "id": "reE4JBiXW4zm",
        "outputId": "00912690-da44-41c7-825b-cd9158db8a57"
      },
      "source": [
        "train_df.Sex.value_counts().max()"
      ],
      "execution_count": 1325,
      "outputs": [
        {
          "output_type": "execute_result",
          "data": {
            "text/plain": [
              "577"
            ]
          },
          "metadata": {
            "tags": []
          },
          "execution_count": 1325
        }
      ]
    },
    {
      "cell_type": "markdown",
      "metadata": {
        "id": "kxCVY6uCgK2v"
      },
      "source": [
        "***Embarked***"
      ]
    },
    {
      "cell_type": "code",
      "metadata": {
        "colab": {
          "base_uri": "https://localhost:8080/"
        },
        "id": "7IU7mNsTgN10",
        "outputId": "d204e975-68ce-4ba8-8a12-75933a12da04"
      },
      "source": [
        "train_df.Embarked.value_counts()"
      ],
      "execution_count": 1326,
      "outputs": [
        {
          "output_type": "execute_result",
          "data": {
            "text/plain": [
              "S    644\n",
              "C    168\n",
              "Q     77\n",
              "Name: Embarked, dtype: int64"
            ]
          },
          "metadata": {
            "tags": []
          },
          "execution_count": 1326
        }
      ]
    },
    {
      "cell_type": "code",
      "metadata": {
        "colab": {
          "base_uri": "https://localhost:8080/"
        },
        "id": "Pc7bF5JOgUjV",
        "outputId": "7e6c437d-f796-4245-e15a-e3f8b63f963f"
      },
      "source": [
        "train_df.Embarked.nunique()"
      ],
      "execution_count": 1327,
      "outputs": [
        {
          "output_type": "execute_result",
          "data": {
            "text/plain": [
              "3"
            ]
          },
          "metadata": {
            "tags": []
          },
          "execution_count": 1327
        }
      ]
    },
    {
      "cell_type": "code",
      "metadata": {
        "colab": {
          "base_uri": "https://localhost:8080/",
          "height": 35
        },
        "id": "CuOsgWxDgYSF",
        "outputId": "f27d8e27-5463-4fa0-a285-e991bd387d00"
      },
      "source": [
        "train_df['Embarked'].mode()[0]"
      ],
      "execution_count": 1328,
      "outputs": [
        {
          "output_type": "execute_result",
          "data": {
            "application/vnd.google.colaboratory.intrinsic+json": {
              "type": "string"
            },
            "text/plain": [
              "'S'"
            ]
          },
          "metadata": {
            "tags": []
          },
          "execution_count": 1328
        }
      ]
    },
    {
      "cell_type": "code",
      "metadata": {
        "colab": {
          "base_uri": "https://localhost:8080/"
        },
        "id": "cbqAnh9ugbeK",
        "outputId": "00327f02-e678-4aa3-a912-006531697efa"
      },
      "source": [
        "train_df.Embarked.value_counts().max()"
      ],
      "execution_count": 1329,
      "outputs": [
        {
          "output_type": "execute_result",
          "data": {
            "text/plain": [
              "644"
            ]
          },
          "metadata": {
            "tags": []
          },
          "execution_count": 1329
        }
      ]
    },
    {
      "cell_type": "markdown",
      "metadata": {
        "id": "wgXgOWWJ_Po2"
      },
      "source": [
        "***Survived***"
      ]
    },
    {
      "cell_type": "code",
      "metadata": {
        "colab": {
          "base_uri": "https://localhost:8080/"
        },
        "id": "2N-yGw7r_SxZ",
        "outputId": "4c43639a-580a-4433-cb7a-b59d8ff2fa02"
      },
      "source": [
        "train_df.Survived.value_counts()"
      ],
      "execution_count": 1330,
      "outputs": [
        {
          "output_type": "execute_result",
          "data": {
            "text/plain": [
              "0    549\n",
              "1    342\n",
              "Name: Survived, dtype: int64"
            ]
          },
          "metadata": {
            "tags": []
          },
          "execution_count": 1330
        }
      ]
    },
    {
      "cell_type": "code",
      "metadata": {
        "colab": {
          "base_uri": "https://localhost:8080/"
        },
        "id": "OitVB8jIAhim",
        "outputId": "089ece5e-794e-4d49-be92-3042a7ee6128"
      },
      "source": [
        "train_df.Survived.nunique()"
      ],
      "execution_count": 1331,
      "outputs": [
        {
          "output_type": "execute_result",
          "data": {
            "text/plain": [
              "2"
            ]
          },
          "metadata": {
            "tags": []
          },
          "execution_count": 1331
        }
      ]
    },
    {
      "cell_type": "code",
      "metadata": {
        "colab": {
          "base_uri": "https://localhost:8080/"
        },
        "id": "2jWRS3J3AooC",
        "outputId": "37cb1213-3c82-4628-bfba-485e1e63f56f"
      },
      "source": [
        "train_df['Survived'].mode()[0]"
      ],
      "execution_count": 1332,
      "outputs": [
        {
          "output_type": "execute_result",
          "data": {
            "text/plain": [
              "0"
            ]
          },
          "metadata": {
            "tags": []
          },
          "execution_count": 1332
        }
      ]
    },
    {
      "cell_type": "code",
      "metadata": {
        "colab": {
          "base_uri": "https://localhost:8080/"
        },
        "id": "57CZcsI0AtPO",
        "outputId": "6c7c3eaf-e19a-49d0-bf15-318c8e1749b8"
      },
      "source": [
        "train_df.Survived.value_counts().max()"
      ],
      "execution_count": 1333,
      "outputs": [
        {
          "output_type": "execute_result",
          "data": {
            "text/plain": [
              "549"
            ]
          },
          "metadata": {
            "tags": []
          },
          "execution_count": 1333
        }
      ]
    },
    {
      "cell_type": "markdown",
      "metadata": {
        "id": "RiqdYbTYeWf7"
      },
      "source": [
        "# **Q9**"
      ]
    },
    {
      "cell_type": "code",
      "metadata": {
        "colab": {
          "base_uri": "https://localhost:8080/",
          "height": 142
        },
        "id": "i0Q9te6LeYvm",
        "outputId": "adda4c91-c4e1-473f-fc2d-b15b8997a565"
      },
      "source": [
        "train_df[['Pclass','Survived']].groupby(by =['Pclass'], as_index=False).mean().sort_values(by=['Survived'], ascending=False)"
      ],
      "execution_count": 1334,
      "outputs": [
        {
          "output_type": "execute_result",
          "data": {
            "text/html": [
              "<div>\n",
              "<style scoped>\n",
              "    .dataframe tbody tr th:only-of-type {\n",
              "        vertical-align: middle;\n",
              "    }\n",
              "\n",
              "    .dataframe tbody tr th {\n",
              "        vertical-align: top;\n",
              "    }\n",
              "\n",
              "    .dataframe thead th {\n",
              "        text-align: right;\n",
              "    }\n",
              "</style>\n",
              "<table border=\"1\" class=\"dataframe\">\n",
              "  <thead>\n",
              "    <tr style=\"text-align: right;\">\n",
              "      <th></th>\n",
              "      <th>Pclass</th>\n",
              "      <th>Survived</th>\n",
              "    </tr>\n",
              "  </thead>\n",
              "  <tbody>\n",
              "    <tr>\n",
              "      <th>0</th>\n",
              "      <td>1</td>\n",
              "      <td>0.629630</td>\n",
              "    </tr>\n",
              "    <tr>\n",
              "      <th>1</th>\n",
              "      <td>2</td>\n",
              "      <td>0.472826</td>\n",
              "    </tr>\n",
              "    <tr>\n",
              "      <th>2</th>\n",
              "      <td>3</td>\n",
              "      <td>0.242363</td>\n",
              "    </tr>\n",
              "  </tbody>\n",
              "</table>\n",
              "</div>"
            ],
            "text/plain": [
              "   Pclass  Survived\n",
              "0       1  0.629630\n",
              "1       2  0.472826\n",
              "2       3  0.242363"
            ]
          },
          "metadata": {
            "tags": []
          },
          "execution_count": 1334
        }
      ]
    },
    {
      "cell_type": "markdown",
      "metadata": {
        "id": "qk58mkJbi7q6"
      },
      "source": [
        "# **Q10**"
      ]
    },
    {
      "cell_type": "code",
      "metadata": {
        "colab": {
          "base_uri": "https://localhost:8080/"
        },
        "id": "kMUFhZyXi94S",
        "outputId": "686d6b22-a096-4c4e-8c5f-6b7816ea6cf3"
      },
      "source": [
        "train_df.groupby('Sex')['Survived'].mean()"
      ],
      "execution_count": 1335,
      "outputs": [
        {
          "output_type": "execute_result",
          "data": {
            "text/plain": [
              "Sex\n",
              "female    0.742038\n",
              "male      0.188908\n",
              "Name: Survived, dtype: float64"
            ]
          },
          "metadata": {
            "tags": []
          },
          "execution_count": 1335
        }
      ]
    },
    {
      "cell_type": "markdown",
      "metadata": {
        "id": "EA7dWYujmL2F"
      },
      "source": [
        "# **Q11**"
      ]
    },
    {
      "cell_type": "code",
      "metadata": {
        "colab": {
          "base_uri": "https://localhost:8080/",
          "height": 307
        },
        "id": "rommxoFwmOWy",
        "outputId": "eb374ba9-7285-439d-e8a9-61e808a824f0"
      },
      "source": [
        "n,ax=plt.subplots(1,2,figsize=(20,5))\n",
        "train_df[train_df['Survived']==0].Age.plot.hist(ax=ax[0],bins=20,color='grey')\n",
        "ax[0].set_xticks(x1)\n",
        "ax[0].set_xlabel('Age')\n",
        "ax[0].set_title('Survived = 0')\n",
        "x1=list(range(0,85,5))\n",
        "train_df[train_df['Survived']==1].Age.plot.hist(ax=ax[1],bins=20,color='grey')\n",
        "ax[1].set_xticks(x2)\n",
        "ax[1].set_xlabel('Age')\n",
        "ax[1].set_title('Survived = 1')\n",
        "x2=list(range(0,85,5))"
      ],
      "execution_count": 1336,
      "outputs": [
        {
          "output_type": "display_data",
          "data": {
            "image/png": "[encoded data removed]",
            "text/plain": [
              "<Figure size 1440x360 with 2 Axes>"
            ]
          },
          "metadata": {
            "tags": [],
            "needs_background": "light"
          }
        }
      ]
    },
    {
      "cell_type": "markdown",
      "metadata": {
        "id": "n92OdJ-At1ne"
      },
      "source": [
        "***Do infants (Age <=4) have high survival rate?***"
      ]
    },
    {
      "cell_type": "code",
      "metadata": {
        "colab": {
          "base_uri": "https://localhost:8080/"
        },
        "id": "lFskkPMTrMKE",
        "outputId": "30a880ec-1e50-4ceb-c2eb-6efc490f9cb8"
      },
      "source": [
        "x=train_df.loc[(train_df['Age']<=4)]['Survived'].value_counts()\n",
        "print(x)\n",
        "print('Survival Rate for Age <=4 (Infants) is', x[1]/(x[0]+x[1]))"
      ],
      "execution_count": 1337,
      "outputs": [
        {
          "output_type": "stream",
          "text": [
            "1    27\n",
            "0    13\n",
            "Name: Survived, dtype: int64\n",
            "Survival Rate for Age <=4 (Infants) is 0.675\n"
          ],
          "name": "stdout"
        }
      ]
    },
    {
      "cell_type": "markdown",
      "metadata": {
        "id": "JtOLhJM3vset"
      },
      "source": [
        "***Do oldest passengers (Age = 80) survive?***"
      ]
    },
    {
      "cell_type": "code",
      "metadata": {
        "colab": {
          "base_uri": "https://localhost:8080/"
        },
        "id": "rMEJ2TJLt9eQ",
        "outputId": "8d0e0ac9-a17a-4e0f-96f2-cd7b077777ba"
      },
      "source": [
        "train_df.loc[(train_df['Age']==80)]['Survived'].value_counts()"
      ],
      "execution_count": 1338,
      "outputs": [
        {
          "output_type": "execute_result",
          "data": {
            "text/plain": [
              "1    1\n",
              "Name: Survived, dtype: int64"
            ]
          },
          "metadata": {
            "tags": []
          },
          "execution_count": 1338
        }
      ]
    },
    {
      "cell_type": "markdown",
      "metadata": {
        "id": "fFZMXjdbv1n8"
      },
      "source": [
        "***Do large numbers of 15-25 year olds not survive?***"
      ]
    },
    {
      "cell_type": "code",
      "metadata": {
        "colab": {
          "base_uri": "https://localhost:8080/"
        },
        "id": "LWd2zAPquJeN",
        "outputId": "3f7c8249-822c-4271-d806-31cedc548cf4"
      },
      "source": [
        "x = train_df.loc[(train_df['Age']>=15) & (train_df['Age']<=25)]['Survived'].value_counts()\n",
        "print(x)\n",
        "print('Survival Rate for 15 to 25 olds is', x[1]/(x[0]+x[1]))"
      ],
      "execution_count": 1339,
      "outputs": [
        {
          "output_type": "stream",
          "text": [
            "0    144\n",
            "1     79\n",
            "Name: Survived, dtype: int64\n",
            "Survival Rate for 15 to 25 olds is 0.3542600896860987\n"
          ],
          "name": "stdout"
        }
      ]
    },
    {
      "cell_type": "markdown",
      "metadata": {
        "id": "XUdSaWzIwBjh"
      },
      "source": [
        "# **Q12**"
      ]
    },
    {
      "cell_type": "code",
      "metadata": {
        "colab": {
          "base_uri": "https://localhost:8080/",
          "height": 542
        },
        "id": "ALdftVXQwxK2",
        "outputId": "65bb806b-83b4-4e55-bbb7-b99451fbd55d"
      },
      "source": [
        "n,ax=plt.subplots(3, 2, sharex='col', sharey='row',figsize=(20,10))\n",
        "train_df_filtered = train_df.loc[lambda train_df: train_df.Survived == 0].loc[lambda train_df: train_df.Pclass == 1]\n",
        "train_df_filtered.Age.plot.hist(ax=ax[0,0],bins=20,color='grey')\n",
        "ax[0,0].set_title('Pclass = 1 | Survived = 0')\n",
        "ax[0,0].set_xlabel('Age')\n",
        "ax[0,0].set_xticks(xa)\n",
        "xa=list(range(0,85,5))\n",
        "train_df_filtered = train_df.loc[lambda train_df: train_df.Survived == 1].loc[lambda train_df: train_df.Pclass == 1]\n",
        "train_df_filtered.Age.plot.hist(ax=ax[0,1],bins=20,color='grey')\n",
        "ax[0,1].set_title('Pclass = 1 | Survived= 1')\n",
        "ax[0,1].set_xlabel('Age')\n",
        "ax[0,1].set_xticks(xb)\n",
        "xb=list(range(0,85,5))\n",
        "train_df_filtered = train_df.loc[lambda train_df: train_df.Survived == 0].loc[lambda train_df: train_df.Pclass == 2]\n",
        "train_df_filtered.Age.plot.hist(ax=ax[1,0],bins=20,color='grey')\n",
        "ax[1,0].set_title('Pclass = 2 | Survived= 0')\n",
        "ax[1,0].set_xlabel('Age')\n",
        "ax[1,0].set_xticks(xc)\n",
        "xc=list(range(0,85,5))\n",
        "train_df_filtered = train_df.loc[lambda train_df: train_df.Survived == 1].loc[lambda train_df: train_df.Pclass == 2]\n",
        "train_df_filtered.Age.plot.hist(ax=ax[1,1],bins=20,color='grey')\n",
        "ax[1,1].set_title('Pclass = 2 | Survived= 1')\n",
        "ax[1,1].set_xlabel('Age')\n",
        "ax[1,1].set_xticks(xd)\n",
        "xd=list(range(0,85,5))\n",
        "train_df_filtered = train_df.loc[lambda train_df: train_df.Survived == 0].loc[lambda train_df: train_df.Pclass == 3]\n",
        "train_df_filtered.Age.plot.hist(ax=ax[2,0],bins=20,color='grey')\n",
        "ax[2,0].set_title('Pclass = 3 | Survived= 0')\n",
        "ax[2,0].set_xlabel('Age')\n",
        "ax[2,0].set_xticks(xe)\n",
        "xe=list(range(0,85,5))\n",
        "train_df_filtered = train_df.loc[lambda train_df: train_df.Survived == 1].loc[lambda train_df: train_df.Pclass == 3]\n",
        "train_df_filtered.Age.plot.hist(ax=ax[2,1],bins=20,color='grey')\n",
        "ax[2,1].set_title('Pclass = 3 | Survived= 1')\n",
        "ax[2,1].set_xlabel('Age')\n",
        "ax[2,1].set_xticks(xf) \n",
        "xf=list(range(0,85,5))\n",
        "plt.show()"
      ],
      "execution_count": 1340,
      "outputs": [
        {
          "output_type": "display_data",
          "data": {
            "image/png": "[encoded data removed]",
            "text/plain": [
              "<Figure size 1440x720 with 6 Axes>"
            ]
          },
          "metadata": {
            "tags": [],
            "needs_background": "light"
          }
        }
      ]
    },
    {
      "cell_type": "markdown",
      "metadata": {
        "id": "pAN6BK7o7omH"
      },
      "source": [
        "# **Q13**"
      ]
    },
    {
      "cell_type": "code",
      "metadata": {
        "colab": {
          "base_uri": "https://localhost:8080/",
          "height": 674
        },
        "id": "HxWpjhEG7q6f",
        "outputId": "0432e6ab-6d83-4787-a937-b12b2686811b"
      },
      "source": [
        "y = sns.FacetGrid(train_df, row='Embarked', col='Survived', height=3, aspect=1)\n",
        "y.map(sns.barplot, 'Sex', 'Fare',  ci=None, order=['female','male'], color='grey')\n",
        "y.add_legend()"
      ],
      "execution_count": 1341,
      "outputs": [
        {
          "output_type": "execute_result",
          "data": {
            "text/plain": [
              "<seaborn.axisgrid.FacetGrid at 0x7ff4a1bfbe48>"
            ]
          },
          "metadata": {
            "tags": []
          },
          "execution_count": 1341
        },
        {
          "output_type": "display_data",
          "data": {
            "image/png": "[encoded data removed]",
            "text/plain": [
              "<Figure size 440x648 with 6 Axes>"
            ]
          },
          "metadata": {
            "tags": [],
            "needs_background": "light"
          }
        }
      ]
    },
    {
      "cell_type": "markdown",
      "metadata": {
        "id": "5_5xI2Kj70ZX"
      },
      "source": [
        "# **Q14**"
      ]
    },
    {
      "cell_type": "code",
      "metadata": {
        "colab": {
          "base_uri": "https://localhost:8080/"
        },
        "id": "MnnGyCfG72p8",
        "outputId": "2125a455-ad84-400d-d127-00b991da153b"
      },
      "source": [
        "total_count = train_df['Ticket'].count()\n",
        "unique_ = train_df['Ticket'].nunique()\n",
        "duplicate_ = total_count - unique_\n",
        "duplicateRate = (duplicate_/total_count)*100\n",
        "print(duplicateRate)"
      ],
      "execution_count": 1342,
      "outputs": [
        {
          "output_type": "stream",
          "text": [
            "23.56902356902357\n"
          ],
          "name": "stdout"
        }
      ]
    },
    {
      "cell_type": "code",
      "metadata": {
        "id": "jB9d0DmE-XZz"
      },
      "source": [
        "train_df = train_df.drop(['Ticket'], axis=1)\n",
        "test_df = test_df.drop(['Ticket'], axis=1)"
      ],
      "execution_count": 1343,
      "outputs": []
    },
    {
      "cell_type": "markdown",
      "metadata": {
        "id": "GG1nugS38Tp8"
      },
      "source": [
        "# **Q15**"
      ]
    },
    {
      "cell_type": "code",
      "metadata": {
        "colab": {
          "base_uri": "https://localhost:8080/"
        },
        "id": "e8CNOUwX8Vjd",
        "outputId": "5041ca21-3ecc-42a8-ab24-6ed5feea4ea9"
      },
      "source": [
        "x=train_df['Cabin'].isnull().sum()\n",
        "print('Training data- Null values of Cabin feature :',x)\n",
        "y=test_df['Cabin'].isnull().sum()\n",
        "print('Test data- Null values of Cabin feature :',y)\n",
        "print('Train and Test data- Null values of Cabin feature :',x+y)"
      ],
      "execution_count": 1344,
      "outputs": [
        {
          "output_type": "stream",
          "text": [
            "Training data- Null values of Cabin feature : 687\n",
            "Test data- Null values of Cabin feature : 327\n",
            "Train and Test data- Null values of Cabin feature : 1014\n"
          ],
          "name": "stdout"
        }
      ]
    },
    {
      "cell_type": "code",
      "metadata": {
        "id": "0kqPknYS-ovq"
      },
      "source": [
        "train_df = train_df.drop(['Cabin'], axis=1)\n",
        "test_df = test_df.drop(['Cabin'], axis=1)"
      ],
      "execution_count": 1345,
      "outputs": []
    },
    {
      "cell_type": "markdown",
      "metadata": {
        "id": "5gGJWfOS_BuV"
      },
      "source": [
        "# **Q16**"
      ]
    },
    {
      "cell_type": "code",
      "metadata": {
        "colab": {
          "base_uri": "https://localhost:8080/",
          "height": 204
        },
        "id": "GW55NSi1_D2s",
        "outputId": "090ac15b-5dad-4d27-a0d6-5e4caf6254d2"
      },
      "source": [
        "train_df.replace(to_replace =\"male\",value = 0,inplace = True) \n",
        "train_df.replace(to_replace =\"female\",value = 1,inplace = True)\n",
        "train_df = train_df.rename(columns = {\"Sex\":\"Gender\"}) \n",
        "train_df.head()"
      ],
      "execution_count": 1346,
      "outputs": [
        {
          "output_type": "execute_result",
          "data": {
            "text/html": [
              "<div>\n",
              "<style scoped>\n",
              "    .dataframe tbody tr th:only-of-type {\n",
              "        vertical-align: middle;\n",
              "    }\n",
              "\n",
              "    .dataframe tbody tr th {\n",
              "        vertical-align: top;\n",
              "    }\n",
              "\n",
              "    .dataframe thead th {\n",
              "        text-align: right;\n",
              "    }\n",
              "</style>\n",
              "<table border=\"1\" class=\"dataframe\">\n",
              "  <thead>\n",
              "    <tr style=\"text-align: right;\">\n",
              "      <th></th>\n",
              "      <th>PassengerId</th>\n",
              "      <th>Survived</th>\n",
              "      <th>Pclass</th>\n",
              "      <th>Name</th>\n",
              "      <th>Gender</th>\n",
              "      <th>Age</th>\n",
              "      <th>SibSp</th>\n",
              "      <th>Parch</th>\n",
              "      <th>Fare</th>\n",
              "      <th>Embarked</th>\n",
              "    </tr>\n",
              "  </thead>\n",
              "  <tbody>\n",
              "    <tr>\n",
              "      <th>0</th>\n",
              "      <td>1</td>\n",
              "      <td>0</td>\n",
              "      <td>3</td>\n",
              "      <td>Braund, Mr. Owen Harris</td>\n",
              "      <td>0</td>\n",
              "      <td>22.0</td>\n",
              "      <td>1</td>\n",
              "      <td>0</td>\n",
              "      <td>7.2500</td>\n",
              "      <td>S</td>\n",
              "    </tr>\n",
              "    <tr>\n",
              "      <th>1</th>\n",
              "      <td>2</td>\n",
              "      <td>1</td>\n",
              "      <td>1</td>\n",
              "      <td>Cumings, Mrs. John Bradley (Florence Briggs Th...</td>\n",
              "      <td>1</td>\n",
              "      <td>38.0</td>\n",
              "      <td>1</td>\n",
              "      <td>0</td>\n",
              "      <td>71.2833</td>\n",
              "      <td>C</td>\n",
              "    </tr>\n",
              "    <tr>\n",
              "      <th>2</th>\n",
              "      <td>3</td>\n",
              "      <td>1</td>\n",
              "      <td>3</td>\n",
              "      <td>Heikkinen, Miss. Laina</td>\n",
              "      <td>1</td>\n",
              "      <td>26.0</td>\n",
              "      <td>0</td>\n",
              "      <td>0</td>\n",
              "      <td>7.9250</td>\n",
              "      <td>S</td>\n",
              "    </tr>\n",
              "    <tr>\n",
              "      <th>3</th>\n",
              "      <td>4</td>\n",
              "      <td>1</td>\n",
              "      <td>1</td>\n",
              "      <td>Futrelle, Mrs. Jacques Heath (Lily May Peel)</td>\n",
              "      <td>1</td>\n",
              "      <td>35.0</td>\n",
              "      <td>1</td>\n",
              "      <td>0</td>\n",
              "      <td>53.1000</td>\n",
              "      <td>S</td>\n",
              "    </tr>\n",
              "    <tr>\n",
              "      <th>4</th>\n",
              "      <td>5</td>\n",
              "      <td>0</td>\n",
              "      <td>3</td>\n",
              "      <td>Allen, Mr. William Henry</td>\n",
              "      <td>0</td>\n",
              "      <td>35.0</td>\n",
              "      <td>0</td>\n",
              "      <td>0</td>\n",
              "      <td>8.0500</td>\n",
              "      <td>S</td>\n",
              "    </tr>\n",
              "  </tbody>\n",
              "</table>\n",
              "</div>"
            ],
            "text/plain": [
              "   PassengerId  Survived  Pclass  ... Parch     Fare  Embarked\n",
              "0            1         0       3  ...     0   7.2500         S\n",
              "1            2         1       1  ...     0  71.2833         C\n",
              "2            3         1       3  ...     0   7.9250         S\n",
              "3            4         1       1  ...     0  53.1000         S\n",
              "4            5         0       3  ...     0   8.0500         S\n",
              "\n",
              "[5 rows x 10 columns]"
            ]
          },
          "metadata": {
            "tags": []
          },
          "execution_count": 1346
        }
      ]
    },
    {
      "cell_type": "markdown",
      "metadata": {
        "id": "tGxkG4FrYWCM"
      },
      "source": [
        "# **Q17**"
      ]
    },
    {
      "cell_type": "code",
      "metadata": {
        "colab": {
          "base_uri": "https://localhost:8080/"
        },
        "id": "DTvBBK0sZLDd",
        "outputId": "2786b53c-5f56-45e9-eae6-548d2005e82a"
      },
      "source": [
        "print('Mean:',train_df['Age'].mean())\n",
        "print('STD:',train_df['Age'].std())\n",
        "\n",
        "def val(column_val):\n",
        "    if np.isnan(column_val) == True: \n",
        "        column_val = np.random.randint(std, mean, 1)[0]\n",
        "    else:\n",
        "         column_val = column_val\n",
        "    return column_val\n",
        "combined = [train_df, test_df]\n",
        "combined[0]['Age'] = train_df['Age'].apply(val) \n",
        "combined[1]['Age'] = test_df['Age'].apply(val) "
      ],
      "execution_count": 1347,
      "outputs": [
        {
          "output_type": "stream",
          "text": [
            "Mean: 29.69911764705882\n",
            "STD: 14.526497332334044\n"
          ],
          "name": "stdout"
        }
      ]
    },
    {
      "cell_type": "code",
      "metadata": {
        "colab": {
          "base_uri": "https://localhost:8080/"
        },
        "id": "-LpERW76alc4",
        "outputId": "580f93c1-ac73-4661-d8d1-273a2ead513c"
      },
      "source": [
        "train_df.isnull().sum()"
      ],
      "execution_count": 1348,
      "outputs": [
        {
          "output_type": "execute_result",
          "data": {
            "text/plain": [
              "PassengerId    0\n",
              "Survived       0\n",
              "Pclass         0\n",
              "Name           0\n",
              "Gender         0\n",
              "Age            0\n",
              "SibSp          0\n",
              "Parch          0\n",
              "Fare           0\n",
              "Embarked       2\n",
              "dtype: int64"
            ]
          },
          "metadata": {
            "tags": []
          },
          "execution_count": 1348
        }
      ]
    },
    {
      "cell_type": "code",
      "metadata": {
        "colab": {
          "base_uri": "https://localhost:8080/"
        },
        "id": "ltyUDutqp3Qh",
        "outputId": "aac0885d-8700-4d38-b1ba-85fbc2d910ee"
      },
      "source": [
        "test_df.isnull().sum()"
      ],
      "execution_count": 1349,
      "outputs": [
        {
          "output_type": "execute_result",
          "data": {
            "text/plain": [
              "PassengerId    0\n",
              "Pclass         0\n",
              "Name           0\n",
              "Sex            0\n",
              "Age            0\n",
              "SibSp          0\n",
              "Parch          0\n",
              "Fare           1\n",
              "Embarked       0\n",
              "dtype: int64"
            ]
          },
          "metadata": {
            "tags": []
          },
          "execution_count": 1349
        }
      ]
    },
    {
      "cell_type": "markdown",
      "metadata": {
        "id": "YgqkVDkn_pVa"
      },
      "source": [
        "# **Q18**"
      ]
    },
    {
      "cell_type": "code",
      "metadata": {
        "colab": {
          "base_uri": "https://localhost:8080/",
          "height": 35
        },
        "id": "TjyShKk6_sEN",
        "outputId": "f24ecca0-c161-42a2-c4c1-874d379d0b40"
      },
      "source": [
        "train_df['Embarked'].mode()[0]"
      ],
      "execution_count": 1350,
      "outputs": [
        {
          "output_type": "execute_result",
          "data": {
            "application/vnd.google.colaboratory.intrinsic+json": {
              "type": "string"
            },
            "text/plain": [
              "'S'"
            ]
          },
          "metadata": {
            "tags": []
          },
          "execution_count": 1350
        }
      ]
    },
    {
      "cell_type": "code",
      "metadata": {
        "colab": {
          "base_uri": "https://localhost:8080/"
        },
        "id": "aPkpmNXu_t58",
        "outputId": "2b684364-6078-4e6d-8c9a-5f9a5192559f"
      },
      "source": [
        "for column in train_df.columns:\n",
        "    train_df['Embarked'].fillna(train_df['Embarked'].mode()[0], inplace=True)\n",
        "train_df.isnull().sum()"
      ],
      "execution_count": 1351,
      "outputs": [
        {
          "output_type": "execute_result",
          "data": {
            "text/plain": [
              "PassengerId    0\n",
              "Survived       0\n",
              "Pclass         0\n",
              "Name           0\n",
              "Gender         0\n",
              "Age            0\n",
              "SibSp          0\n",
              "Parch          0\n",
              "Fare           0\n",
              "Embarked       0\n",
              "dtype: int64"
            ]
          },
          "metadata": {
            "tags": []
          },
          "execution_count": 1351
        }
      ]
    },
    {
      "cell_type": "markdown",
      "metadata": {
        "id": "CPCiPc7iAfCz"
      },
      "source": [
        "# **Q19**"
      ]
    },
    {
      "cell_type": "code",
      "metadata": {
        "id": "Jl1cwgUclhPW"
      },
      "source": [
        "for b in test_df.columns:\n",
        "    test_df['Fare'].fillna(test_df['Fare'].mode()[0], inplace=True)"
      ],
      "execution_count": 1352,
      "outputs": []
    },
    {
      "cell_type": "code",
      "metadata": {
        "colab": {
          "base_uri": "https://localhost:8080/"
        },
        "id": "9Fc14arTmPdO",
        "outputId": "f837b8fa-9cdd-4feb-b9bf-46130b8995cf"
      },
      "source": [
        "train_df.isnull().sum()"
      ],
      "execution_count": 1353,
      "outputs": [
        {
          "output_type": "execute_result",
          "data": {
            "text/plain": [
              "PassengerId    0\n",
              "Survived       0\n",
              "Pclass         0\n",
              "Name           0\n",
              "Gender         0\n",
              "Age            0\n",
              "SibSp          0\n",
              "Parch          0\n",
              "Fare           0\n",
              "Embarked       0\n",
              "dtype: int64"
            ]
          },
          "metadata": {
            "tags": []
          },
          "execution_count": 1353
        }
      ]
    },
    {
      "cell_type": "code",
      "metadata": {
        "colab": {
          "base_uri": "https://localhost:8080/"
        },
        "id": "Xm31yuo7myJ4",
        "outputId": "f65a488f-ce28-4437-b5db-d32ae6895c6b"
      },
      "source": [
        "test_df.isnull().sum()"
      ],
      "execution_count": 1354,
      "outputs": [
        {
          "output_type": "execute_result",
          "data": {
            "text/plain": [
              "PassengerId    0\n",
              "Pclass         0\n",
              "Name           0\n",
              "Sex            0\n",
              "Age            0\n",
              "SibSp          0\n",
              "Parch          0\n",
              "Fare           0\n",
              "Embarked       0\n",
              "dtype: int64"
            ]
          },
          "metadata": {
            "tags": []
          },
          "execution_count": 1354
        }
      ]
    },
    {
      "cell_type": "markdown",
      "metadata": {
        "id": "wb0SRMu8DPK1"
      },
      "source": [
        "# **Q20**"
      ]
    },
    {
      "cell_type": "code",
      "metadata": {
        "id": "DZDm7TfYDSOv"
      },
      "source": [
        "def fare_ordinal(x):\n",
        "    if x > -(0.001) and x <= 7.91:\n",
        "        return 0\n",
        "    elif x > 7.91 and x <= 14.4542:\n",
        "        return 1\n",
        "    elif x > 14.4542 and x <= 31.0:\n",
        "        return 2\n",
        "    elif x > 31.0 and x <= 512.3292:\n",
        "        return 3\n",
        "combined = [train_df, test_df]    \n",
        "combined[0]['Fare'] = train_df.Fare.apply(fare_ordinal)\n",
        "combined[1]['Fare'] = test_df.Fare.apply(fare_ordinal)"
      ],
      "execution_count": 1355,
      "outputs": []
    },
    {
      "cell_type": "code",
      "metadata": {
        "colab": {
          "base_uri": "https://localhost:8080/",
          "height": 173
        },
        "id": "q9LDA22VD42N",
        "outputId": "dbb30e84-8488-4aff-f4a9-219489154656"
      },
      "source": [
        "train_df[['Fare', 'Survived']].groupby(['Fare'], as_index=False).mean().sort_values(by='Fare', ascending=True)"
      ],
      "execution_count": 1356,
      "outputs": [
        {
          "output_type": "execute_result",
          "data": {
            "text/html": [
              "<div>\n",
              "<style scoped>\n",
              "    .dataframe tbody tr th:only-of-type {\n",
              "        vertical-align: middle;\n",
              "    }\n",
              "\n",
              "    .dataframe tbody tr th {\n",
              "        vertical-align: top;\n",
              "    }\n",
              "\n",
              "    .dataframe thead th {\n",
              "        text-align: right;\n",
              "    }\n",
              "</style>\n",
              "<table border=\"1\" class=\"dataframe\">\n",
              "  <thead>\n",
              "    <tr style=\"text-align: right;\">\n",
              "      <th></th>\n",
              "      <th>Fare</th>\n",
              "      <th>Survived</th>\n",
              "    </tr>\n",
              "  </thead>\n",
              "  <tbody>\n",
              "    <tr>\n",
              "      <th>0</th>\n",
              "      <td>0</td>\n",
              "      <td>0.197309</td>\n",
              "    </tr>\n",
              "    <tr>\n",
              "      <th>1</th>\n",
              "      <td>1</td>\n",
              "      <td>0.303571</td>\n",
              "    </tr>\n",
              "    <tr>\n",
              "      <th>2</th>\n",
              "      <td>2</td>\n",
              "      <td>0.454955</td>\n",
              "    </tr>\n",
              "    <tr>\n",
              "      <th>3</th>\n",
              "      <td>3</td>\n",
              "      <td>0.581081</td>\n",
              "    </tr>\n",
              "  </tbody>\n",
              "</table>\n",
              "</div>"
            ],
            "text/plain": [
              "   Fare  Survived\n",
              "0     0  0.197309\n",
              "1     1  0.303571\n",
              "2     2  0.454955\n",
              "3     3  0.581081"
            ]
          },
          "metadata": {
            "tags": []
          },
          "execution_count": 1356
        }
      ]
    }
  ]
}