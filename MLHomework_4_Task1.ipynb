{
  "nbformat": 4,
  "nbformat_minor": 0,
  "metadata": {
    "colab": {
      "name": "MLHomework-4-Task1.ipynb",
      "provenance": [],
      "authorship_tag": "ABX9TyM7t0Qw2aMgt/lYwhGJMwhq",
      "include_colab_link": true
    },
    "kernelspec": {
      "name": "python3",
      "display_name": "Python 3"
    }
  },
  "cells": [
    {
      "cell_type": "markdown",
      "metadata": {
        "id": "view-in-github",
        "colab_type": "text"
      },
      "source": [
        "<a href=\"https://colab.research.google.com/github/sowmyakovur20/machinelearninghw/blob/main/MLHomework_4_Task1.ipynb\" target=\"_parent\"><img src=\"https://colab.research.google.com/assets/colab-badge.svg\" alt=\"Open In Colab\"/></a>"
      ]
    },
    {
      "cell_type": "code",
      "metadata": {
        "id": "tVOH7qbay8ub"
      },
      "source": [
        "import pandas as pd\n",
        "import numpy as np\n",
        "import matplotlib.pyplot as plt"
      ],
      "execution_count": 1,
      "outputs": []
    },
    {
      "cell_type": "code",
      "metadata": {
        "id": "qxkuPjU9zINX"
      },
      "source": [
        "data = pd.DataFrame({\n",
        "    'x': [3, 3, 2, 2, 6, 6, 7, 7, 8, 7],\n",
        "    'y': [5, 4, 8, 3, 2, 4, 3, 4, 5, 6]\n",
        "})"
      ],
      "execution_count": 2,
      "outputs": []
    },
    {
      "cell_type": "code",
      "metadata": {
        "id": "T_Bo9wAuzKnP"
      },
      "source": [
        "np.random.seed(200)"
      ],
      "execution_count": 3,
      "outputs": []
    },
    {
      "cell_type": "code",
      "metadata": {
        "id": "soLZemczzMWd"
      },
      "source": [
        "k = 2"
      ],
      "execution_count": 4,
      "outputs": []
    },
    {
      "cell_type": "code",
      "metadata": {
        "colab": {
          "base_uri": "https://localhost:8080/",
          "height": 265
        },
        "id": "U0JeQo96zOQA",
        "outputId": "55d64553-b8c4-4bd3-a66c-c7c2b416e720"
      },
      "source": [
        "plt.scatter(data['x'], data['y'], s=200,color = 'r')\n",
        "\n",
        "#Initialize with two centroids\n",
        "c = {1: [4, 6], 2: [5, 4]}\n",
        "\n",
        "colmap = {1:'y', 2:'b'}\n",
        "\n",
        "for i in c.keys():\n",
        "    plt.scatter(*c[i], s=200, color=colmap[i])\n",
        "\n",
        "plt.show()"
      ],
      "execution_count": 5,
      "outputs": [
        {
          "output_type": "display_data",
          "data": {
            "image/png": "[encoded data removed]",
            "text/plain": [
              "<Figure size 432x288 with 1 Axes>"
            ]
          },
          "metadata": {
            "tags": [],
            "needs_background": "light"
          }
        }
      ]
    },
    {
      "cell_type": "markdown",
      "metadata": {
        "id": "G9DLn7khNWSc"
      },
      "source": [
        "**Using Manhattan Distance**"
      ]
    },
    {
      "cell_type": "code",
      "metadata": {
        "colab": {
          "base_uri": "https://localhost:8080/",
          "height": 204
        },
        "id": "HJF-dR9v7-B9",
        "outputId": "83e5870f-b418-4eda-ee4a-f0ac6488895f"
      },
      "source": [
        "def assignment(data, c):\n",
        "    for i in c.keys():\n",
        "        #Using Manhattan distance as the distance metric\n",
        "        data['dist_from_{}'.format(i)] = (     \n",
        "                abs(data['x'] - c[i][0]) \n",
        "                    + abs(data['y'] - c[i][1]))\n",
        "    c_distance_cols = ['dist_from_{}'.format(i) for i in c.keys()]\n",
        "    data['closest'] = data.loc[:, c_distance_cols].idxmin(axis=1)\n",
        "    data['closest'] = data['closest'].map(lambda x: int(x.lstrip('dist_from_')))\n",
        "    data['color'] = data['closest'].map(lambda x: colmap[x])\n",
        "    return data\n",
        "\n",
        "data = assignment(data, c)\n",
        "data.head()"
      ],
      "execution_count": 6,
      "outputs": [
        {
          "output_type": "execute_result",
          "data": {
            "text/html": [
              "<div>\n",
              "<style scoped>\n",
              "    .dataframe tbody tr th:only-of-type {\n",
              "        vertical-align: middle;\n",
              "    }\n",
              "\n",
              "    .dataframe tbody tr th {\n",
              "        vertical-align: top;\n",
              "    }\n",
              "\n",
              "    .dataframe thead th {\n",
              "        text-align: right;\n",
              "    }\n",
              "</style>\n",
              "<table border=\"1\" class=\"dataframe\">\n",
              "  <thead>\n",
              "    <tr style=\"text-align: right;\">\n",
              "      <th></th>\n",
              "      <th>x</th>\n",
              "      <th>y</th>\n",
              "      <th>dist_from_1</th>\n",
              "      <th>dist_from_2</th>\n",
              "      <th>closest</th>\n",
              "      <th>color</th>\n",
              "    </tr>\n",
              "  </thead>\n",
              "  <tbody>\n",
              "    <tr>\n",
              "      <th>0</th>\n",
              "      <td>3</td>\n",
              "      <td>5</td>\n",
              "      <td>2</td>\n",
              "      <td>3</td>\n",
              "      <td>1</td>\n",
              "      <td>y</td>\n",
              "    </tr>\n",
              "    <tr>\n",
              "      <th>1</th>\n",
              "      <td>3</td>\n",
              "      <td>4</td>\n",
              "      <td>3</td>\n",
              "      <td>2</td>\n",
              "      <td>2</td>\n",
              "      <td>b</td>\n",
              "    </tr>\n",
              "    <tr>\n",
              "      <th>2</th>\n",
              "      <td>2</td>\n",
              "      <td>8</td>\n",
              "      <td>4</td>\n",
              "      <td>7</td>\n",
              "      <td>1</td>\n",
              "      <td>y</td>\n",
              "    </tr>\n",
              "    <tr>\n",
              "      <th>3</th>\n",
              "      <td>2</td>\n",
              "      <td>3</td>\n",
              "      <td>5</td>\n",
              "      <td>4</td>\n",
              "      <td>2</td>\n",
              "      <td>b</td>\n",
              "    </tr>\n",
              "    <tr>\n",
              "      <th>4</th>\n",
              "      <td>6</td>\n",
              "      <td>2</td>\n",
              "      <td>6</td>\n",
              "      <td>3</td>\n",
              "      <td>2</td>\n",
              "      <td>b</td>\n",
              "    </tr>\n",
              "  </tbody>\n",
              "</table>\n",
              "</div>"
            ],
            "text/plain": [
              "   x  y  dist_from_1  dist_from_2  closest color\n",
              "0  3  5            2            3        1     y\n",
              "1  3  4            3            2        2     b\n",
              "2  2  8            4            7        1     y\n",
              "3  2  3            5            4        2     b\n",
              "4  6  2            6            3        2     b"
            ]
          },
          "metadata": {
            "tags": []
          },
          "execution_count": 6
        }
      ]
    },
    {
      "cell_type": "code",
      "metadata": {
        "colab": {
          "base_uri": "https://localhost:8080/",
          "height": 374
        },
        "id": "olb1aZ2M8Enh",
        "outputId": "ddaa798d-e04c-47da-8a12-359ce4e4920d"
      },
      "source": [
        "img = plt.figure(figsize=(6,6))\n",
        "plt.scatter(data['x'], data['y'], color = data['color'], alpha=0.5, edgecolor='k')\n",
        "for i in c.keys():\n",
        "    plt.scatter(*c[i], color=colmap[i])\n",
        "\n",
        "plt.show()"
      ],
      "execution_count": 7,
      "outputs": [
        {
          "output_type": "display_data",
          "data": {
            "image/png": "[encoded data removed]",
            "text/plain": [
              "<Figure size 432x432 with 1 Axes>"
            ]
          },
          "metadata": {
            "tags": [],
            "needs_background": "light"
          }
        }
      ]
    },
    {
      "cell_type": "code",
      "metadata": {
        "colab": {
          "base_uri": "https://localhost:8080/",
          "height": 391
        },
        "id": "70BfeX3N8TAC",
        "outputId": "b915a71c-dfe9-4e1e-8bb2-1a55a993bb72"
      },
      "source": [
        "import copy\n",
        "\n",
        "oc = copy.deepcopy(c)\n",
        "\n",
        "def update(k):\n",
        "    for i in c.keys():\n",
        "        c[i][0] = np.mean(data[data['closest'] == i]['x'])\n",
        "        c[i][1] = np.mean(data[data['closest'] == i]['y'])\n",
        "    return k\n",
        "\n",
        "c = update(c)\n",
        "print(c)\n",
        "fig = plt.figure(figsize=(6,6))\n",
        "mp = plt.axes()\n",
        "plt.scatter(data['x'], data['y'], color=data['color'], alpha=0.5, edgecolor='k')\n",
        "for i in c.keys():\n",
        "    plt.scatter(*c[i], color=colmap[i])\n",
        "plt.show()"
      ],
      "execution_count": 8,
      "outputs": [
        {
          "output_type": "stream",
          "text": [
            "{1: [4.0, 6.333333333333333], 2: [5.571428571428571, 3.5714285714285716]}\n"
          ],
          "name": "stdout"
        },
        {
          "output_type": "display_data",
          "data": {
            "image/png": "[encoded data removed]",
            "text/plain": [
              "<Figure size 432x432 with 1 Axes>"
            ]
          },
          "metadata": {
            "tags": [],
            "needs_background": "light"
          }
        }
      ]
    },
    {
      "cell_type": "code",
      "metadata": {
        "colab": {
          "base_uri": "https://localhost:8080/",
          "height": 374
        },
        "id": "EdguqbNL9q7M",
        "outputId": "41881106-aec6-492f-f1ea-d39ddb9f12ce"
      },
      "source": [
        "data = assignment(data, c)\n",
        "\n",
        "## Plot results\n",
        "fig = plt.figure(figsize=(6,6))\n",
        "plt.scatter(data['x'], data['y'], color=data['color'], alpha=0.5, edgecolor='k')\n",
        "for i in c.keys():\n",
        "    plt.scatter(*c[i], color=colmap[i])\n",
        "plt.show()"
      ],
      "execution_count": 9,
      "outputs": [
        {
          "output_type": "display_data",
          "data": {
            "image/png": "[encoded data removed]",
            "text/plain": [
              "<Figure size 432x432 with 1 Axes>"
            ]
          },
          "metadata": {
            "tags": [],
            "needs_background": "light"
          }
        }
      ]
    },
    {
      "cell_type": "code",
      "metadata": {
        "id": "3rf6-QKx9vQ9"
      },
      "source": [
        "while True:\n",
        "    cc = data['closest'].copy(deep=True)\n",
        "    c = update(c)\n",
        "    df = assignment(data, c)\n",
        "    if cc.equals(data['closest']):\n",
        "        break"
      ],
      "execution_count": 10,
      "outputs": []
    },
    {
      "cell_type": "code",
      "metadata": {
        "colab": {
          "base_uri": "https://localhost:8080/",
          "height": 374
        },
        "id": "rY7oTStL9ycl",
        "outputId": "2808fe85-9293-4d21-d42e-c5815908a609"
      },
      "source": [
        "img = plt.figure(figsize=(6,6))\n",
        "plt.scatter(data['x'], data['y'], color=data['color'], alpha=0.5, edgecolor='k')\n",
        "for i in c.keys():\n",
        "    plt.scatter(*c[i], color=colmap[i])\n",
        "plt.show()"
      ],
      "execution_count": 11,
      "outputs": [
        {
          "output_type": "display_data",
          "data": {
            "image/png": "[encoded data removed]",
            "text/plain": [
              "<Figure size 432x432 with 1 Axes>"
            ]
          },
          "metadata": {
            "tags": [],
            "needs_background": "light"
          }
        }
      ]
    },
    {
      "cell_type": "code",
      "metadata": {
        "colab": {
          "base_uri": "https://localhost:8080/"
        },
        "id": "k_SceBRC91q6",
        "outputId": "bad4ac73-5531-4d11-e8b8-e2fc57fa1810"
      },
      "source": [
        "print(c)"
      ],
      "execution_count": 12,
      "outputs": [
        {
          "output_type": "stream",
          "text": [
            "{1: [4.0, 6.333333333333333], 2: [5.571428571428571, 3.5714285714285716]}\n"
          ],
          "name": "stdout"
        }
      ]
    },
    {
      "cell_type": "code",
      "metadata": {
        "colab": {
          "base_uri": "https://localhost:8080/"
        },
        "id": "J6ec48fx92r9",
        "outputId": "08fa1cf2-92d2-457c-ac7c-0eb7376c8992"
      },
      "source": [
        "from sklearn.cluster import KMeans\n",
        "data = pd.DataFrame({\n",
        "    'x': [3, 3, 2, 2, 6, 6, 7, 7, 8, 7],\n",
        "    'y': [5, 4, 8, 3, 2, 4, 3, 4, 5, 6]\n",
        "})\n",
        "kmeans = KMeans(n_clusters=2)\n",
        "kmeans.fit(data)"
      ],
      "execution_count": 13,
      "outputs": [
        {
          "output_type": "execute_result",
          "data": {
            "text/plain": [
              "KMeans(algorithm='auto', copy_x=True, init='k-means++', max_iter=300,\n",
              "       n_clusters=2, n_init=10, n_jobs=None, precompute_distances='auto',\n",
              "       random_state=None, tol=0.0001, verbose=0)"
            ]
          },
          "metadata": {
            "tags": []
          },
          "execution_count": 13
        }
      ]
    },
    {
      "cell_type": "code",
      "metadata": {
        "id": "8ph9RzRz9-4V"
      },
      "source": [
        "labels = kmeans.predict(data)\n",
        "centroids = kmeans.cluster_centers_"
      ],
      "execution_count": 14,
      "outputs": []
    },
    {
      "cell_type": "code",
      "metadata": {
        "colab": {
          "base_uri": "https://localhost:8080/",
          "height": 320
        },
        "id": "JqbwlQlOGpd0",
        "outputId": "60c50410-7a66-412d-ec17-3ed017dcd5b8"
      },
      "source": [
        "img = plt.figure(figsize=(5,5))\n",
        "\n",
        "colors = map(lambda x: colmap[x+1], labels)\n",
        "colors1 = list(colors)\n",
        "plt.scatter(df['x'], df['y'], color=colors1, alpha=0.5, edgecolor='k')\n",
        "for idx, centroid in enumerate(centroids):\n",
        "    plt.scatter(*centroid, color=colmap[idx+1])\n",
        "plt.show()"
      ],
      "execution_count": 15,
      "outputs": [
        {
          "output_type": "display_data",
          "data": {
            "image/png": "[encoded data removed]",
            "text/plain": [
              "<Figure size 360x360 with 1 Axes>"
            ]
          },
          "metadata": {
            "tags": [],
            "needs_background": "light"
          }
        }
      ]
    },
    {
      "cell_type": "code",
      "metadata": {
        "colab": {
          "base_uri": "https://localhost:8080/"
        },
        "id": "G0h3XGje-GNw",
        "outputId": "ddf49490-19cf-4728-d0b7-99f1dfb89a7f"
      },
      "source": [
        "print(centroids)"
      ],
      "execution_count": 16,
      "outputs": [
        {
          "output_type": "stream",
          "text": [
            "[[6.83333333 4.        ]\n",
            " [2.5        5.        ]]\n"
          ],
          "name": "stdout"
        }
      ]
    },
    {
      "cell_type": "markdown",
      "metadata": {
        "id": "znhWzP0aNg4I"
      },
      "source": [
        "**Task-2 Question -2**"
      ]
    },
    {
      "cell_type": "markdown",
      "metadata": {
        "id": "BN0V45MCNc0j"
      },
      "source": [
        "**Using Euclidean distance**"
      ]
    },
    {
      "cell_type": "code",
      "metadata": {
        "colab": {
          "base_uri": "https://localhost:8080/",
          "height": 265
        },
        "id": "SBNOUICW6tbd",
        "outputId": "34064cef-0c92-420f-ed7d-06cfc2ad5a33"
      },
      "source": [
        "plt.scatter(df['x'], df['y'], s=150, color = 'r')\n",
        "\n",
        "#Initialize with two centroids\n",
        "centroids = {1: [4, 6], 2: [5, 4]}\n",
        "\n",
        "colmap = {1:'y', 2:'b'}\n",
        "\n",
        "for i in centroids.keys():\n",
        "    plt.scatter(*centroids[i], s=150, color=colmap[i])\n",
        "\n",
        "plt.show()"
      ],
      "execution_count": 17,
      "outputs": [
        {
          "output_type": "display_data",
          "data": {
            "image/png": "[encoded data removed]",
            "text/plain": [
              "<Figure size 432x288 with 1 Axes>"
            ]
          },
          "metadata": {
            "tags": [],
            "needs_background": "light"
          }
        }
      ]
    },
    {
      "cell_type": "code",
      "metadata": {
        "colab": {
          "base_uri": "https://localhost:8080/",
          "height": 204
        },
        "id": "0EJNt8xzPP14",
        "outputId": "b78014db-0570-4764-e949-225e6a2b3fb7"
      },
      "source": [
        "def assignment(df, centroids):\n",
        "    for i in centroids.keys():\n",
        "        #Using Euclidean distance as the distance metric\n",
        "        df['distance_from_{}'.format(i)] = (\n",
        "            np.sqrt(\n",
        "                (df['x'] - centroids[i][0]) ** 2\n",
        "                    + (df['y'] - centroids[i][1]) ** 2))\n",
        "    centroid_distance_cols = ['distance_from_{}'.format(i) for i in centroids.keys()]\n",
        "    df['closest'] = df.loc[:, centroid_distance_cols].idxmin(axis=1)\n",
        "    df['closest'] = df['closest'].map(lambda x: int(x.lstrip('distance_from_')))\n",
        "    df['color'] = df['closest'].map(lambda x: colmap[x])\n",
        "    return df\n",
        "\n",
        "df = assignment(df, centroids)\n",
        "df.head()"
      ],
      "execution_count": 18,
      "outputs": [
        {
          "output_type": "execute_result",
          "data": {
            "text/html": [
              "<div>\n",
              "<style scoped>\n",
              "    .dataframe tbody tr th:only-of-type {\n",
              "        vertical-align: middle;\n",
              "    }\n",
              "\n",
              "    .dataframe tbody tr th {\n",
              "        vertical-align: top;\n",
              "    }\n",
              "\n",
              "    .dataframe thead th {\n",
              "        text-align: right;\n",
              "    }\n",
              "</style>\n",
              "<table border=\"1\" class=\"dataframe\">\n",
              "  <thead>\n",
              "    <tr style=\"text-align: right;\">\n",
              "      <th></th>\n",
              "      <th>x</th>\n",
              "      <th>y</th>\n",
              "      <th>dist_from_1</th>\n",
              "      <th>dist_from_2</th>\n",
              "      <th>closest</th>\n",
              "      <th>color</th>\n",
              "      <th>distance_from_1</th>\n",
              "      <th>distance_from_2</th>\n",
              "    </tr>\n",
              "  </thead>\n",
              "  <tbody>\n",
              "    <tr>\n",
              "      <th>0</th>\n",
              "      <td>3</td>\n",
              "      <td>5</td>\n",
              "      <td>2.333333</td>\n",
              "      <td>4.000000</td>\n",
              "      <td>1</td>\n",
              "      <td>y</td>\n",
              "      <td>1.414214</td>\n",
              "      <td>2.236068</td>\n",
              "    </tr>\n",
              "    <tr>\n",
              "      <th>1</th>\n",
              "      <td>3</td>\n",
              "      <td>4</td>\n",
              "      <td>3.333333</td>\n",
              "      <td>3.000000</td>\n",
              "      <td>2</td>\n",
              "      <td>b</td>\n",
              "      <td>2.236068</td>\n",
              "      <td>2.000000</td>\n",
              "    </tr>\n",
              "    <tr>\n",
              "      <th>2</th>\n",
              "      <td>2</td>\n",
              "      <td>8</td>\n",
              "      <td>3.666667</td>\n",
              "      <td>8.000000</td>\n",
              "      <td>1</td>\n",
              "      <td>y</td>\n",
              "      <td>2.828427</td>\n",
              "      <td>5.000000</td>\n",
              "    </tr>\n",
              "    <tr>\n",
              "      <th>3</th>\n",
              "      <td>2</td>\n",
              "      <td>3</td>\n",
              "      <td>5.333333</td>\n",
              "      <td>4.142857</td>\n",
              "      <td>2</td>\n",
              "      <td>b</td>\n",
              "      <td>3.605551</td>\n",
              "      <td>3.162278</td>\n",
              "    </tr>\n",
              "    <tr>\n",
              "      <th>4</th>\n",
              "      <td>6</td>\n",
              "      <td>2</td>\n",
              "      <td>6.333333</td>\n",
              "      <td>2.000000</td>\n",
              "      <td>2</td>\n",
              "      <td>b</td>\n",
              "      <td>4.472136</td>\n",
              "      <td>2.236068</td>\n",
              "    </tr>\n",
              "  </tbody>\n",
              "</table>\n",
              "</div>"
            ],
            "text/plain": [
              "   x  y  dist_from_1  ...  color  distance_from_1 distance_from_2\n",
              "0  3  5     2.333333  ...      y         1.414214        2.236068\n",
              "1  3  4     3.333333  ...      b         2.236068        2.000000\n",
              "2  2  8     3.666667  ...      y         2.828427        5.000000\n",
              "3  2  3     5.333333  ...      b         3.605551        3.162278\n",
              "4  6  2     6.333333  ...      b         4.472136        2.236068\n",
              "\n",
              "[5 rows x 8 columns]"
            ]
          },
          "metadata": {
            "tags": []
          },
          "execution_count": 18
        }
      ]
    },
    {
      "cell_type": "code",
      "metadata": {
        "colab": {
          "base_uri": "https://localhost:8080/",
          "height": 320
        },
        "id": "OX8bY88ZPbCg",
        "outputId": "b548e3f5-1fac-4e7a-b891-6013f62e9fd6"
      },
      "source": [
        "fig = plt.figure(figsize=(5,5))\n",
        "plt.scatter(df['x'], df['y'], color = df['color'], alpha=0.5, edgecolor='k')\n",
        "for i in centroids.keys():\n",
        "    plt.scatter(*centroids[i], color=colmap[i])\n",
        "\n",
        "plt.show()"
      ],
      "execution_count": 19,
      "outputs": [
        {
          "output_type": "display_data",
          "data": {
            "image/png": "[encoded data removed]",
            "text/plain": [
              "<Figure size 360x360 with 1 Axes>"
            ]
          },
          "metadata": {
            "tags": [],
            "needs_background": "light"
          }
        }
      ]
    },
    {
      "cell_type": "code",
      "metadata": {
        "colab": {
          "base_uri": "https://localhost:8080/",
          "height": 337
        },
        "id": "lCCW5vaeP9P5",
        "outputId": "8ba06545-65cb-4eba-c7d2-9356f1da0a5a"
      },
      "source": [
        "import copy\n",
        "\n",
        "old_centroids = copy.deepcopy(centroids)\n",
        "\n",
        "def update(k):\n",
        "    for i in centroids.keys():\n",
        "        centroids[i][0] = np.mean(df[df['closest'] == i]['x'])\n",
        "        centroids[i][1] = np.mean(df[df['closest'] == i]['y'])\n",
        "    return k\n",
        "\n",
        "centroids = update(centroids)\n",
        "print(centroids)\n",
        "fig = plt.figure(figsize=(5,5))\n",
        "ax = plt.axes()\n",
        "plt.scatter(df['x'], df['y'], color=df['color'], alpha=0.5, edgecolor='k')\n",
        "for i in centroids.keys():\n",
        "    plt.scatter(*centroids[i], color=colmap[i])\n",
        "plt.show()"
      ],
      "execution_count": 20,
      "outputs": [
        {
          "output_type": "stream",
          "text": [
            "{1: [2.5, 6.5], 2: [5.75, 3.875]}\n"
          ],
          "name": "stdout"
        },
        {
          "output_type": "display_data",
          "data": {
            "image/png": "[encoded data removed]",
            "text/plain": [
              "<Figure size 360x360 with 1 Axes>"
            ]
          },
          "metadata": {
            "tags": [],
            "needs_background": "light"
          }
        }
      ]
    },
    {
      "cell_type": "code",
      "metadata": {
        "colab": {
          "base_uri": "https://localhost:8080/",
          "height": 320
        },
        "id": "AX8QLIwVQJoB",
        "outputId": "b7cd6ce7-ee24-48d0-8b1e-1f77bc729128"
      },
      "source": [
        "df = assignment(df, centroids)\n",
        "\n",
        "## Plot results\n",
        "fig = plt.figure(figsize=(5,5))\n",
        "plt.scatter(df['x'], df['y'], color=df['color'], alpha=0.5, edgecolor='k')\n",
        "for i in centroids.keys():\n",
        "    plt.scatter(*centroids[i], color=colmap[i])\n",
        "plt.show()"
      ],
      "execution_count": 21,
      "outputs": [
        {
          "output_type": "display_data",
          "data": {
            "image/png": "[encoded data removed]",
            "text/plain": [
              "<Figure size 360x360 with 1 Axes>"
            ]
          },
          "metadata": {
            "tags": [],
            "needs_background": "light"
          }
        }
      ]
    },
    {
      "cell_type": "code",
      "metadata": {
        "id": "NZGrF3-bQSMg"
      },
      "source": [
        "while True:\n",
        "    closest_centroids = df['closest'].copy(deep=True)\n",
        "    centroids = update(centroids)\n",
        "    df = assignment(df, centroids)\n",
        "    if closest_centroids.equals(df['closest']):\n",
        "        break"
      ],
      "execution_count": 22,
      "outputs": []
    },
    {
      "cell_type": "code",
      "metadata": {
        "colab": {
          "base_uri": "https://localhost:8080/",
          "height": 320
        },
        "id": "IgbOK7I8QZ3r",
        "outputId": "4bfc28e5-d2fd-4569-a3a5-cf1caaab8f85"
      },
      "source": [
        "fig = plt.figure(figsize=(5,5))\n",
        "plt.scatter(df['x'], df['y'], color=df['color'], alpha=0.5, edgecolor='k')\n",
        "for i in centroids.keys():\n",
        "    plt.scatter(*centroids[i], color=colmap[i])\n",
        "plt.show()"
      ],
      "execution_count": 23,
      "outputs": [
        {
          "output_type": "display_data",
          "data": {
            "image/png": "[encoded data removed]",
            "text/plain": [
              "<Figure size 360x360 with 1 Axes>"
            ]
          },
          "metadata": {
            "tags": [],
            "needs_background": "light"
          }
        }
      ]
    },
    {
      "cell_type": "code",
      "metadata": {
        "colab": {
          "base_uri": "https://localhost:8080/"
        },
        "id": "7DxmuS0DQcF8",
        "outputId": "c461c7ba-1e51-4dd9-e40d-d93bc5a443a7"
      },
      "source": [
        "print(centroids)"
      ],
      "execution_count": 24,
      "outputs": [
        {
          "output_type": "stream",
          "text": [
            "{1: [2.5, 5.0], 2: [6.833333333333333, 4.0]}\n"
          ],
          "name": "stdout"
        }
      ]
    },
    {
      "cell_type": "code",
      "metadata": {
        "colab": {
          "base_uri": "https://localhost:8080/"
        },
        "id": "FK8oZ221Qi5A",
        "outputId": "2c958762-b5ca-4577-f45f-8c5544dab2a5"
      },
      "source": [
        "from sklearn.cluster import KMeans\n",
        "df = pd.DataFrame({\n",
        "    'x': [3, 3, 2, 2, 6, 6, 7, 7, 8, 7],\n",
        "    'y': [5, 4, 8, 3, 2, 4, 3, 4, 5, 6]\n",
        "})\n",
        "kmeans = KMeans(n_clusters=2)\n",
        "kmeans.fit(df)"
      ],
      "execution_count": 25,
      "outputs": [
        {
          "output_type": "execute_result",
          "data": {
            "text/plain": [
              "KMeans(algorithm='auto', copy_x=True, init='k-means++', max_iter=300,\n",
              "       n_clusters=2, n_init=10, n_jobs=None, precompute_distances='auto',\n",
              "       random_state=None, tol=0.0001, verbose=0)"
            ]
          },
          "metadata": {
            "tags": []
          },
          "execution_count": 25
        }
      ]
    },
    {
      "cell_type": "code",
      "metadata": {
        "id": "cAQTZyhXQnN3"
      },
      "source": [
        "labels = kmeans.predict(df)\n",
        "centroids = kmeans.cluster_centers_"
      ],
      "execution_count": 26,
      "outputs": []
    },
    {
      "cell_type": "code",
      "metadata": {
        "id": "neZfmKAtQv_0"
      },
      "source": [
        "labels = kmeans.predict(df)\n",
        "centroids = kmeans.cluster_centers_"
      ],
      "execution_count": 27,
      "outputs": []
    },
    {
      "cell_type": "code",
      "metadata": {
        "colab": {
          "base_uri": "https://localhost:8080/",
          "height": 320
        },
        "id": "Rnu8rf_7W-aH",
        "outputId": "a8f25dab-6473-426f-9d00-aa8eb29846e6"
      },
      "source": [
        "fig = plt.figure(figsize=(5,5))\n",
        "\n",
        "colors = map(lambda x: colmap[x+1], labels)\n",
        "colors1 = list(colors)\n",
        "plt.scatter(df['x'], df['y'], color=colors1, alpha=0.5, edgecolor='k')\n",
        "for idx, centroid in enumerate(centroids):\n",
        "    plt.scatter(*centroid, color=colmap[idx+1])\n",
        "plt.show()"
      ],
      "execution_count": 28,
      "outputs": [
        {
          "output_type": "display_data",
          "data": {
            "image/png": "[encoded data removed]",
            "text/plain": [
              "<Figure size 360x360 with 1 Axes>"
            ]
          },
          "metadata": {
            "tags": [],
            "needs_background": "light"
          }
        }
      ]
    },
    {
      "cell_type": "code",
      "metadata": {
        "colab": {
          "base_uri": "https://localhost:8080/"
        },
        "id": "-nfuxVdjXBb0",
        "outputId": "89dfbc35-83e6-4e59-cd9d-de179706ba08"
      },
      "source": [
        "print(centroids)"
      ],
      "execution_count": 29,
      "outputs": [
        {
          "output_type": "stream",
          "text": [
            "[[2.5        5.        ]\n",
            " [6.83333333 4.        ]]\n"
          ],
          "name": "stdout"
        }
      ]
    },
    {
      "cell_type": "markdown",
      "metadata": {
        "id": "79j7VJkdYwS3"
      },
      "source": [
        "**Task -1 Question -3**"
      ]
    },
    {
      "cell_type": "code",
      "metadata": {
        "colab": {
          "base_uri": "https://localhost:8080/",
          "height": 265
        },
        "id": "mireokNRYv7R",
        "outputId": "9a822cb6-5f9c-49f5-949c-7a8f08b21b64"
      },
      "source": [
        "plt.scatter(df['x'], df['y'], s=150, color = 'r')\n",
        "\n",
        "#Initialize with two centroids\n",
        "centroids = {1: [3, 3], 2: [8, 3]}\n",
        "\n",
        "colmap = {1:'y', 2:'b'}\n",
        "\n",
        "for i in centroids.keys():\n",
        "    plt.scatter(*centroids[i], s=150, color=colmap[i])\n",
        "\n",
        "plt.show()"
      ],
      "execution_count": 30,
      "outputs": [
        {
          "output_type": "display_data",
          "data": {
            "image/png": "[encoded data removed]",
            "text/plain": [
              "<Figure size 432x288 with 1 Axes>"
            ]
          },
          "metadata": {
            "tags": [],
            "needs_background": "light"
          }
        }
      ]
    },
    {
      "cell_type": "code",
      "metadata": {
        "colab": {
          "base_uri": "https://localhost:8080/",
          "height": 204
        },
        "id": "Vixcwp6GY67I",
        "outputId": "f801aa60-36f5-428d-8d70-b92ec0586b11"
      },
      "source": [
        "def assignment(df, centroids):\n",
        "    for i in centroids.keys():\n",
        "        #Using Manhattan distance as the distance metric\n",
        "        df['distance_from_{}'.format(i)] = (     \n",
        "                abs(df['x'] - centroids[i][0]) \n",
        "                    + abs(df['y'] - centroids[i][1]))\n",
        "    centroid_distance_cols = ['distance_from_{}'.format(i) for i in centroids.keys()]\n",
        "    df['closest'] = df.loc[:, centroid_distance_cols].idxmin(axis=1)\n",
        "    df['closest'] = df['closest'].map(lambda x: int(x.lstrip('distance_from_')))\n",
        "    df['color'] = df['closest'].map(lambda x: colmap[x])\n",
        "    return df\n",
        "\n",
        "df = assignment(df, centroids)\n",
        "df.head()"
      ],
      "execution_count": 31,
      "outputs": [
        {
          "output_type": "execute_result",
          "data": {
            "text/html": [
              "<div>\n",
              "<style scoped>\n",
              "    .dataframe tbody tr th:only-of-type {\n",
              "        vertical-align: middle;\n",
              "    }\n",
              "\n",
              "    .dataframe tbody tr th {\n",
              "        vertical-align: top;\n",
              "    }\n",
              "\n",
              "    .dataframe thead th {\n",
              "        text-align: right;\n",
              "    }\n",
              "</style>\n",
              "<table border=\"1\" class=\"dataframe\">\n",
              "  <thead>\n",
              "    <tr style=\"text-align: right;\">\n",
              "      <th></th>\n",
              "      <th>x</th>\n",
              "      <th>y</th>\n",
              "      <th>distance_from_1</th>\n",
              "      <th>distance_from_2</th>\n",
              "      <th>closest</th>\n",
              "      <th>color</th>\n",
              "    </tr>\n",
              "  </thead>\n",
              "  <tbody>\n",
              "    <tr>\n",
              "      <th>0</th>\n",
              "      <td>3</td>\n",
              "      <td>5</td>\n",
              "      <td>2</td>\n",
              "      <td>7</td>\n",
              "      <td>1</td>\n",
              "      <td>y</td>\n",
              "    </tr>\n",
              "    <tr>\n",
              "      <th>1</th>\n",
              "      <td>3</td>\n",
              "      <td>4</td>\n",
              "      <td>1</td>\n",
              "      <td>6</td>\n",
              "      <td>1</td>\n",
              "      <td>y</td>\n",
              "    </tr>\n",
              "    <tr>\n",
              "      <th>2</th>\n",
              "      <td>2</td>\n",
              "      <td>8</td>\n",
              "      <td>6</td>\n",
              "      <td>11</td>\n",
              "      <td>1</td>\n",
              "      <td>y</td>\n",
              "    </tr>\n",
              "    <tr>\n",
              "      <th>3</th>\n",
              "      <td>2</td>\n",
              "      <td>3</td>\n",
              "      <td>1</td>\n",
              "      <td>6</td>\n",
              "      <td>1</td>\n",
              "      <td>y</td>\n",
              "    </tr>\n",
              "    <tr>\n",
              "      <th>4</th>\n",
              "      <td>6</td>\n",
              "      <td>2</td>\n",
              "      <td>4</td>\n",
              "      <td>3</td>\n",
              "      <td>2</td>\n",
              "      <td>b</td>\n",
              "    </tr>\n",
              "  </tbody>\n",
              "</table>\n",
              "</div>"
            ],
            "text/plain": [
              "   x  y  distance_from_1  distance_from_2  closest color\n",
              "0  3  5                2                7        1     y\n",
              "1  3  4                1                6        1     y\n",
              "2  2  8                6               11        1     y\n",
              "3  2  3                1                6        1     y\n",
              "4  6  2                4                3        2     b"
            ]
          },
          "metadata": {
            "tags": []
          },
          "execution_count": 31
        }
      ]
    },
    {
      "cell_type": "code",
      "metadata": {
        "colab": {
          "base_uri": "https://localhost:8080/",
          "height": 320
        },
        "id": "Pg78gOUoY9p1",
        "outputId": "0287c526-81ba-473a-934b-6c3116133ac8"
      },
      "source": [
        "fig = plt.figure(figsize=(5,5))\n",
        "plt.scatter(df['x'], df['y'], color = df['color'], alpha=0.5, edgecolor='k')\n",
        "for i in centroids.keys():\n",
        "    plt.scatter(*centroids[i], color=colmap[i])\n",
        "\n",
        "plt.show()"
      ],
      "execution_count": 32,
      "outputs": [
        {
          "output_type": "display_data",
          "data": {
            "image/png": "[encoded data removed]",
            "text/plain": [
              "<Figure size 360x360 with 1 Axes>"
            ]
          },
          "metadata": {
            "tags": [],
            "needs_background": "light"
          }
        }
      ]
    },
    {
      "cell_type": "code",
      "metadata": {
        "colab": {
          "base_uri": "https://localhost:8080/",
          "height": 337
        },
        "id": "komfHiJPZAtz",
        "outputId": "b72cdbb4-3c63-4adb-d165-fe7f27da9c34"
      },
      "source": [
        "import copy\n",
        "\n",
        "old_centroids = copy.deepcopy(centroids)\n",
        "\n",
        "def update(k):\n",
        "    for i in centroids.keys():\n",
        "        centroids[i][0] = np.mean(df[df['closest'] == i]['x'])\n",
        "        centroids[i][1] = np.mean(df[df['closest'] == i]['y'])\n",
        "    return k\n",
        "\n",
        "centroids = update(centroids)\n",
        "print(centroids)\n",
        "fig = plt.figure(figsize=(5,5))\n",
        "ax = plt.axes()\n",
        "plt.scatter(df['x'], df['y'], color=df['color'], alpha=0.5, edgecolor='k')\n",
        "for i in centroids.keys():\n",
        "    plt.scatter(*centroids[i], color=colmap[i])\n",
        "plt.show()"
      ],
      "execution_count": 33,
      "outputs": [
        {
          "output_type": "stream",
          "text": [
            "{1: [2.5, 5.0], 2: [6.833333333333333, 4.0]}\n"
          ],
          "name": "stdout"
        },
        {
          "output_type": "display_data",
          "data": {
            "image/png": "[encoded data removed]",
            "text/plain": [
              "<Figure size 360x360 with 1 Axes>"
            ]
          },
          "metadata": {
            "tags": [],
            "needs_background": "light"
          }
        }
      ]
    },
    {
      "cell_type": "code",
      "metadata": {
        "colab": {
          "base_uri": "https://localhost:8080/",
          "height": 320
        },
        "id": "ywTegb2eZC_L",
        "outputId": "64829169-28b0-4f4b-840e-209c04c0e92e"
      },
      "source": [
        "df = assignment(df, centroids)\n",
        "\n",
        "## Plot results\n",
        "fig = plt.figure(figsize=(5,5))\n",
        "plt.scatter(df['x'], df['y'], color=df['color'], alpha=0.5, edgecolor='k')\n",
        "for i in centroids.keys():\n",
        "    plt.scatter(*centroids[i], color=colmap[i])\n",
        "plt.show()"
      ],
      "execution_count": 34,
      "outputs": [
        {
          "output_type": "display_data",
          "data": {
            "image/png": "[encoded data removed]",
            "text/plain": [
              "<Figure size 360x360 with 1 Axes>"
            ]
          },
          "metadata": {
            "tags": [],
            "needs_background": "light"
          }
        }
      ]
    },
    {
      "cell_type": "code",
      "metadata": {
        "id": "lsUjfL1OZFJ3"
      },
      "source": [
        "while True:\n",
        "    closest_centroids = df['closest'].copy(deep=True)\n",
        "    centroids = update(centroids)\n",
        "    df = assignment(df, centroids)\n",
        "    if closest_centroids.equals(df['closest']):\n",
        "        break"
      ],
      "execution_count": 35,
      "outputs": []
    },
    {
      "cell_type": "code",
      "metadata": {
        "colab": {
          "base_uri": "https://localhost:8080/",
          "height": 320
        },
        "id": "o_wqcF-TZHHI",
        "outputId": "8cc54151-378f-483a-8695-3e79a48310fa"
      },
      "source": [
        "fig = plt.figure(figsize=(5,5))\n",
        "plt.scatter(df['x'], df['y'], color=df['color'], alpha=0.5, edgecolor='k')\n",
        "for i in centroids.keys():\n",
        "    plt.scatter(*centroids[i], color=colmap[i])\n",
        "plt.show()"
      ],
      "execution_count": 36,
      "outputs": [
        {
          "output_type": "display_data",
          "data": {
            "image/png": "[encoded data removed]",
            "text/plain": [
              "<Figure size 360x360 with 1 Axes>"
            ]
          },
          "metadata": {
            "tags": [],
            "needs_background": "light"
          }
        }
      ]
    },
    {
      "cell_type": "code",
      "metadata": {
        "colab": {
          "base_uri": "https://localhost:8080/"
        },
        "id": "QzoWzGVzZJUo",
        "outputId": "96d6f93b-b756-4da3-d6b8-73384a9ce628"
      },
      "source": [
        "print(centroids)"
      ],
      "execution_count": 37,
      "outputs": [
        {
          "output_type": "stream",
          "text": [
            "{1: [2.5, 5.0], 2: [6.833333333333333, 4.0]}\n"
          ],
          "name": "stdout"
        }
      ]
    },
    {
      "cell_type": "code",
      "metadata": {
        "colab": {
          "base_uri": "https://localhost:8080/"
        },
        "id": "NHRNArqeZLU_",
        "outputId": "b4dfb853-fcf4-4522-c1fd-6e5407c37d25"
      },
      "source": [
        "from sklearn.cluster import KMeans\n",
        "df = pd.DataFrame({\n",
        "    'x': [3, 3, 2, 2, 6, 6, 7, 7, 8, 7],\n",
        "    'y': [5, 4, 8, 3, 2, 4, 3, 4, 5, 6]\n",
        "})\n",
        "kmeans = KMeans(n_clusters=2)\n",
        "kmeans.fit(df)"
      ],
      "execution_count": 38,
      "outputs": [
        {
          "output_type": "execute_result",
          "data": {
            "text/plain": [
              "KMeans(algorithm='auto', copy_x=True, init='k-means++', max_iter=300,\n",
              "       n_clusters=2, n_init=10, n_jobs=None, precompute_distances='auto',\n",
              "       random_state=None, tol=0.0001, verbose=0)"
            ]
          },
          "metadata": {
            "tags": []
          },
          "execution_count": 38
        }
      ]
    },
    {
      "cell_type": "code",
      "metadata": {
        "id": "r_HEhsqyZNXZ"
      },
      "source": [
        "labels = kmeans.predict(df)\n",
        "centroids = kmeans.cluster_centers_"
      ],
      "execution_count": 39,
      "outputs": []
    },
    {
      "cell_type": "code",
      "metadata": {
        "colab": {
          "base_uri": "https://localhost:8080/",
          "height": 320
        },
        "id": "o9XiOzeyZPVc",
        "outputId": "3d9414e8-c52a-4c15-b78f-895a0a49492d"
      },
      "source": [
        "img = plt.figure(figsize=(5,5))\n",
        "\n",
        "colors = map(lambda x: colmap[x+1], labels)\n",
        "colors1 = list(colors)\n",
        "plt.scatter(df['x'], df['y'], color=colors1, alpha=0.5, edgecolor='k')\n",
        "for idx, centroid in enumerate(centroids):\n",
        "    plt.scatter(*centroid, color=colmap[idx+1])\n",
        "plt.show()"
      ],
      "execution_count": 40,
      "outputs": [
        {
          "output_type": "display_data",
          "data": {
            "image/png": "[encoded data removed]",
            "text/plain": [
              "<Figure size 360x360 with 1 Axes>"
            ]
          },
          "metadata": {
            "tags": [],
            "needs_background": "light"
          }
        }
      ]
    },
    {
      "cell_type": "code",
      "metadata": {
        "colab": {
          "base_uri": "https://localhost:8080/"
        },
        "id": "t2XOMHUNZSjr",
        "outputId": "7c4fa5da-183d-4ed7-f8d6-d2044cafb78c"
      },
      "source": [
        "print(centroids)"
      ],
      "execution_count": 41,
      "outputs": [
        {
          "output_type": "stream",
          "text": [
            "[[6.83333333 4.        ]\n",
            " [2.5        5.        ]]\n"
          ],
          "name": "stdout"
        }
      ]
    },
    {
      "cell_type": "markdown",
      "metadata": {
        "id": "r4Usg3CNc34g"
      },
      "source": [
        "**Task-1 Question-4**"
      ]
    },
    {
      "cell_type": "code",
      "metadata": {
        "colab": {
          "base_uri": "https://localhost:8080/",
          "height": 265
        },
        "id": "xo12fB3Cc_Dg",
        "outputId": "24113722-9a85-41ce-92ff-08cfba695d41"
      },
      "source": [
        "plt.scatter(df['x'], df['y'], s=150, color = 'r')\n",
        "\n",
        "#Initialize with two centroids\n",
        "centroids = {1: [3, 2], 2: [4, 8]}\n",
        "\n",
        "colmap = {1:'y', 2:'b'}\n",
        "\n",
        "for i in centroids.keys():\n",
        "    plt.scatter(*centroids[i], s=150, color=colmap[i])\n",
        "\n",
        "plt.show()"
      ],
      "execution_count": 42,
      "outputs": [
        {
          "output_type": "display_data",
          "data": {
            "image/png": "[encoded data removed]",
            "text/plain": [
              "<Figure size 432x288 with 1 Axes>"
            ]
          },
          "metadata": {
            "tags": [],
            "needs_background": "light"
          }
        }
      ]
    },
    {
      "cell_type": "code",
      "metadata": {
        "colab": {
          "base_uri": "https://localhost:8080/",
          "height": 204
        },
        "id": "7IQKatf7dS7i",
        "outputId": "23de7d72-61cc-4a00-f90d-32c9bb50655a"
      },
      "source": [
        "def assignment(df, centroids):\n",
        "    for i in centroids.keys():\n",
        "        #Using Manhattan distance as the distance metric\n",
        "        df['distance_from_{}'.format(i)] = (     \n",
        "                abs(df['x'] - centroids[i][0]) \n",
        "                    + abs(df['y'] - centroids[i][1]))\n",
        "    centroid_distance_cols = ['distance_from_{}'.format(i) for i in centroids.keys()]\n",
        "    df['closest'] = df.loc[:, centroid_distance_cols].idxmin(axis=1)\n",
        "    df['closest'] = df['closest'].map(lambda x: int(x.lstrip('distance_from_')))\n",
        "    df['color'] = df['closest'].map(lambda x: colmap[x])\n",
        "    return df\n",
        "\n",
        "df = assignment(df, centroids)\n",
        "df.head()"
      ],
      "execution_count": 43,
      "outputs": [
        {
          "output_type": "execute_result",
          "data": {
            "text/html": [
              "<div>\n",
              "<style scoped>\n",
              "    .dataframe tbody tr th:only-of-type {\n",
              "        vertical-align: middle;\n",
              "    }\n",
              "\n",
              "    .dataframe tbody tr th {\n",
              "        vertical-align: top;\n",
              "    }\n",
              "\n",
              "    .dataframe thead th {\n",
              "        text-align: right;\n",
              "    }\n",
              "</style>\n",
              "<table border=\"1\" class=\"dataframe\">\n",
              "  <thead>\n",
              "    <tr style=\"text-align: right;\">\n",
              "      <th></th>\n",
              "      <th>x</th>\n",
              "      <th>y</th>\n",
              "      <th>distance_from_1</th>\n",
              "      <th>distance_from_2</th>\n",
              "      <th>closest</th>\n",
              "      <th>color</th>\n",
              "    </tr>\n",
              "  </thead>\n",
              "  <tbody>\n",
              "    <tr>\n",
              "      <th>0</th>\n",
              "      <td>3</td>\n",
              "      <td>5</td>\n",
              "      <td>3</td>\n",
              "      <td>4</td>\n",
              "      <td>1</td>\n",
              "      <td>y</td>\n",
              "    </tr>\n",
              "    <tr>\n",
              "      <th>1</th>\n",
              "      <td>3</td>\n",
              "      <td>4</td>\n",
              "      <td>2</td>\n",
              "      <td>5</td>\n",
              "      <td>1</td>\n",
              "      <td>y</td>\n",
              "    </tr>\n",
              "    <tr>\n",
              "      <th>2</th>\n",
              "      <td>2</td>\n",
              "      <td>8</td>\n",
              "      <td>7</td>\n",
              "      <td>2</td>\n",
              "      <td>2</td>\n",
              "      <td>b</td>\n",
              "    </tr>\n",
              "    <tr>\n",
              "      <th>3</th>\n",
              "      <td>2</td>\n",
              "      <td>3</td>\n",
              "      <td>2</td>\n",
              "      <td>7</td>\n",
              "      <td>1</td>\n",
              "      <td>y</td>\n",
              "    </tr>\n",
              "    <tr>\n",
              "      <th>4</th>\n",
              "      <td>6</td>\n",
              "      <td>2</td>\n",
              "      <td>3</td>\n",
              "      <td>8</td>\n",
              "      <td>1</td>\n",
              "      <td>y</td>\n",
              "    </tr>\n",
              "  </tbody>\n",
              "</table>\n",
              "</div>"
            ],
            "text/plain": [
              "   x  y  distance_from_1  distance_from_2  closest color\n",
              "0  3  5                3                4        1     y\n",
              "1  3  4                2                5        1     y\n",
              "2  2  8                7                2        2     b\n",
              "3  2  3                2                7        1     y\n",
              "4  6  2                3                8        1     y"
            ]
          },
          "metadata": {
            "tags": []
          },
          "execution_count": 43
        }
      ]
    },
    {
      "cell_type": "code",
      "metadata": {
        "colab": {
          "base_uri": "https://localhost:8080/",
          "height": 320
        },
        "id": "Yp-F31dvdZ57",
        "outputId": "c1121e73-b700-4287-e204-8e98326956ee"
      },
      "source": [
        "fig = plt.figure(figsize=(5,5))\n",
        "plt.scatter(df['x'], df['y'], color = df['color'], alpha=0.5, edgecolor='k')\n",
        "for i in centroids.keys():\n",
        "    plt.scatter(*centroids[i], color=colmap[i])\n",
        "\n",
        "plt.show()"
      ],
      "execution_count": 44,
      "outputs": [
        {
          "output_type": "display_data",
          "data": {
            "image/png": "[encoded data removed]",
            "text/plain": [
              "<Figure size 360x360 with 1 Axes>"
            ]
          },
          "metadata": {
            "tags": [],
            "needs_background": "light"
          }
        }
      ]
    },
    {
      "cell_type": "code",
      "metadata": {
        "colab": {
          "base_uri": "https://localhost:8080/",
          "height": 337
        },
        "id": "uQ-EiNE8dcmw",
        "outputId": "5672bacc-4238-444a-b677-4832d4af18c8"
      },
      "source": [
        "import copy\n",
        "\n",
        "old_centroids = copy.deepcopy(centroids)\n",
        "\n",
        "def update(k):\n",
        "    for i in centroids.keys():\n",
        "        centroids[i][0] = np.mean(df[df['closest'] == i]['x'])\n",
        "        centroids[i][1] = np.mean(df[df['closest'] == i]['y'])\n",
        "    return k\n",
        "\n",
        "centroids = update(centroids)\n",
        "print(centroids)\n",
        "fig = plt.figure(figsize=(5,5))\n",
        "ax = plt.axes()\n",
        "plt.scatter(df['x'], df['y'], color=df['color'], alpha=0.5, edgecolor='k')\n",
        "for i in centroids.keys():\n",
        "    plt.scatter(*centroids[i], color=colmap[i])\n",
        "plt.show()"
      ],
      "execution_count": 45,
      "outputs": [
        {
          "output_type": "stream",
          "text": [
            "{1: [4.857142857142857, 3.5714285714285716], 2: [5.666666666666667, 6.333333333333333]}\n"
          ],
          "name": "stdout"
        },
        {
          "output_type": "display_data",
          "data": {
            "image/png": "[encoded data removed]",
            "text/plain": [
              "<Figure size 360x360 with 1 Axes>"
            ]
          },
          "metadata": {
            "tags": [],
            "needs_background": "light"
          }
        }
      ]
    },
    {
      "cell_type": "code",
      "metadata": {
        "colab": {
          "base_uri": "https://localhost:8080/",
          "height": 320
        },
        "id": "FGCWxoc1df8f",
        "outputId": "5ee485c6-97e9-4724-96fc-a0600e88d969"
      },
      "source": [
        "df = assignment(df, centroids)\n",
        "\n",
        "## Plot results\n",
        "fig = plt.figure(figsize=(5,5))\n",
        "plt.scatter(df['x'], df['y'], color=df['color'], alpha=0.5, edgecolor='k')\n",
        "for i in centroids.keys():\n",
        "    plt.scatter(*centroids[i], color=colmap[i])\n",
        "plt.show()"
      ],
      "execution_count": 46,
      "outputs": [
        {
          "output_type": "display_data",
          "data": {
            "image/png": "[encoded data removed]",
            "text/plain": [
              "<Figure size 360x360 with 1 Axes>"
            ]
          },
          "metadata": {
            "tags": [],
            "needs_background": "light"
          }
        }
      ]
    },
    {
      "cell_type": "code",
      "metadata": {
        "id": "W9ttNwjCdiUS"
      },
      "source": [
        "while True:\n",
        "    closest_centroids = df['closest'].copy(deep=True)\n",
        "    centroids = update(centroids)\n",
        "    df = assignment(df, centroids)\n",
        "    if closest_centroids.equals(df['closest']):\n",
        "        break"
      ],
      "execution_count": 47,
      "outputs": []
    },
    {
      "cell_type": "code",
      "metadata": {
        "colab": {
          "base_uri": "https://localhost:8080/",
          "height": 320
        },
        "id": "rxSm0L04dkR4",
        "outputId": "8c9babb2-8f88-4a0b-e7f0-56c31bfa4f37"
      },
      "source": [
        "fig = plt.figure(figsize=(5,5))\n",
        "plt.scatter(df['x'], df['y'], color=df['color'], alpha=0.5, edgecolor='k')\n",
        "for i in centroids.keys():\n",
        "    plt.scatter(*centroids[i], color=colmap[i])\n",
        "plt.show()"
      ],
      "execution_count": 48,
      "outputs": [
        {
          "output_type": "display_data",
          "data": {
            "image/png": "[encoded data removed]",
            "text/plain": [
              "<Figure size 360x360 with 1 Axes>"
            ]
          },
          "metadata": {
            "tags": [],
            "needs_background": "light"
          }
        }
      ]
    },
    {
      "cell_type": "code",
      "metadata": {
        "colab": {
          "base_uri": "https://localhost:8080/"
        },
        "id": "ph1yYv6odmgD",
        "outputId": "c9cda179-be17-46a5-cb25-099f290a7331"
      },
      "source": [
        "print(centroids)"
      ],
      "execution_count": 49,
      "outputs": [
        {
          "output_type": "stream",
          "text": [
            "{1: [4.857142857142857, 3.5714285714285716], 2: [5.666666666666667, 6.333333333333333]}\n"
          ],
          "name": "stdout"
        }
      ]
    },
    {
      "cell_type": "code",
      "metadata": {
        "colab": {
          "base_uri": "https://localhost:8080/"
        },
        "id": "4c-MHZWZdoZV",
        "outputId": "fa3b5ce3-48cb-4d79-b0fe-e9f4916c714d"
      },
      "source": [
        "from sklearn.cluster import KMeans\n",
        "df = pd.DataFrame({\n",
        "    'x': [3, 3, 2, 2, 6, 6, 7, 7, 8, 7],\n",
        "    'y': [5, 4, 8, 3, 2, 4, 3, 4, 5, 6]\n",
        "})\n",
        "kmeans = KMeans(n_clusters=2)\n",
        "kmeans.fit(df)"
      ],
      "execution_count": 50,
      "outputs": [
        {
          "output_type": "execute_result",
          "data": {
            "text/plain": [
              "KMeans(algorithm='auto', copy_x=True, init='k-means++', max_iter=300,\n",
              "       n_clusters=2, n_init=10, n_jobs=None, precompute_distances='auto',\n",
              "       random_state=None, tol=0.0001, verbose=0)"
            ]
          },
          "metadata": {
            "tags": []
          },
          "execution_count": 50
        }
      ]
    },
    {
      "cell_type": "code",
      "metadata": {
        "id": "Fz_oVXxYdqcK"
      },
      "source": [
        "labels = kmeans.predict(df)\n",
        "centroids = kmeans.cluster_centers_"
      ],
      "execution_count": 51,
      "outputs": []
    },
    {
      "cell_type": "code",
      "metadata": {
        "colab": {
          "base_uri": "https://localhost:8080/",
          "height": 320
        },
        "id": "ASMjt-L6dsUp",
        "outputId": "d7c62cde-89ca-4016-f4c1-25e47d8217cf"
      },
      "source": [
        "img = plt.figure(figsize=(5,5))\n",
        "\n",
        "colors = map(lambda x: colmap[x+1], labels)\n",
        "colors1 = list(colors)\n",
        "plt.scatter(df['x'], df['y'], color=colors1, alpha=0.5, edgecolor='k')\n",
        "for idx, centroid in enumerate(centroids):\n",
        "    plt.scatter(*centroid, color=colmap[idx+1])\n",
        "plt.show()"
      ],
      "execution_count": 52,
      "outputs": [
        {
          "output_type": "display_data",
          "data": {
            "image/png": "[encoded data removed]",
            "text/plain": [
              "<Figure size 360x360 with 1 Axes>"
            ]
          },
          "metadata": {
            "tags": [],
            "needs_background": "light"
          }
        }
      ]
    },
    {
      "cell_type": "code",
      "metadata": {
        "colab": {
          "base_uri": "https://localhost:8080/"
        },
        "id": "RbkBEfbTdvWt",
        "outputId": "dc4d3695-c02f-4a61-eb48-b7f13d6e2a92"
      },
      "source": [
        "print(centroids)"
      ],
      "execution_count": 53,
      "outputs": [
        {
          "output_type": "stream",
          "text": [
            "[[6.83333333 4.        ]\n",
            " [2.5        5.        ]]\n"
          ],
          "name": "stdout"
        }
      ]
    }
  ]
}