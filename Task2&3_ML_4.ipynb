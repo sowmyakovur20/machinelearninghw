{
  "nbformat": 4,
  "nbformat_minor": 0,
  "metadata": {
    "colab": {
      "name": "Task2&3-ML-4.ipynb",
      "provenance": [],
      "authorship_tag": "ABX9TyPjpJiBd1TybWet2Y+hpTmE",
      "include_colab_link": true
    },
    "kernelspec": {
      "name": "python3",
      "display_name": "Python 3"
    }
  },
  "cells": [
    {
      "cell_type": "markdown",
      "metadata": {
        "id": "view-in-github",
        "colab_type": "text"
      },
      "source": [
        "<a href=\"https://colab.research.google.com/github/sowmyakovur20/machinelearninghw/blob/main/Task2%263_ML_4.ipynb\" target=\"_parent\"><img src=\"https://colab.research.google.com/assets/colab-badge.svg\" alt=\"Open In Colab\"/></a>"
      ]
    },
    {
      "cell_type": "code",
      "metadata": {
        "id": "zxPd03ISouSJ"
      },
      "source": [
        "import pandas as pd\n",
        "import numpy as np\n",
        "import matplotlib.pyplot as plt\n",
        "import plotly.express as px \n",
        "from sklearn.datasets import load_iris\n",
        "from sklearn.cluster import KMeans\n",
        "import time\n",
        "import random"
      ],
      "execution_count": 1299,
      "outputs": []
    },
    {
      "cell_type": "code",
      "metadata": {
        "id": "iKHavWXm5lPZ"
      },
      "source": [
        "from sklearn.datasets import load_iris\n",
        "iris = load_iris()\n",
        "iris_data = pd.DataFrame(iris.data, columns = iris.feature_names)"
      ],
      "execution_count": 1300,
      "outputs": []
    },
    {
      "cell_type": "code",
      "metadata": {
        "colab": {
          "base_uri": "https://localhost:8080/",
          "height": 419
        },
        "id": "neNK0aYf393U",
        "outputId": "d4bbe39f-93ef-4be8-bb2e-d6fd4da1baa0"
      },
      "source": [
        "iris_data['label'] = iris.target\n",
        "iris_data.head(100)"
      ],
      "execution_count": 1301,
      "outputs": [
        {
          "output_type": "execute_result",
          "data": {
            "text/html": [
              "<div>\n",
              "<style scoped>\n",
              "    .dataframe tbody tr th:only-of-type {\n",
              "        vertical-align: middle;\n",
              "    }\n",
              "\n",
              "    .dataframe tbody tr th {\n",
              "        vertical-align: top;\n",
              "    }\n",
              "\n",
              "    .dataframe thead th {\n",
              "        text-align: right;\n",
              "    }\n",
              "</style>\n",
              "<table border=\"1\" class=\"dataframe\">\n",
              "  <thead>\n",
              "    <tr style=\"text-align: right;\">\n",
              "      <th></th>\n",
              "      <th>sepal length (cm)</th>\n",
              "      <th>sepal width (cm)</th>\n",
              "      <th>petal length (cm)</th>\n",
              "      <th>petal width (cm)</th>\n",
              "      <th>label</th>\n",
              "    </tr>\n",
              "  </thead>\n",
              "  <tbody>\n",
              "    <tr>\n",
              "      <th>0</th>\n",
              "      <td>5.1</td>\n",
              "      <td>3.5</td>\n",
              "      <td>1.4</td>\n",
              "      <td>0.2</td>\n",
              "      <td>0</td>\n",
              "    </tr>\n",
              "    <tr>\n",
              "      <th>1</th>\n",
              "      <td>4.9</td>\n",
              "      <td>3.0</td>\n",
              "      <td>1.4</td>\n",
              "      <td>0.2</td>\n",
              "      <td>0</td>\n",
              "    </tr>\n",
              "    <tr>\n",
              "      <th>2</th>\n",
              "      <td>4.7</td>\n",
              "      <td>3.2</td>\n",
              "      <td>1.3</td>\n",
              "      <td>0.2</td>\n",
              "      <td>0</td>\n",
              "    </tr>\n",
              "    <tr>\n",
              "      <th>3</th>\n",
              "      <td>4.6</td>\n",
              "      <td>3.1</td>\n",
              "      <td>1.5</td>\n",
              "      <td>0.2</td>\n",
              "      <td>0</td>\n",
              "    </tr>\n",
              "    <tr>\n",
              "      <th>4</th>\n",
              "      <td>5.0</td>\n",
              "      <td>3.6</td>\n",
              "      <td>1.4</td>\n",
              "      <td>0.2</td>\n",
              "      <td>0</td>\n",
              "    </tr>\n",
              "    <tr>\n",
              "      <th>...</th>\n",
              "      <td>...</td>\n",
              "      <td>...</td>\n",
              "      <td>...</td>\n",
              "      <td>...</td>\n",
              "      <td>...</td>\n",
              "    </tr>\n",
              "    <tr>\n",
              "      <th>95</th>\n",
              "      <td>5.7</td>\n",
              "      <td>3.0</td>\n",
              "      <td>4.2</td>\n",
              "      <td>1.2</td>\n",
              "      <td>1</td>\n",
              "    </tr>\n",
              "    <tr>\n",
              "      <th>96</th>\n",
              "      <td>5.7</td>\n",
              "      <td>2.9</td>\n",
              "      <td>4.2</td>\n",
              "      <td>1.3</td>\n",
              "      <td>1</td>\n",
              "    </tr>\n",
              "    <tr>\n",
              "      <th>97</th>\n",
              "      <td>6.2</td>\n",
              "      <td>2.9</td>\n",
              "      <td>4.3</td>\n",
              "      <td>1.3</td>\n",
              "      <td>1</td>\n",
              "    </tr>\n",
              "    <tr>\n",
              "      <th>98</th>\n",
              "      <td>5.1</td>\n",
              "      <td>2.5</td>\n",
              "      <td>3.0</td>\n",
              "      <td>1.1</td>\n",
              "      <td>1</td>\n",
              "    </tr>\n",
              "    <tr>\n",
              "      <th>99</th>\n",
              "      <td>5.7</td>\n",
              "      <td>2.8</td>\n",
              "      <td>4.1</td>\n",
              "      <td>1.3</td>\n",
              "      <td>1</td>\n",
              "    </tr>\n",
              "  </tbody>\n",
              "</table>\n",
              "<p>100 rows × 5 columns</p>\n",
              "</div>"
            ],
            "text/plain": [
              "    sepal length (cm)  sepal width (cm)  ...  petal width (cm)  label\n",
              "0                 5.1               3.5  ...               0.2      0\n",
              "1                 4.9               3.0  ...               0.2      0\n",
              "2                 4.7               3.2  ...               0.2      0\n",
              "3                 4.6               3.1  ...               0.2      0\n",
              "4                 5.0               3.6  ...               0.2      0\n",
              "..                ...               ...  ...               ...    ...\n",
              "95                5.7               3.0  ...               1.2      1\n",
              "96                5.7               2.9  ...               1.3      1\n",
              "97                6.2               2.9  ...               1.3      1\n",
              "98                5.1               2.5  ...               1.1      1\n",
              "99                5.7               2.8  ...               1.3      1\n",
              "\n",
              "[100 rows x 5 columns]"
            ]
          },
          "metadata": {
            "tags": []
          },
          "execution_count": 1301
        }
      ]
    },
    {
      "cell_type": "code",
      "metadata": {
        "colab": {
          "base_uri": "https://localhost:8080/"
        },
        "id": "xSlTDR1J4PXJ",
        "outputId": "806551af-48e6-488c-9c56-b1728af0b8b2"
      },
      "source": [
        "iris_data['label'].value_counts()"
      ],
      "execution_count": 1302,
      "outputs": [
        {
          "output_type": "execute_result",
          "data": {
            "text/plain": [
              "2    50\n",
              "1    50\n",
              "0    50\n",
              "Name: label, dtype: int64"
            ]
          },
          "metadata": {
            "tags": []
          },
          "execution_count": 1302
        }
      ]
    },
    {
      "cell_type": "code",
      "metadata": {
        "colab": {
          "base_uri": "https://localhost:8080/"
        },
        "id": "3YSJLhI94ThJ",
        "outputId": "07c975ce-0f3d-48bc-99ef-3c667d6fc7eb"
      },
      "source": [
        "points_t2 = iris_data.iloc[:,:-1].values\n",
        "points_t2[0:5]"
      ],
      "execution_count": 1303,
      "outputs": [
        {
          "output_type": "execute_result",
          "data": {
            "text/plain": [
              "array([[5.1, 3.5, 1.4, 0.2],\n",
              "       [4.9, 3. , 1.4, 0.2],\n",
              "       [4.7, 3.2, 1.3, 0.2],\n",
              "       [4.6, 3.1, 1.5, 0.2],\n",
              "       [5. , 3.6, 1.4, 0.2]])"
            ]
          },
          "metadata": {
            "tags": []
          },
          "execution_count": 1303
        }
      ]
    },
    {
      "cell_type": "code",
      "metadata": {
        "id": "WIr2XN9N8lwm"
      },
      "source": [
        "def euclidean(p1,p2):\n",
        "  return np.linalg.norm(p1 - p2)"
      ],
      "execution_count": 1304,
      "outputs": []
    },
    {
      "cell_type": "code",
      "metadata": {
        "id": "ZtDjwpKz8mfr"
      },
      "source": [
        "def manhattan(p1,p2):\n",
        "  return np.abs(p1 - p2).sum()"
      ],
      "execution_count": 1305,
      "outputs": []
    },
    {
      "cell_type": "code",
      "metadata": {
        "id": "kj1lK3h18pl2"
      },
      "source": [
        "def cosine(p1,p2):\n",
        "  num = np.dot(p1,p2)\n",
        "  den = np.linalg.norm(p1) * np.linalg.norm(p2)\n",
        "  return 1 - (num/den)"
      ],
      "execution_count": 1306,
      "outputs": []
    },
    {
      "cell_type": "code",
      "metadata": {
        "id": "-0rBVv1s8sEF"
      },
      "source": [
        "def jaccard(p1,p2):\n",
        "  jc_num = 0\n",
        "  jc_den = 0\n",
        "  for n in range(0,len(p1)):\n",
        "    jc_num = jc_num + min(p1[n],p2[n])\n",
        "  for d in range(0,len(p1)):\n",
        "    jc_den = jc_den + max(p1[d],p2[d])\n",
        "  return 1 - (jc_num/jc_den)"
      ],
      "execution_count": 1307,
      "outputs": []
    },
    {
      "cell_type": "code",
      "metadata": {
        "id": "tC_walcX6J6B"
      },
      "source": [
        "#Initializing Centroids for KMeans\n",
        "def get_initial_centroids(points,n):\n",
        "  p_list = points.tolist()\n",
        "  c = []\n",
        "  for i in range(0,n):\n",
        "    r = random.randint(0,len(p_list)-1)\n",
        "    random.shuffle(p_list)\n",
        "    c.append(p_list[r])\n",
        "  return np.array(c)"
      ],
      "execution_count": 1308,
      "outputs": []
    },
    {
      "cell_type": "code",
      "metadata": {
        "id": "fxIr2n1K8SzQ"
      },
      "source": [
        "#Calculating SSE for KMeans\n",
        "def sse(centroids,points):\n",
        "  sse_kmeans = 0\n",
        "  for i in range(0,len(centroids)):\n",
        "    points_array = points[points['cluster'] == i].iloc[:,:-1].values\n",
        "    for j in range(0,len(points_array)):\n",
        "      sse_kmeans += euclidean(centroids[i],points_array[j])\n",
        "  return sse_kmeans"
      ],
      "execution_count": 1309,
      "outputs": []
    },
    {
      "cell_type": "code",
      "metadata": {
        "id": "pG6XrYJ68Swm"
      },
      "source": [
        "#Computing Centroid\n",
        "def centroid(points):\n",
        "  total = points.shape[0]\n",
        "  c = []\n",
        "  for i in range(0,points.shape[1]):\n",
        "    c.append(np.sum(points[:,i])/total)\n",
        "  return np.array(c)"
      ],
      "execution_count": 1310,
      "outputs": []
    },
    {
      "cell_type": "code",
      "metadata": {
        "id": "n6FSkZSg8Stx"
      },
      "source": [
        "#Implementation of KMeans algorithm\n",
        "def kmeans(points, distance, centroids, max_iter = None):\n",
        "  labels = [range(0,len(centroids))]\n",
        "  df_points = pd.DataFrame(points)\n",
        "  iterations = 0\n",
        "  sse_k = []\n",
        "\n",
        "  while True:\n",
        "    if iterations != 0:\n",
        "      centroids = centroids_new\n",
        "\n",
        "    labels = []\n",
        "    for i in range(0,len(points)):\n",
        "      d = []\n",
        "      for j in centroids:\n",
        "        d.append(distance(points[i],j))\n",
        "      labels.append(np.argmin(d))\n",
        "    df_points['cluster'] = labels\n",
        "\n",
        "    c_new = []\n",
        "    for k in range(0,len(centroids)):\n",
        "      c_new.append(centroid(df_points[df_points['cluster'] == k].iloc[:,:-1].values))\n",
        "\n",
        "    centroids_new = np.array(c_new)\n",
        "\n",
        "    sse_k.append(sse(centroids_new, df_points))\n",
        "\n",
        "    if iterations == 0:\n",
        "      centroids_all = [centroids_new]\n",
        "    else:\n",
        "      centroids_all.append(centroids_new)\n",
        "   \n",
        "    if (centroids == centroids_new).all() and max_iter == None:\n",
        "      break\n",
        "    elif max_iter == iterations:\n",
        "      break\n",
        "\n",
        "    iterations = iterations + 1\n",
        "  \n",
        "  return df_points, centroids_all, iterations, sse_k"
      ],
      "execution_count": 1311,
      "outputs": []
    },
    {
      "cell_type": "code",
      "metadata": {
        "colab": {
          "base_uri": "https://localhost:8080/"
        },
        "id": "ePCTigjt653z",
        "outputId": "893fb42d-d46d-46e3-cf9a-b4547f4d3fe0"
      },
      "source": [
        "#Centroids(Initial)\n",
        "centroids_t2 = get_initial_centroids(points_t2,3)\n",
        "centroids_t2"
      ],
      "execution_count": 1312,
      "outputs": [
        {
          "output_type": "execute_result",
          "data": {
            "text/plain": [
              "array([[5.5, 2.3, 4. , 1.3],\n",
              "       [5.4, 3.4, 1.7, 0.2],\n",
              "       [6. , 2.9, 4.5, 1.5]])"
            ]
          },
          "metadata": {
            "tags": []
          },
          "execution_count": 1312
        }
      ]
    },
    {
      "cell_type": "markdown",
      "metadata": {
        "id": "VNrhFZTz7Nso"
      },
      "source": [
        "**Task-2 Question-1**"
      ]
    },
    {
      "cell_type": "code",
      "metadata": {
        "id": "cQhAGDsq7Jm4"
      },
      "source": [
        "t1_start = time.time()\n",
        "data1_t2, c1_t2_all, iter1_t2, sse1_t2 = kmeans(points_t2,euclidean,centroids_t2)\n",
        "t1_end = time.time()"
      ],
      "execution_count": 1313,
      "outputs": []
    },
    {
      "cell_type": "code",
      "metadata": {
        "colab": {
          "base_uri": "https://localhost:8080/"
        },
        "id": "Oz4qFGhi8yt4",
        "outputId": "6f6f373e-c7af-4bd6-ea03-142cec32633e"
      },
      "source": [
        "#Final centroids\n",
        "print('Final centroids \\n', c1_t2_all[-1])"
      ],
      "execution_count": 1314,
      "outputs": [
        {
          "output_type": "stream",
          "text": [
            "Final centroids \n",
            " [[5.88360656 2.74098361 4.38852459 1.43442623]\n",
            " [5.006      3.428      1.462      0.246     ]\n",
            " [6.85384615 3.07692308 5.71538462 2.05384615]]\n"
          ],
          "name": "stdout"
        }
      ]
    },
    {
      "cell_type": "code",
      "metadata": {
        "colab": {
          "base_uri": "https://localhost:8080/"
        },
        "id": "GTnJl6kj82p6",
        "outputId": "8333777b-48de-4939-b847-990480e58168"
      },
      "source": [
        "#Predicted labels\n",
        "data1_t2['cluster'].value_counts()"
      ],
      "execution_count": 1315,
      "outputs": [
        {
          "output_type": "execute_result",
          "data": {
            "text/plain": [
              "0    61\n",
              "1    50\n",
              "2    39\n",
              "Name: cluster, dtype: int64"
            ]
          },
          "metadata": {
            "tags": []
          },
          "execution_count": 1315
        }
      ]
    },
    {
      "cell_type": "code",
      "metadata": {
        "colab": {
          "base_uri": "https://localhost:8080/"
        },
        "id": "Zp-Fs4Lk84n6",
        "outputId": "2f208b2a-5b6e-4dcb-c661-4f89b96962fc"
      },
      "source": [
        "#SSE\n",
        "sse1_t2[-1]"
      ],
      "execution_count": 1316,
      "outputs": [
        {
          "output_type": "execute_result",
          "data": {
            "text/plain": [
              "97.22486903387325"
            ]
          },
          "metadata": {
            "tags": []
          },
          "execution_count": 1316
        }
      ]
    },
    {
      "cell_type": "markdown",
      "metadata": {
        "id": "JaGApCjP9_XS"
      },
      "source": [
        "**Cosine Distance**"
      ]
    },
    {
      "cell_type": "code",
      "metadata": {
        "id": "11FrXtRr-BPY"
      },
      "source": [
        "t2_start = time.time()\n",
        "data2_t2, c2_t2_all, iter2_t2, sse2_t2 = kmeans(points_t2,cosine,centroids_t2)\n",
        "t2_end = time.time()"
      ],
      "execution_count": 1317,
      "outputs": []
    },
    {
      "cell_type": "code",
      "metadata": {
        "colab": {
          "base_uri": "https://localhost:8080/"
        },
        "id": "ChjJwJj2-DVR",
        "outputId": "f9625ec6-fc0b-4979-c9e7-f7a0db320163"
      },
      "source": [
        "#Final centroids\n",
        "print('Final centroids \\n', c2_t2_all[-1])"
      ],
      "execution_count": 1318,
      "outputs": [
        {
          "output_type": "stream",
          "text": [
            "Final centroids \n",
            " [[5.94666667 2.75777778 4.20444444 1.29777778]\n",
            " [5.006      3.428      1.462      0.246     ]\n",
            " [6.52       2.96545455 5.48       1.98545455]]\n"
          ],
          "name": "stdout"
        }
      ]
    },
    {
      "cell_type": "code",
      "metadata": {
        "colab": {
          "base_uri": "https://localhost:8080/"
        },
        "id": "3pSabE9k-EVY",
        "outputId": "450ec395-1a5c-41a1-ccd4-1a71d5632772"
      },
      "source": [
        "#Predicted labels\n",
        "data2_t2['cluster'].value_counts()"
      ],
      "execution_count": 1319,
      "outputs": [
        {
          "output_type": "execute_result",
          "data": {
            "text/plain": [
              "2    55\n",
              "1    50\n",
              "0    45\n",
              "Name: cluster, dtype: int64"
            ]
          },
          "metadata": {
            "tags": []
          },
          "execution_count": 1319
        }
      ]
    },
    {
      "cell_type": "code",
      "metadata": {
        "colab": {
          "base_uri": "https://localhost:8080/"
        },
        "id": "dyExm0eN-H33",
        "outputId": "a572ce2b-4340-4987-a24c-96ef682f2771"
      },
      "source": [
        "#SSE\n",
        "sse2_t2[-1]"
      ],
      "execution_count": 1320,
      "outputs": [
        {
          "output_type": "execute_result",
          "data": {
            "text/plain": [
              "102.2982582163916"
            ]
          },
          "metadata": {
            "tags": []
          },
          "execution_count": 1320
        }
      ]
    },
    {
      "cell_type": "code",
      "metadata": {
        "id": "E7Xx45oY-JDC"
      },
      "source": [
        "t3_start = time.time()\n",
        "data3_t2, c3_t2_all, iter3_t2, sse3_t2 = kmeans(points_t2,jaccard,centroids_t2)\n",
        "t3_end = time.time()"
      ],
      "execution_count": 1321,
      "outputs": []
    },
    {
      "cell_type": "code",
      "metadata": {
        "colab": {
          "base_uri": "https://localhost:8080/"
        },
        "id": "JzwtJXVN-K53",
        "outputId": "9009b9f6-32d8-4ab1-f60b-79ada139aa35"
      },
      "source": [
        "#Final centroids\n",
        "print('Final centroids \\n', c3_t2_all[-1])"
      ],
      "execution_count": 1322,
      "outputs": [
        {
          "output_type": "stream",
          "text": [
            "Final centroids \n",
            " [[5.69210526 2.66578947 4.11578947 1.27368421]\n",
            " [5.006      3.428      1.462      0.246     ]\n",
            " [6.61129032 2.9983871  5.39032258 1.92258065]]\n"
          ],
          "name": "stdout"
        }
      ]
    },
    {
      "cell_type": "code",
      "metadata": {
        "colab": {
          "base_uri": "https://localhost:8080/"
        },
        "id": "iXX6qPQG-Q27",
        "outputId": "0b7f7385-1792-4f94-f0ca-0ecb01217dd7"
      },
      "source": [
        "#Predicted labels\n",
        "data3_t2['cluster'].value_counts()"
      ],
      "execution_count": 1323,
      "outputs": [
        {
          "output_type": "execute_result",
          "data": {
            "text/plain": [
              "2    62\n",
              "1    50\n",
              "0    38\n",
              "Name: cluster, dtype: int64"
            ]
          },
          "metadata": {
            "tags": []
          },
          "execution_count": 1323
        }
      ]
    },
    {
      "cell_type": "code",
      "metadata": {
        "colab": {
          "base_uri": "https://localhost:8080/"
        },
        "id": "YAvFEii_-Trm",
        "outputId": "8533ac67-4c28-4123-d20a-88cea8a4a0a1"
      },
      "source": [
        "#SSE\n",
        "sse3_t2[-1]"
      ],
      "execution_count": 1324,
      "outputs": [
        {
          "output_type": "execute_result",
          "data": {
            "text/plain": [
              "98.22849172595194"
            ]
          },
          "metadata": {
            "tags": []
          },
          "execution_count": 1324
        }
      ]
    },
    {
      "cell_type": "markdown",
      "metadata": {
        "id": "GY3ieLi2-XST"
      },
      "source": [
        "**Task-2 Question-2**"
      ]
    },
    {
      "cell_type": "code",
      "metadata": {
        "id": "CyxbUPw4-XAv"
      },
      "source": [
        "original_label_count = [50,50,50]\n",
        "total = sum(original_label_count)"
      ],
      "execution_count": 1325,
      "outputs": []
    },
    {
      "cell_type": "code",
      "metadata": {
        "colab": {
          "base_uri": "https://localhost:8080/"
        },
        "id": "CiYT96l3-bvp",
        "outputId": "947c38a8-00ad-4a86-f3ea-83004081c639"
      },
      "source": [
        "#Accuracy using Euclidean\n",
        "label_count_e = data1_t2['cluster'].value_counts()\n",
        "\n",
        "wrong = 0\n",
        "for i in range(0,len(original_label_count)):\n",
        "  if original_label_count[i] < label_count_e[i]:\n",
        "    wrong += label_count_e[i] - original_label_count[i]\n",
        "\n",
        "accuracy_e = (total - wrong) / total\n",
        "print(accuracy_e*100)"
      ],
      "execution_count": 1326,
      "outputs": [
        {
          "output_type": "stream",
          "text": [
            "92.66666666666666\n"
          ],
          "name": "stdout"
        }
      ]
    },
    {
      "cell_type": "code",
      "metadata": {
        "colab": {
          "base_uri": "https://localhost:8080/"
        },
        "id": "mmyPul_G-dwp",
        "outputId": "dede566a-efb5-4e24-e3cd-08841d01b733"
      },
      "source": [
        "#Accuracy using Cosine\n",
        "label_count_c = data2_t2['cluster'].value_counts()\n",
        "\n",
        "wrong = 0\n",
        "for i in range(0,len(original_label_count)):\n",
        "  if original_label_count[i] < label_count_c[i]:\n",
        "    wrong += label_count_c[i] - original_label_count[i]\n",
        "\n",
        "accuracy_c = (total - wrong) / total\n",
        "print(accuracy_c*100)"
      ],
      "execution_count": 1327,
      "outputs": [
        {
          "output_type": "stream",
          "text": [
            "96.66666666666667\n"
          ],
          "name": "stdout"
        }
      ]
    },
    {
      "cell_type": "code",
      "metadata": {
        "colab": {
          "base_uri": "https://localhost:8080/"
        },
        "id": "QI_Y67Vt-f6z",
        "outputId": "c53031bc-1e03-4365-9ffb-fdcda26ba4b8"
      },
      "source": [
        "#Accuracy using Jaccard\n",
        "label_count_j = data3_t2['cluster'].value_counts()\n",
        "\n",
        "wrong = 0\n",
        "for i in range(0,len(original_label_count)):\n",
        "  if original_label_count[i] < label_count_j[i]:\n",
        "    wrong += label_count_j[i] - original_label_count[i]\n",
        "\n",
        "accuracy_j = (total - wrong) / total\n",
        "print(accuracy_j*100)"
      ],
      "execution_count": 1328,
      "outputs": [
        {
          "output_type": "stream",
          "text": [
            "92.0\n"
          ],
          "name": "stdout"
        }
      ]
    },
    {
      "cell_type": "markdown",
      "metadata": {
        "id": "WKShiSem-jZn"
      },
      "source": [
        "Task-2 Question-3"
      ]
    },
    {
      "cell_type": "code",
      "metadata": {
        "colab": {
          "base_uri": "https://localhost:8080/"
        },
        "id": "SZmGOOOB-jIe",
        "outputId": "5fd9fd6e-5c70-4520-b1c3-d97e28d3fb1f"
      },
      "source": [
        "iter1_t2"
      ],
      "execution_count": 1329,
      "outputs": [
        {
          "output_type": "execute_result",
          "data": {
            "text/plain": [
              "10"
            ]
          },
          "metadata": {
            "tags": []
          },
          "execution_count": 1329
        }
      ]
    },
    {
      "cell_type": "code",
      "metadata": {
        "colab": {
          "base_uri": "https://localhost:8080/"
        },
        "id": "nWmtlwcb-iWZ",
        "outputId": "d0e9622c-2c0b-4b0b-f258-0490bc384587"
      },
      "source": [
        "iter2_t2"
      ],
      "execution_count": 1330,
      "outputs": [
        {
          "output_type": "execute_result",
          "data": {
            "text/plain": [
              "6"
            ]
          },
          "metadata": {
            "tags": []
          },
          "execution_count": 1330
        }
      ]
    },
    {
      "cell_type": "code",
      "metadata": {
        "colab": {
          "base_uri": "https://localhost:8080/"
        },
        "id": "6wv4lmWR-qla",
        "outputId": "853632a8-6ee9-4db2-8ce7-671735478063"
      },
      "source": [
        "iter3_t2"
      ],
      "execution_count": 1331,
      "outputs": [
        {
          "output_type": "execute_result",
          "data": {
            "text/plain": [
              "5"
            ]
          },
          "metadata": {
            "tags": []
          },
          "execution_count": 1331
        }
      ]
    },
    {
      "cell_type": "code",
      "metadata": {
        "colab": {
          "base_uri": "https://localhost:8080/"
        },
        "id": "csoaEFXw-sYi",
        "outputId": "f637afdc-4adf-4830-bafe-2a80c6f0e0b3"
      },
      "source": [
        "#Execution time using Euclidean\n",
        "t1_end - t1_start"
      ],
      "execution_count": 1332,
      "outputs": [
        {
          "output_type": "execute_result",
          "data": {
            "text/plain": [
              "0.22950530052185059"
            ]
          },
          "metadata": {
            "tags": []
          },
          "execution_count": 1332
        }
      ]
    },
    {
      "cell_type": "code",
      "metadata": {
        "colab": {
          "base_uri": "https://localhost:8080/"
        },
        "id": "PZnYkDS3-u9h",
        "outputId": "f2528fbf-1f7f-4c50-ab81-caa4db2052e8"
      },
      "source": [
        "#Execution time using Cosine\n",
        "t2_end - t2_start"
      ],
      "execution_count": 1333,
      "outputs": [
        {
          "output_type": "execute_result",
          "data": {
            "text/plain": [
              "0.11236238479614258"
            ]
          },
          "metadata": {
            "tags": []
          },
          "execution_count": 1333
        }
      ]
    },
    {
      "cell_type": "code",
      "metadata": {
        "colab": {
          "base_uri": "https://localhost:8080/"
        },
        "id": "4Y5vmQAR-xG6",
        "outputId": "3bfe0bde-a95e-4ac2-dba3-78e93f8bd2ad"
      },
      "source": [
        "#Execution time using Jaccard\n",
        "t3_end - t3_start"
      ],
      "execution_count": 1334,
      "outputs": [
        {
          "output_type": "execute_result",
          "data": {
            "text/plain": [
              "0.1364302635192871"
            ]
          },
          "metadata": {
            "tags": []
          },
          "execution_count": 1334
        }
      ]
    },
    {
      "cell_type": "markdown",
      "metadata": {
        "id": "1cGHQ7jP-zqg"
      },
      "source": [
        "**Task-2 Question-4**"
      ]
    },
    {
      "cell_type": "code",
      "metadata": {
        "id": "pkVroCyg-2_y"
      },
      "source": [
        "t1_start_100 = time.time()\n",
        "data1_t2_100, c1_t2_all_100, iter1_t2_100, sse1_t2_100 = kmeans(points_t2,euclidean,centroids_t2,100)\n",
        "t1_end_100 = time.time()"
      ],
      "execution_count": 1335,
      "outputs": []
    },
    {
      "cell_type": "code",
      "metadata": {
        "colab": {
          "base_uri": "https://localhost:8080/"
        },
        "id": "qzv_ZNJo-5cf",
        "outputId": "7fd42ff1-6a5d-416e-a554-15dcc9e8e41d"
      },
      "source": [
        "#Execution time using Euclidean for max_iter = 100\n",
        "t1_end_100 - t1_start_100"
      ],
      "execution_count": 1336,
      "outputs": [
        {
          "output_type": "execute_result",
          "data": {
            "text/plain": [
              "1.1677055358886719"
            ]
          },
          "metadata": {
            "tags": []
          },
          "execution_count": 1336
        }
      ]
    },
    {
      "cell_type": "code",
      "metadata": {
        "id": "l5W1Fiam-7WC"
      },
      "source": [
        "t2_start_100 = time.time()\n",
        "data2_t2_100, c2_t2_all_100, iter2_t2_100, sse2_t2_100 = kmeans(points_t2,cosine,centroids_t2,100)\n",
        "t2_end_100 = time.time()"
      ],
      "execution_count": 1337,
      "outputs": []
    },
    {
      "cell_type": "code",
      "metadata": {
        "colab": {
          "base_uri": "https://localhost:8080/"
        },
        "id": "5ldW9eFi-_14",
        "outputId": "438627ac-6a1b-44ea-aaf7-e22df5061079"
      },
      "source": [
        "#Execution time using Cosine for max_iter = 100\n",
        "t2_end_100 - t2_start_100"
      ],
      "execution_count": 1338,
      "outputs": [
        {
          "output_type": "execute_result",
          "data": {
            "text/plain": [
              "1.4773423671722412"
            ]
          },
          "metadata": {
            "tags": []
          },
          "execution_count": 1338
        }
      ]
    },
    {
      "cell_type": "code",
      "metadata": {
        "id": "eGeL6Zfo_Blm"
      },
      "source": [
        "t3_start_100 = time.time()\n",
        "data3_t2_100, c3_t2_all_100, iter3_t2_100, sse3_t2_100 = kmeans(points_t2,jaccard,centroids_t2,100)\n",
        "t3_end_100 = time.time()"
      ],
      "execution_count": 1339,
      "outputs": []
    },
    {
      "cell_type": "code",
      "metadata": {
        "colab": {
          "base_uri": "https://localhost:8080/"
        },
        "id": "byWdP16-_DmV",
        "outputId": "2ecafad0-9cf1-4057-fc8e-47b3e5b04fe5"
      },
      "source": [
        "#Execution time using Jaccard for max_iter = 100\n",
        "t3_end_100 - t3_start_100"
      ],
      "execution_count": 1340,
      "outputs": [
        {
          "output_type": "execute_result",
          "data": {
            "text/plain": [
              "1.2864749431610107"
            ]
          },
          "metadata": {
            "tags": []
          },
          "execution_count": 1340
        }
      ]
    },
    {
      "cell_type": "code",
      "metadata": {
        "colab": {
          "base_uri": "https://localhost:8080/",
          "height": 279
        },
        "id": "azgweggY_FcA",
        "outputId": "30cdfe2e-69b4-440d-9180-501012204a75"
      },
      "source": [
        "x = list(range(0,101))\n",
        "plt.plot(x,sse1_t2_100, color = 'green')\n",
        "plt.plot(x,sse2_t2_100, color = 'blue')\n",
        "plt.plot(x,sse3_t2_100, color = 'red')\n",
        "plt.xlabel('Iterations')\n",
        "plt.ylabel('SSE')\n",
        "plt.legend(('Euclidean', 'Cosine', 'Jaccard'))\n",
        "plt.show()"
      ],
      "execution_count": 1341,
      "outputs": [
        {
          "output_type": "display_data",
          "data": {
            "image/png": "[encoded data removed]",
            "text/plain": [
              "<Figure size 432x288 with 1 Axes>"
            ]
          },
          "metadata": {
            "tags": [],
            "needs_background": "light"
          }
        }
      ]
    },
    {
      "cell_type": "markdown",
      "metadata": {
        "id": "H4q3ZRIsGVmv"
      },
      "source": [
        "**Task - 3**"
      ]
    },
    {
      "cell_type": "code",
      "metadata": {
        "id": "BHSZQxcWGYLg"
      },
      "source": [
        "A = np.array([[4.7,3.2],[4.9,3.1],[5.0,3.0],[4.6,2.9]])\n",
        "B = np.array([[5.9,3.2],[6.7,3.1],[6,3],[6.2,2.8]])"
      ],
      "execution_count": 1342,
      "outputs": []
    },
    {
      "cell_type": "code",
      "metadata": {
        "id": "AM5yQFRYGacZ"
      },
      "source": [
        "d = pd.DataFrame(columns = ['Cluster A','Cluster B','Distance'])\n",
        "for i in A:\n",
        "  for j in B:\n",
        "    d = d.append(pd.DataFrame([[i,j,format(euclidean(i,j),'.4f')]], columns = d.columns), ignore_index = True)"
      ],
      "execution_count": 1343,
      "outputs": []
    },
    {
      "cell_type": "code",
      "metadata": {
        "colab": {
          "base_uri": "https://localhost:8080/"
        },
        "id": "HkESbko8GcGu",
        "outputId": "2d27be0e-44e5-47a2-f2ba-e0559c3ac62f"
      },
      "source": [
        "print(d)"
      ],
      "execution_count": 1344,
      "outputs": [
        {
          "output_type": "stream",
          "text": [
            "     Cluster A   Cluster B Distance\n",
            "0   [4.7, 3.2]  [5.9, 3.2]   1.2000\n",
            "1   [4.7, 3.2]  [6.7, 3.1]   2.0025\n",
            "2   [4.7, 3.2]  [6.0, 3.0]   1.3153\n",
            "3   [4.7, 3.2]  [6.2, 2.8]   1.5524\n",
            "4   [4.9, 3.1]  [5.9, 3.2]   1.0050\n",
            "5   [4.9, 3.1]  [6.7, 3.1]   1.8000\n",
            "6   [4.9, 3.1]  [6.0, 3.0]   1.1045\n",
            "7   [4.9, 3.1]  [6.2, 2.8]   1.3342\n",
            "8   [5.0, 3.0]  [5.9, 3.2]   0.9220\n",
            "9   [5.0, 3.0]  [6.7, 3.1]   1.7029\n",
            "10  [5.0, 3.0]  [6.0, 3.0]   1.0000\n",
            "11  [5.0, 3.0]  [6.2, 2.8]   1.2166\n",
            "12  [4.6, 2.9]  [5.9, 3.2]   1.3342\n",
            "13  [4.6, 2.9]  [6.7, 3.1]   2.1095\n",
            "14  [4.6, 2.9]  [6.0, 3.0]   1.4036\n",
            "15  [4.6, 2.9]  [6.2, 2.8]   1.6031\n"
          ],
          "name": "stdout"
        }
      ]
    },
    {
      "cell_type": "code",
      "metadata": {
        "colab": {
          "base_uri": "https://localhost:8080/"
        },
        "id": "_q69bHwZGeTM",
        "outputId": "6a8f6a75-989b-4706-d9e4-9d1825673085"
      },
      "source": [
        "total_distance = [float(i) for i in d['Distance'].values]\n",
        "total_distance = sum(total_distance)\n",
        "total_distance"
      ],
      "execution_count": 1345,
      "outputs": [
        {
          "output_type": "execute_result",
          "data": {
            "text/plain": [
              "22.605800000000002"
            ]
          },
          "metadata": {
            "tags": []
          },
          "execution_count": 1345
        }
      ]
    },
    {
      "cell_type": "code",
      "metadata": {
        "colab": {
          "base_uri": "https://localhost:8080/"
        },
        "id": "mDIT1qvqGgU2",
        "outputId": "63c3da48-29ec-44a6-f378-fa24e9b427cd"
      },
      "source": [
        "total_pairs = len(d)\n",
        "total_pairs"
      ],
      "execution_count": 1346,
      "outputs": [
        {
          "output_type": "execute_result",
          "data": {
            "text/plain": [
              "16"
            ]
          },
          "metadata": {
            "tags": []
          },
          "execution_count": 1346
        }
      ]
    },
    {
      "cell_type": "code",
      "metadata": {
        "colab": {
          "base_uri": "https://localhost:8080/"
        },
        "id": "GIC8t2KlGh9b",
        "outputId": "ca2917a9-2a7b-49ca-b2b9-72fdb2bf81e2"
      },
      "source": [
        "average_distance = total_distance / total_pairs\n",
        "average_distance"
      ],
      "execution_count": 1347,
      "outputs": [
        {
          "output_type": "execute_result",
          "data": {
            "text/plain": [
              "1.4128625000000001"
            ]
          },
          "metadata": {
            "tags": []
          },
          "execution_count": 1347
        }
      ]
    }
  ]
}